{
 "cells": [
  {
   "cell_type": "markdown",
   "id": "6642d3e5",
   "metadata": {
    "papermill": {
     "duration": 0.009395,
     "end_time": "2023-05-04T22:52:58.095536",
     "exception": false,
     "start_time": "2023-05-04T22:52:58.086141",
     "status": "completed"
    },
    "tags": []
   },
   "source": [
    "<h1 style=\"font-family:verdana;\"> <center>📓  Audio Age  Capturing Notebook by: The BOIS 📓</center> </h1>\n",
    "<p><center style=\"color:#008080; font-family:cursive;\"></center></p>\n",
    "\n",
    "***"
   ]
  },
  {
   "cell_type": "markdown",
   "id": "d01427eb",
   "metadata": {
    "papermill": {
     "duration": 0.00853,
     "end_time": "2023-05-04T22:52:58.113054",
     "exception": false,
     "start_time": "2023-05-04T22:52:58.104524",
     "status": "completed"
    },
    "tags": []
   },
   "source": [
    "# 1.Importing libraries 📚"
   ]
  },
  {
   "cell_type": "code",
   "execution_count": 1,
   "id": "8a281dca",
   "metadata": {
    "_cell_guid": "b1076dfc-b9ad-4769-8c92-a6c4dae69d19",
    "_uuid": "8f2839f25d086af736a60e9eeb907d3b93b6e0e5",
    "execution": {
     "iopub.execute_input": "2023-05-04T22:52:58.134010Z",
     "iopub.status.busy": "2023-05-04T22:52:58.133521Z",
     "iopub.status.idle": "2023-05-04T22:53:08.669481Z",
     "shell.execute_reply": "2023-05-04T22:53:08.668562Z"
    },
    "papermill": {
     "duration": 10.549915,
     "end_time": "2023-05-04T22:53:08.671667",
     "exception": false,
     "start_time": "2023-05-04T22:52:58.121752",
     "status": "completed"
    },
    "tags": []
   },
   "outputs": [
    {
     "name": "stderr",
     "output_type": "stream",
     "text": [
      "/opt/conda/lib/python3.10/site-packages/scipy/__init__.py:146: UserWarning: A NumPy version >=1.16.5 and <1.23.0 is required for this version of SciPy (detected version 1.23.5\n",
      "  warnings.warn(f\"A NumPy version >={np_minversion} and <{np_maxversion}\"\n"
     ]
    }
   ],
   "source": [
    "\n",
    "import numpy as np # linear algebra\n",
    "import pandas as pd # data processing, CSV file I/O (e.g. pd.read_csv)\n",
    "\n",
    "from scipy.fftpack import fft\n",
    "import librosa\n",
    "# Input data files are available in the read-only \"../input/\" directory\n",
    "# For example, running this (by clicking run or pressing Shift+Enter) will list all files under the input directory\n",
    "import wave\n",
    "import os\n",
    "x = []\n",
    "for dirname, _, filenames in os.walk('/kaggle/input'):\n",
    "    x.append(filenames)\n",
    "\n",
    "import random\n",
    "import torch\n",
    "import soundfile as sf\n",
    "from torch.utils import data\n",
    "import torch.nn as nn\n",
    "import torch.optim as optim\n",
    "import numpy as np \n",
    "import pandas as pd \n",
    "from sklearn.model_selection import train_test_split\n",
    "import os\n",
    "from PIL import Image\n",
    "import matplotlib.pyplot as plt\n",
    "\n",
    "import torch\n",
    "from torch.utils.data import Dataset\n",
    "from torchvision import datasets, models, transforms\n",
    "from torchvision.transforms import ToTensor\n",
    "from torchvision.io import read_image\n",
    "from torch.utils.data import DataLoader\n",
    "import torch.nn as nn\n",
    "import torch.optim as optim\n",
    "import torchvision\n",
    "import time\n",
    "import copy\n",
    "from tqdm import tqdm\n",
    "from torchvision.transforms import InterpolationMode\n",
    "\n",
    "import torchaudio\n",
    "from pathlib import Path\n",
    "import torch.nn.functional as F\n",
    "\n"
   ]
  },
  {
   "cell_type": "markdown",
   "id": "f695a018",
   "metadata": {
    "papermill": {
     "duration": 0.00907,
     "end_time": "2023-05-04T22:53:08.689954",
     "exception": false,
     "start_time": "2023-05-04T22:53:08.680884",
     "status": "completed"
    },
    "tags": []
   },
   "source": [
    " # 2. Data Pre-processing 🏋️‍♂️ "
   ]
  },
  {
   "cell_type": "code",
   "execution_count": 2,
   "id": "8d3d7480",
   "metadata": {
    "execution": {
     "iopub.execute_input": "2023-05-04T22:53:08.709666Z",
     "iopub.status.busy": "2023-05-04T22:53:08.708616Z",
     "iopub.status.idle": "2023-05-04T22:53:08.713514Z",
     "shell.execute_reply": "2023-05-04T22:53:08.712698Z"
    },
    "papermill": {
     "duration": 0.016382,
     "end_time": "2023-05-04T22:53:08.715274",
     "exception": false,
     "start_time": "2023-05-04T22:53:08.698892",
     "status": "completed"
    },
    "tags": []
   },
   "outputs": [],
   "source": [
    "os.makedirs(\"wav\")\n",
    "os.makedirs(\"pics\")"
   ]
  },
  {
   "cell_type": "code",
   "execution_count": 3,
   "id": "9585978b",
   "metadata": {
    "execution": {
     "iopub.execute_input": "2023-05-04T22:53:08.734573Z",
     "iopub.status.busy": "2023-05-04T22:53:08.733736Z",
     "iopub.status.idle": "2023-05-04T22:53:08.738160Z",
     "shell.execute_reply": "2023-05-04T22:53:08.737386Z"
    },
    "papermill": {
     "duration": 0.015732,
     "end_time": "2023-05-04T22:53:08.739845",
     "exception": false,
     "start_time": "2023-05-04T22:53:08.724113",
     "status": "completed"
    },
    "tags": []
   },
   "outputs": [],
   "source": [
    "x = x[4]"
   ]
  },
  {
   "cell_type": "code",
   "execution_count": 4,
   "id": "3107b9fb",
   "metadata": {
    "execution": {
     "iopub.execute_input": "2023-05-04T22:53:08.759028Z",
     "iopub.status.busy": "2023-05-04T22:53:08.758281Z",
     "iopub.status.idle": "2023-05-04T22:53:08.779807Z",
     "shell.execute_reply": "2023-05-04T22:53:08.778966Z"
    },
    "papermill": {
     "duration": 0.033148,
     "end_time": "2023-05-04T22:53:08.781755",
     "exception": false,
     "start_time": "2023-05-04T22:53:08.748607",
     "status": "completed"
    },
    "tags": []
   },
   "outputs": [],
   "source": [
    "traindf = pd.read_csv(\"/kaggle/input/ieeenu-cis-senior-members-nuaih-age-capturing-2/Age_Through_Speech/Age_Through_Speech/train.csv\")\n",
    "testdf = pd.read_csv(\"/kaggle/input/ieeenu-cis-senior-members-nuaih-age-capturing-2/Age_Through_Speech/Age_Through_Speech/test.csv\")"
   ]
  },
  {
   "cell_type": "code",
   "execution_count": 5,
   "id": "0920f1d5",
   "metadata": {
    "execution": {
     "iopub.execute_input": "2023-05-04T22:53:08.801042Z",
     "iopub.status.busy": "2023-05-04T22:53:08.800448Z",
     "iopub.status.idle": "2023-05-04T22:53:08.814682Z",
     "shell.execute_reply": "2023-05-04T22:53:08.813900Z"
    },
    "papermill": {
     "duration": 0.025709,
     "end_time": "2023-05-04T22:53:08.816521",
     "exception": false,
     "start_time": "2023-05-04T22:53:08.790812",
     "status": "completed"
    },
    "tags": []
   },
   "outputs": [],
   "source": [
    "traindf = traindf.query(\"Subject != 4289 and Subject != 4604\")"
   ]
  },
  {
   "cell_type": "code",
   "execution_count": 6,
   "id": "69a1286d",
   "metadata": {
    "execution": {
     "iopub.execute_input": "2023-05-04T22:53:08.835837Z",
     "iopub.status.busy": "2023-05-04T22:53:08.835056Z",
     "iopub.status.idle": "2023-05-04T22:53:08.850430Z",
     "shell.execute_reply": "2023-05-04T22:53:08.849582Z"
    },
    "papermill": {
     "duration": 0.027162,
     "end_time": "2023-05-04T22:53:08.852597",
     "exception": false,
     "start_time": "2023-05-04T22:53:08.825435",
     "status": "completed"
    },
    "tags": []
   },
   "outputs": [
    {
     "data": {
      "text/html": [
       "<div>\n",
       "<style scoped>\n",
       "    .dataframe tbody tr th:only-of-type {\n",
       "        vertical-align: middle;\n",
       "    }\n",
       "\n",
       "    .dataframe tbody tr th {\n",
       "        vertical-align: top;\n",
       "    }\n",
       "\n",
       "    .dataframe thead th {\n",
       "        text-align: right;\n",
       "    }\n",
       "</style>\n",
       "<table border=\"1\" class=\"dataframe\">\n",
       "  <thead>\n",
       "    <tr style=\"text-align: right;\">\n",
       "      <th></th>\n",
       "      <th>Subject</th>\n",
       "      <th>Age</th>\n",
       "    </tr>\n",
       "  </thead>\n",
       "  <tbody>\n",
       "    <tr>\n",
       "      <th>0</th>\n",
       "      <td>4001</td>\n",
       "      <td>19</td>\n",
       "    </tr>\n",
       "    <tr>\n",
       "      <th>1</th>\n",
       "      <td>4002</td>\n",
       "      <td>23</td>\n",
       "    </tr>\n",
       "    <tr>\n",
       "      <th>2</th>\n",
       "      <td>4003</td>\n",
       "      <td>18</td>\n",
       "    </tr>\n",
       "    <tr>\n",
       "      <th>3</th>\n",
       "      <td>4004</td>\n",
       "      <td>23</td>\n",
       "    </tr>\n",
       "    <tr>\n",
       "      <th>4</th>\n",
       "      <td>4005</td>\n",
       "      <td>17</td>\n",
       "    </tr>\n",
       "    <tr>\n",
       "      <th>...</th>\n",
       "      <td>...</td>\n",
       "      <td>...</td>\n",
       "    </tr>\n",
       "    <tr>\n",
       "      <th>362</th>\n",
       "      <td>4689</td>\n",
       "      <td>17</td>\n",
       "    </tr>\n",
       "    <tr>\n",
       "      <th>363</th>\n",
       "      <td>4690</td>\n",
       "      <td>16</td>\n",
       "    </tr>\n",
       "    <tr>\n",
       "      <th>364</th>\n",
       "      <td>4694</td>\n",
       "      <td>18</td>\n",
       "    </tr>\n",
       "    <tr>\n",
       "      <th>365</th>\n",
       "      <td>4695</td>\n",
       "      <td>23</td>\n",
       "    </tr>\n",
       "    <tr>\n",
       "      <th>366</th>\n",
       "      <td>4696</td>\n",
       "      <td>25</td>\n",
       "    </tr>\n",
       "  </tbody>\n",
       "</table>\n",
       "<p>367 rows × 2 columns</p>\n",
       "</div>"
      ],
      "text/plain": [
       "     Subject  Age\n",
       "0       4001   19\n",
       "1       4002   23\n",
       "2       4003   18\n",
       "3       4004   23\n",
       "4       4005   17\n",
       "..       ...  ...\n",
       "362     4689   17\n",
       "363     4690   16\n",
       "364     4694   18\n",
       "365     4695   23\n",
       "366     4696   25\n",
       "\n",
       "[367 rows x 2 columns]"
      ]
     },
     "execution_count": 6,
     "metadata": {},
     "output_type": "execute_result"
    }
   ],
   "source": [
    "traindf.reset_index(inplace=True)\n",
    "traindf.drop('index',axis=1)"
   ]
  },
  {
   "cell_type": "code",
   "execution_count": 7,
   "id": "92fac66a",
   "metadata": {
    "execution": {
     "iopub.execute_input": "2023-05-04T22:53:08.872767Z",
     "iopub.status.busy": "2023-05-04T22:53:08.872006Z",
     "iopub.status.idle": "2023-05-04T22:53:08.877999Z",
     "shell.execute_reply": "2023-05-04T22:53:08.876431Z"
    },
    "papermill": {
     "duration": 0.018067,
     "end_time": "2023-05-04T22:53:08.879846",
     "exception": false,
     "start_time": "2023-05-04T22:53:08.861779",
     "status": "completed"
    },
    "tags": []
   },
   "outputs": [
    {
     "name": "stdout",
     "output_type": "stream",
     "text": [
      "(367, 3) ['index', 'Subject', 'Age']\n",
      "(157, 2) ['Subject', 'Age']\n"
     ]
    }
   ],
   "source": [
    "print(traindf.shape,list(traindf.columns))\n",
    "print(testdf.shape,list(testdf.columns))"
   ]
  },
  {
   "cell_type": "code",
   "execution_count": 8,
   "id": "f22bd212",
   "metadata": {
    "execution": {
     "iopub.execute_input": "2023-05-04T22:53:08.901260Z",
     "iopub.status.busy": "2023-05-04T22:53:08.900494Z",
     "iopub.status.idle": "2023-05-04T22:53:08.904882Z",
     "shell.execute_reply": "2023-05-04T22:53:08.903957Z"
    },
    "papermill": {
     "duration": 0.016748,
     "end_time": "2023-05-04T22:53:08.906816",
     "exception": false,
     "start_time": "2023-05-04T22:53:08.890068",
     "status": "completed"
    },
    "tags": []
   },
   "outputs": [],
   "source": [
    "fpath = \"/kaggle/input/ieeenu-cis-senior-members-nuaih-age-capturing-2/Age_Through_Speech/Age_Through_Speech/one_and_multiple/\""
   ]
  },
  {
   "cell_type": "markdown",
   "id": "9042233a",
   "metadata": {
    "papermill": {
     "duration": 0.008934,
     "end_time": "2023-05-04T22:53:08.924744",
     "exception": false,
     "start_time": "2023-05-04T22:53:08.915810",
     "status": "completed"
    },
    "tags": []
   },
   "source": [
    "# 2.1 Creating and Improving The Dataset ⇡"
   ]
  },
  {
   "cell_type": "code",
   "execution_count": 9,
   "id": "a77444f6",
   "metadata": {
    "execution": {
     "iopub.execute_input": "2023-05-04T22:53:08.944043Z",
     "iopub.status.busy": "2023-05-04T22:53:08.943784Z",
     "iopub.status.idle": "2023-05-04T22:53:08.953573Z",
     "shell.execute_reply": "2023-05-04T22:53:08.952728Z"
    },
    "papermill": {
     "duration": 0.021717,
     "end_time": "2023-05-04T22:53:08.955423",
     "exception": false,
     "start_time": "2023-05-04T22:53:08.933706",
     "status": "completed"
    },
    "tags": []
   },
   "outputs": [],
   "source": [
    "def sample_length(log_mel_spec):\n",
    "    return log_mel_spec.shape[-1]\n",
    "\n",
    "\n",
    "class MyDataset(torch.utils.data.Dataset):\n",
    "    def __init__(self, filenames, labels,path, transforms=None, normalize=False):\n",
    "        assert len(filenames) == len(labels), f'Inconsistent length of filenames and labels.'\n",
    "\n",
    "        self.filenames = filenames\n",
    "        self.labels = labels\n",
    "        self.transforms = transforms\n",
    "        self.normalize = normalize\n",
    "        self.path = path\n",
    "\n",
    "        # Calculate length of clip this dataset will make\n",
    "        self.unit_length = 38\n",
    "\n",
    "        # Test with first file\n",
    "        assert self[0][0].shape[-1] == self.unit_length, f'Check your files, failed to load {filenames[0]}'\n",
    "\n",
    "        # Show basic info.\n",
    "        print(f'Dataset will yield log-mel spectrogram {len(self)} data samples in shape [1, {128}, {self.unit_length}]')\n",
    "\n",
    "    def __len__(self):\n",
    "        return len(self.filenames)\n",
    "    \n",
    "    def __getitem__(self, index):\n",
    "        assert 0 <= index and index < len(self)\n",
    "        \n",
    "        log_mel_spec = np.load(self.path+str(self.filenames[index])+\".npy\")\n",
    "#         log_mel_spec = np.array(log_mel_spec)\n",
    "        \n",
    "        # normalize - instance based\n",
    "        if self.normalize:\n",
    "            _m, _s = log_mel_spec.mean(),  log_mel_spec.std() + np.finfo(np.float64).eps\n",
    "            log_mel_spec = (log_mel_spec - _m) / _s\n",
    "#             print(log_mel_spec)\n",
    "#             print(_m)\n",
    "\n",
    "        # Padding if sample is shorter than expected - both head & tail are filled with 0s\n",
    "        pad_size = self.unit_length - sample_length(log_mel_spec)\n",
    "        if pad_size > 0:\n",
    "            offset = pad_size // 2\n",
    "            log_mel_spec = np.pad(log_mel_spec, ((0, 0), (0, 0), (offset, pad_size - offset)), 'constant')\n",
    "\n",
    "        # Random crop\n",
    "        crop_size = sample_length(log_mel_spec) - self.unit_length\n",
    "        if crop_size > 0:\n",
    "            start = np.random.randint(0, crop_size)\n",
    "            log_mel_spec = log_mel_spec[..., start:start + self.unit_length]\n",
    "\n",
    "        # Apply augmentations\n",
    "        log_mel_spec = torch.Tensor(log_mel_spec)\n",
    "        if self.transforms is not None:\n",
    "            log_mel_spec = self.transforms(log_mel_spec)\n",
    "\n",
    "        return log_mel_spec, self.labels[index]"
   ]
  },
  {
   "cell_type": "code",
   "execution_count": 10,
   "id": "c34e1703",
   "metadata": {
    "execution": {
     "iopub.execute_input": "2023-05-04T22:53:08.975133Z",
     "iopub.status.busy": "2023-05-04T22:53:08.974331Z",
     "iopub.status.idle": "2023-05-04T22:53:08.981042Z",
     "shell.execute_reply": "2023-05-04T22:53:08.980278Z"
    },
    "papermill": {
     "duration": 0.018486,
     "end_time": "2023-05-04T22:53:08.982838",
     "exception": false,
     "start_time": "2023-05-04T22:53:08.964352",
     "status": "completed"
    },
    "tags": []
   },
   "outputs": [],
   "source": [
    "def concat(df):    \n",
    "    count = 0\n",
    "    for i in df[\"Subject\"]:\n",
    "        count+=1\n",
    "\n",
    "        subject = str(i)\n",
    "        outfile = \"/kaggle/working/wav/\"+subject +\".wav\"\n",
    "        infiles = []\n",
    "        if subject in [\"4289\",\"4604\"]:\n",
    "            print(\"stoppppppppppppppppppppppppp\")\n",
    "\n",
    "        for file in x:\n",
    "            if subject in file:\n",
    "                infiles.append(file)\n",
    "\n",
    "        d = [] \n",
    "        for infile in infiles:\n",
    "            w = wave.open(fpath+infile, 'rb')\n",
    "            d.append( [w.getparams(), w.readframes(w.getnframes())] )\n",
    "            w.close()\n",
    "        output = wave.open(outfile, 'wb')\n",
    "        output.setparams(d[0][0])\n",
    "        for i in range(len(d)):\n",
    "            output.writeframes(d[i][1])\n",
    "        output.close()"
   ]
  },
  {
   "cell_type": "code",
   "execution_count": 11,
   "id": "fbdc1e75",
   "metadata": {
    "execution": {
     "iopub.execute_input": "2023-05-04T22:53:09.002523Z",
     "iopub.status.busy": "2023-05-04T22:53:09.001708Z",
     "iopub.status.idle": "2023-05-04T22:53:48.325469Z",
     "shell.execute_reply": "2023-05-04T22:53:48.324440Z"
    },
    "papermill": {
     "duration": 39.335858,
     "end_time": "2023-05-04T22:53:48.327847",
     "exception": false,
     "start_time": "2023-05-04T22:53:08.991989",
     "status": "completed"
    },
    "tags": []
   },
   "outputs": [],
   "source": [
    "concat(traindf)\n",
    "concat(testdf)"
   ]
  },
  {
   "cell_type": "markdown",
   "id": "77494b96",
   "metadata": {
    "papermill": {
     "duration": 0.008885,
     "end_time": "2023-05-04T22:53:48.346670",
     "exception": false,
     "start_time": "2023-05-04T22:53:48.337785",
     "status": "completed"
    },
    "tags": []
   },
   "source": [
    "# 2.3 Creating Spectogram 🔊\n",
    "<center>\n",
    "<img src=\"https://media.giphy.com/media/pv9vqIFuUD44TdnR73/giphy.gif\" width=300>\n",
    "</center>"
   ]
  },
  {
   "cell_type": "code",
   "execution_count": 12,
   "id": "51dc215a",
   "metadata": {
    "execution": {
     "iopub.execute_input": "2023-05-04T22:53:48.366997Z",
     "iopub.status.busy": "2023-05-04T22:53:48.365601Z",
     "iopub.status.idle": "2023-05-04T22:53:48.477249Z",
     "shell.execute_reply": "2023-05-04T22:53:48.476400Z"
    },
    "papermill": {
     "duration": 0.123555,
     "end_time": "2023-05-04T22:53:48.479229",
     "exception": false,
     "start_time": "2023-05-04T22:53:48.355674",
     "status": "completed"
    },
    "tags": []
   },
   "outputs": [],
   "source": [
    "to_mel_spectrogram = torchaudio.transforms.MelSpectrogram(\n",
    "    sample_rate=48000, n_fft = 2048, f_min = 0, f_max= 20000)\n",
    "\n",
    "def spectogram (df):\n",
    "    count = 0\n",
    "    WORK = Path('/kaggle/working/pics/')\n",
    "    for i in df[\"Subject\"]:\n",
    "        count+=1\n",
    "        subject = str(i)\n",
    "        filename = '/kaggle/working/wav/' + subject +\".wav\"\n",
    "        b = WORK/(subject+\".wav\")\n",
    "\n",
    "        y, sr = librosa.load(filename, sr=48000)\n",
    "\n",
    "        # Create mel-spectrogram\n",
    "        S = librosa.feature.melspectrogram(y=y, sr=sr, n_mels=256, fmax=22000, hop_length=256)\n",
    "\n",
    "        # Convert power spectrogram to dB scale (log scale)\n",
    "        S_dB = librosa.power_to_db(S, ref=np.max)\n",
    "\n",
    "\n",
    "\n",
    "        x = b.name.replace('.wav', '.npy')\n",
    "        x =  WORK/x\n",
    "        # Save as PNG file\n",
    "        np.save(x, S_dB)\n",
    "#         plt.close()\n"
   ]
  },
  {
   "cell_type": "code",
   "execution_count": 13,
   "id": "f8f73890",
   "metadata": {
    "execution": {
     "iopub.execute_input": "2023-05-04T22:53:48.499723Z",
     "iopub.status.busy": "2023-05-04T22:53:48.498398Z",
     "iopub.status.idle": "2023-05-04T22:55:10.358393Z",
     "shell.execute_reply": "2023-05-04T22:55:10.354783Z"
    },
    "papermill": {
     "duration": 81.875739,
     "end_time": "2023-05-04T22:55:10.364016",
     "exception": false,
     "start_time": "2023-05-04T22:53:48.488277",
     "status": "completed"
    },
    "tags": []
   },
   "outputs": [],
   "source": [
    "spectogram(traindf)\n",
    "spectogram(testdf)"
   ]
  },
  {
   "cell_type": "markdown",
   "id": "551df2dd",
   "metadata": {
    "papermill": {
     "duration": 0.0235,
     "end_time": "2023-05-04T22:55:10.450640",
     "exception": false,
     "start_time": "2023-05-04T22:55:10.427140",
     "status": "completed"
    },
    "tags": []
   },
   "source": [
    "# 2.4 Loading Dataset ↻\n",
    "* Batch size\n",
    "* data Loaders\n"
   ]
  },
  {
   "cell_type": "code",
   "execution_count": 14,
   "id": "34fdbeb1",
   "metadata": {
    "execution": {
     "iopub.execute_input": "2023-05-04T22:55:10.491533Z",
     "iopub.status.busy": "2023-05-04T22:55:10.490732Z",
     "iopub.status.idle": "2023-05-04T22:55:10.590159Z",
     "shell.execute_reply": "2023-05-04T22:55:10.589202Z"
    },
    "papermill": {
     "duration": 0.11982,
     "end_time": "2023-05-04T22:55:10.592113",
     "exception": false,
     "start_time": "2023-05-04T22:55:10.472293",
     "status": "completed"
    },
    "tags": []
   },
   "outputs": [
    {
     "name": "stdout",
     "output_type": "stream",
     "text": [
      "Dataset will yield log-mel spectrogram 367 data samples in shape [1, 128, 38]\n",
      "Dataset will yield log-mel spectrogram 157 data samples in shape [1, 128, 38]\n"
     ]
    }
   ],
   "source": [
    "data_path = \"/kaggle/working/pics/\"\n",
    "batch_size = 8\n",
    "test_batch = 64\n",
    "\n",
    "trans = transforms.Compose([\n",
    "        transforms.Resize((224,224)),\n",
    "        transforms.ToTensor()\n",
    "])\n",
    "\n",
    "train_dataset = MyDataset(traindf[\"Subject\"],traindf[\"Age\"],data_path, normalize=True)\n",
    "# trainloader = data.DataLoader(dataset=trainset,batch_size=batch_size,shuffle = True,drop_last=False,num_workers = 2)\n",
    "testset = MyDataset(testdf[\"Subject\"],testdf[\"Age\"],data_path, normalize=True)\n",
    "# testloader = data.DataLoader(dataset=testset,batch_size=batch_size,shuffle = False,drop_last=False,num_workers = 2)\n",
    "\n",
    "# croset =  MyDataset(crossdf[\"Subject\"],crossdf[\"Age\"],data_path)\n",
    "# crossloader = data.DataLoader(dataset=croset,batch_size=batch_size,shuffle = False,drop_last=False,num_workers = 2)\n",
    "train_size = int(0.8 * len(train_dataset))\n",
    "val_size = len(train_dataset) - train_size\n",
    "trainset, valset = torch.utils.data.random_split(train_dataset, [train_size, val_size])\n",
    "\n",
    "trainloader = torch.utils.data.DataLoader(trainset, batch_size=batch_size,\n",
    "                                          shuffle=True, num_workers=2)\n",
    "\n",
    "valloader = torch.utils.data.DataLoader(valset, batch_size=test_batch,\n",
    "                                         shuffle=False, num_workers=2)\n",
    "\n",
    "testloader = torch.utils.data.DataLoader(testset, batch_size=test_batch,\n",
    "                                         shuffle=False, num_workers=2)\n",
    "\n",
    "image_datasets = {'train':trainset,'val':valset}\n",
    "\n",
    "dataloaders_dict = {'train':trainloader,'val':valloader}\n",
    "\n",
    "device = torch.device(\"cuda:0\" if torch.cuda.is_available() else \"cpu\")"
   ]
  },
  {
   "cell_type": "markdown",
   "id": "65156bfa",
   "metadata": {
    "papermill": {
     "duration": 0.009542,
     "end_time": "2023-05-04T22:55:10.611084",
     "exception": false,
     "start_time": "2023-05-04T22:55:10.601542",
     "status": "completed"
    },
    "tags": []
   },
   "source": [
    "# 3. Model Creation/Defintion 🧩🛠️ <a class='anchor' id='top'></a>\n",
    "## (All Models used are based on Resnet) \n",
    "1. [Custom Model (Boody)](#Boody)\n",
    "2. [Custom Model (Nour)](#Nour)\n",
    "3. [Cutome Model (Multiple Sources)](#Source)"
   ]
  },
  {
   "cell_type": "markdown",
   "id": "f433e482",
   "metadata": {
    "papermill": {
     "duration": 0.008841,
     "end_time": "2023-05-04T22:55:10.629111",
     "exception": false,
     "start_time": "2023-05-04T22:55:10.620270",
     "status": "completed"
    },
    "tags": []
   },
   "source": [
    "# 3.1 Custom Model(Boody💪) <a class='anchor' id='Boody'></a>"
   ]
  },
  {
   "cell_type": "code",
   "execution_count": 15,
   "id": "cfe0a855",
   "metadata": {
    "execution": {
     "iopub.execute_input": "2023-05-04T22:55:10.648813Z",
     "iopub.status.busy": "2023-05-04T22:55:10.648035Z",
     "iopub.status.idle": "2023-05-04T22:55:10.655710Z",
     "shell.execute_reply": "2023-05-04T22:55:10.654836Z"
    },
    "papermill": {
     "duration": 0.019449,
     "end_time": "2023-05-04T22:55:10.657523",
     "exception": false,
     "start_time": "2023-05-04T22:55:10.638074",
     "status": "completed"
    },
    "tags": []
   },
   "outputs": [],
   "source": [
    "class ResidualBlock(nn.Module):\n",
    "    def __init__(self, in_channels, out_channels, stride = 1, downsample = None):\n",
    "        super(ResidualBlock, self).__init__()\n",
    "        self.conv1 = nn.Sequential(\n",
    "                        nn.Conv2d(in_channels, out_channels, kernel_size = 3, stride = stride, padding = 1),\n",
    "                        nn.BatchNorm2d(out_channels),\n",
    "                        nn.ReLU())\n",
    "        self.conv2 = nn.Sequential(\n",
    "                        nn.Conv2d(out_channels, out_channels, kernel_size = 3, stride = 1, padding = 1),\n",
    "                        nn.BatchNorm2d(out_channels))\n",
    "        self.downsample = downsample\n",
    "        self.relu = nn.ReLU()\n",
    "        self.out_channels = out_channels\n",
    "        \n",
    "    def forward(self, x):\n",
    "        residual = x\n",
    "        out = self.conv1(x)\n",
    "        out = self.conv2(out)\n",
    "        if self.downsample:\n",
    "            residual = self.downsample(x)\n",
    "        out += residual\n",
    "        out = self.relu(out)\n",
    "        return out"
   ]
  },
  {
   "cell_type": "code",
   "execution_count": 16,
   "id": "296f1a23",
   "metadata": {
    "execution": {
     "iopub.execute_input": "2023-05-04T22:55:10.676621Z",
     "iopub.status.busy": "2023-05-04T22:55:10.676349Z",
     "iopub.status.idle": "2023-05-04T22:55:10.686309Z",
     "shell.execute_reply": "2023-05-04T22:55:10.685476Z"
    },
    "papermill": {
     "duration": 0.021642,
     "end_time": "2023-05-04T22:55:10.688143",
     "exception": false,
     "start_time": "2023-05-04T22:55:10.666501",
     "status": "completed"
    },
    "tags": []
   },
   "outputs": [],
   "source": [
    "class ResNet(nn.Module):\n",
    "    def __init__(self, block, layers, num_classes = 1):\n",
    "        super(ResNet, self).__init__()\n",
    "        self.inplanes = 1\n",
    "        self.conv1 = nn.Sequential(\n",
    "                        nn.Conv2d(1, 38, kernel_size = 3, stride = 1, padding = 1),\n",
    "                        nn.BatchNorm2d(38),\n",
    "                        nn.ReLU())\n",
    "        self.maxpool = nn.MaxPool2d(kernel_size = 2, stride = 2, padding = 1)\n",
    "        self.layer0 = self._make_layer(block, 64, layers[0], stride = 1)\n",
    "        self.layer1 = self._make_layer(block, 128, layers[1], stride = 2)\n",
    "        self.layer2 = self._make_layer(block, 256, layers[2], stride = 2)\n",
    "        self.layer3 = self._make_layer(block, 512, layers[3], stride = 2)\n",
    "        self.avgpool = nn.AvgPool2d(2, stride=1)\n",
    "        self.fc = nn.Linear(63488, num_classes)\n",
    "        \n",
    "    def _make_layer(self, block, planes, blocks, stride=1):\n",
    "        downsample = None\n",
    "        if stride != 1 or self.inplanes != planes:\n",
    "            \n",
    "            downsample = nn.Sequential(\n",
    "                nn.Conv2d(self.inplanes, planes, kernel_size=1, stride=stride),\n",
    "                nn.BatchNorm2d(planes),\n",
    "            )\n",
    "        layers = []\n",
    "        layers.append(block(self.inplanes, planes, stride, downsample))\n",
    "        self.inplanes = planes\n",
    "        for i in range(1, blocks):\n",
    "            layers.append(block(self.inplanes, planes))\n",
    "\n",
    "        return nn.Sequential(*layers)\n",
    "    \n",
    "    \n",
    "    def forward(self, x):\n",
    "#         x = self.conv1(x)\n",
    "#         x = self.maxpool(x)\n",
    "        x = torch.unsqueeze(x, dim=1)\n",
    "        x = self.layer0(x)\n",
    "        x = self.layer1(x)\n",
    "        x = self.layer2(x)\n",
    "        x = self.layer3(x)\n",
    "\n",
    "        x = self.avgpool(x)\n",
    "        x = x.view(x.size(0), -1)\n",
    "        x = self.fc(x)\n",
    "\n",
    "        return x"
   ]
  },
  {
   "cell_type": "markdown",
   "id": "cd7f2870",
   "metadata": {
    "papermill": {
     "duration": 0.008652,
     "end_time": "2023-05-04T22:55:10.705848",
     "exception": false,
     "start_time": "2023-05-04T22:55:10.697196",
     "status": "completed"
    },
    "tags": []
   },
   "source": [
    "# 3.2 Custom Model(Nour💡)<a class='anchor' id='Nour'></a>"
   ]
  },
  {
   "cell_type": "code",
   "execution_count": 17,
   "id": "55c0be26",
   "metadata": {
    "execution": {
     "iopub.execute_input": "2023-05-04T22:55:10.725496Z",
     "iopub.status.busy": "2023-05-04T22:55:10.725225Z",
     "iopub.status.idle": "2023-05-04T22:55:10.734933Z",
     "shell.execute_reply": "2023-05-04T22:55:10.734209Z"
    },
    "papermill": {
     "duration": 0.021429,
     "end_time": "2023-05-04T22:55:10.736619",
     "exception": false,
     "start_time": "2023-05-04T22:55:10.715190",
     "status": "completed"
    },
    "tags": []
   },
   "outputs": [],
   "source": [
    "class TransitionLayer(nn.Sequential):\n",
    "    def __init__(self, in_channels, out_channels):\n",
    "        super(TransitionLayer,self).__init__()\n",
    "        self.bn = nn.BatchNorm2d(in_channels)\n",
    "        self.conv = nn.Conv2d(in_channels, out_channels, kernel_size=1, bias=False)\n",
    "        self.relu = nn.ReLU(inplace=True)\n",
    "        self.pool = nn.AvgPool2d(kernel_size=2, stride=2)\n",
    "        \n",
    "class SemiTrans(nn.Sequential):\n",
    "    def __init__(self, in_channels, out_channels):\n",
    "        super(SemiTrans,self).__init__()\n",
    "        self.bn = nn.BatchNorm2d(in_channels)\n",
    "        self.conv = nn.Conv2d(in_channels, out_channels, kernel_size=1, bias=False)\n",
    "        self.relu = nn.ReLU(inplace=True)\n",
    "import torch.nn as nn\n",
    "\n",
    "class DenseBlock(nn.Module):\n",
    "    def __init__(self, in_channels, growth_rate, num_layers):\n",
    "        super(DenseBlock, self).__init__()\n",
    "        self.layers = nn.ModuleList()\n",
    "        for i in range(num_layers):\n",
    "            layer = nn.Sequential(\n",
    "                nn.BatchNorm2d(in_channels + i*growth_rate),\n",
    "                nn.ReLU(inplace=True),\n",
    "                nn.Conv2d(in_channels + i*growth_rate, growth_rate, kernel_size=3, padding=1, bias=False)\n",
    "            )\n",
    "            self.layers.append(layer)\n",
    "\n",
    "    def forward(self, x):\n",
    "        features = [x]\n",
    "        for layer in self.layers:\n",
    "            new_features = layer(torch.cat(features, dim=1))\n",
    "            features.append(new_features)\n",
    "        return torch.cat(features, dim=1)\n"
   ]
  },
  {
   "cell_type": "code",
   "execution_count": 18,
   "id": "c74c8230",
   "metadata": {
    "execution": {
     "iopub.execute_input": "2023-05-04T22:55:10.755727Z",
     "iopub.status.busy": "2023-05-04T22:55:10.755488Z",
     "iopub.status.idle": "2023-05-04T22:55:10.763187Z",
     "shell.execute_reply": "2023-05-04T22:55:10.762267Z"
    },
    "papermill": {
     "duration": 0.019398,
     "end_time": "2023-05-04T22:55:10.765072",
     "exception": false,
     "start_time": "2023-05-04T22:55:10.745674",
     "status": "completed"
    },
    "tags": []
   },
   "outputs": [],
   "source": [
    "class FunNET(nn.Module):\n",
    "    def __init__(self):\n",
    "        super().__init__()\n",
    "        self.conv = nn.Conv2d(1, 16, 3, 1, 1, bias=False)\n",
    "        \n",
    "        self.d1 = DenseBlock(16, 8, 6)\n",
    "        self.st1 = SemiTrans(64, 32)\n",
    "        \n",
    "        self.d2 = DenseBlock(32, 8, 4)\n",
    "        self.t1 = TransitionLayer(64, 32)\n",
    "        \n",
    "        self.d3 = DenseBlock(32, 8, 4)\n",
    "        self.d4 = DenseBlock(64, 32, 6)\n",
    "        self.t2 = TransitionLayer(256, 128)\n",
    "        \n",
    "        self.d5 = DenseBlock(128, 32, 4)\n",
    "        self.st2 = SemiTrans(256, 128)\n",
    "        self.d6 = DenseBlock(128, 64, 2)\n",
    "        \n",
    "        self.av = nn.AvgPool2d(8)\n",
    "        self.fc = nn.Linear(2048, 1)\n",
    "\n",
    "    def forward(self, x):\n",
    "        x = torch.unsqueeze(x,dim=1)\n",
    "        x = self.conv(x)\n",
    "        x = self.d1(x)\n",
    "        x = self.st1(x)\n",
    "        x = self.d2(x)\n",
    "        x = self.t1(x)\n",
    "        x = self.d3(x)\n",
    "        x = self.d4(x)\n",
    "        x = self.t2(x)\n",
    "        x = self.d5(x)\n",
    "        x = self.st2(x)\n",
    "        x = self.d6(x)\n",
    "\n",
    "        x = self.av(x)\n",
    "        x = torch.flatten(x, 1)\n",
    "        x = self.fc(x)\n",
    "#         x = F.softmax(x, dim=1)\n",
    "        return x"
   ]
  },
  {
   "cell_type": "markdown",
   "id": "794a5b68",
   "metadata": {
    "papermill": {
     "duration": 0.008898,
     "end_time": "2023-05-04T22:55:10.782833",
     "exception": false,
     "start_time": "2023-05-04T22:55:10.773935",
     "status": "completed"
    },
    "tags": []
   },
   "source": [
    "# 3.3 Custom Model(Multiple Sources) <a class='anchor' id='Source'></a>"
   ]
  },
  {
   "cell_type": "code",
   "execution_count": 19,
   "id": "0a41b738",
   "metadata": {
    "execution": {
     "iopub.execute_input": "2023-05-04T22:55:10.801705Z",
     "iopub.status.busy": "2023-05-04T22:55:10.801468Z",
     "iopub.status.idle": "2023-05-04T22:55:10.809339Z",
     "shell.execute_reply": "2023-05-04T22:55:10.808393Z"
    },
    "papermill": {
     "duration": 0.019508,
     "end_time": "2023-05-04T22:55:10.811279",
     "exception": false,
     "start_time": "2023-05-04T22:55:10.791771",
     "status": "completed"
    },
    "tags": []
   },
   "outputs": [],
   "source": [
    "class Net(nn.Module):\n",
    "    def __init__(self, n_classes):\n",
    "        super(Net, self).__init__()\n",
    "        self.conv1 = nn.Conv2d(1, 38, 3, 1)\n",
    "        self.conv2 = nn.Conv2d(38, 64, 3, 1)\n",
    "        self.conv3 = nn.Conv2d(64, 128, 3, 1)\n",
    "        self.conv4 = nn.Conv2d(128, 256, 3, 1)\n",
    "        self.dropout1 = nn.Dropout(0.25)\n",
    "        self.dropout2 = nn.Dropout(0.5)\n",
    "        self.pooling = nn.AdaptiveAvgPool2d((8, 8)) # extended\n",
    "        self.fc1 = nn.Linear(16384, 128)\n",
    "        self.fc2 = nn.Linear(128, n_classes)\n",
    "\n",
    "    def forward(self, x):\n",
    "        x = torch.unsqueeze(x, dim=1)\n",
    "        x = self.conv1(x)\n",
    "        x = F.relu(x)\n",
    "        x = self.conv2(x)\n",
    "        x = F.relu(x)\n",
    "        x = F.max_pool2d(x, 2)\n",
    "        x = self.dropout1(x)\n",
    "\n",
    "        x = self.conv3(x)\n",
    "        x = F.relu(x)\n",
    "        x = self.conv4(x)\n",
    "        x = F.relu(x)\n",
    "        x = F.max_pool2d(x, 2)\n",
    "        x = self.dropout1(x)\n",
    "        x = self.pooling(x)\n",
    "\n",
    "        x = torch.flatten(x, 1)\n",
    "        x = self.fc1(x)\n",
    "        x = F.relu(x)\n",
    "        x = self.dropout2(x)\n",
    "        x = self.fc2(x)\n",
    "        return x"
   ]
  },
  {
   "cell_type": "markdown",
   "id": "08fbd582",
   "metadata": {
    "papermill": {
     "duration": 0.00868,
     "end_time": "2023-05-04T22:55:10.829192",
     "exception": false,
     "start_time": "2023-05-04T22:55:10.820512",
     "status": "completed"
    },
    "tags": []
   },
   "source": [
    "# 4. Defining the training Fucntion 🚆"
   ]
  },
  {
   "cell_type": "code",
   "execution_count": 20,
   "id": "23d86669",
   "metadata": {
    "execution": {
     "iopub.execute_input": "2023-05-04T22:55:10.847995Z",
     "iopub.status.busy": "2023-05-04T22:55:10.847735Z",
     "iopub.status.idle": "2023-05-04T22:55:10.858712Z",
     "shell.execute_reply": "2023-05-04T22:55:10.857935Z"
    },
    "papermill": {
     "duration": 0.022411,
     "end_time": "2023-05-04T22:55:10.860453",
     "exception": false,
     "start_time": "2023-05-04T22:55:10.838042",
     "status": "completed"
    },
    "tags": []
   },
   "outputs": [],
   "source": [
    "def train_model(model, dataloaders, criterion, optimizer, num_epochs=25):\n",
    "    since = time.time()\n",
    "\n",
    "    val_acc_history = []\n",
    "    \n",
    "    best_model_wts = copy.deepcopy(model.state_dict())\n",
    "    best_acc = 10000000\n",
    "    train_acc_history = []\n",
    "    #hl, = plt.plot([], [])\n",
    "\n",
    "    for epoch in range(num_epochs):\n",
    "        print('Epoch {}/{}'.format(epoch, num_epochs - 1))\n",
    "        print('-' * 10)\n",
    "\n",
    "        # Each epoch has a training and validation phase\n",
    "        for phase in ['train', 'val']:\n",
    "            if phase == 'train':\n",
    "                model.train()  # Set model to training mode\n",
    "            else:\n",
    "                model.eval()   # Set model to evaluate mode\n",
    "\n",
    "            running_loss = 0.0\n",
    "            running_corrects = 0\n",
    "\n",
    "            # Iterate over data.\n",
    "            for inputs, labels in dataloaders[phase]:\n",
    "#                 labels= labels.sub(labels,1)\n",
    "                inputs = inputs.float()\n",
    "                labels = labels.float()\n",
    "                inputs = inputs.to(device)\n",
    "                labels = labels.to(device)\n",
    "                labels= labels.unsqueeze(1)\n",
    "                # zero the parameter gradients\n",
    "                optimizer.zero_grad()\n",
    "\n",
    "                # forward\n",
    "                # track history if only in train\n",
    "                with torch.set_grad_enabled(phase == 'train'):\n",
    "                    # Get model outputs and calculate loss\n",
    "                    # Special case for inception because in training it has an auxiliary output. In train\n",
    "                    #   mode we calculate the loss by summing the final output and the auxiliary output\n",
    "                    #   but in testing we only consider the final output.\n",
    "\n",
    "                    outputs = model(inputs)\n",
    "#                     print(outputs)\n",
    "#                     print(labels)\n",
    "                    loss = criterion(outputs, labels)\n",
    "#                     print(loss)\n",
    "                    _, preds = torch.max(outputs, 1)\n",
    "\n",
    "                    # backward + optimize only if in training phase\n",
    "                    if phase == 'train':\n",
    "                        loss.backward()\n",
    "                        optimizer.step()\n",
    "                        scheduler.step()\n",
    "\n",
    "                # statistics\n",
    "                running_loss += loss.item() * inputs.size(0)\n",
    "                running_corrects += torch.sum(preds == labels.data)\n",
    "\n",
    "            epoch_loss = running_loss / len(dataloaders[phase].dataset)\n",
    "            epoch_acc = running_corrects.double() / len(dataloaders[phase].dataset)\n",
    "            \n",
    "\n",
    "            print('{} Loss: {:.4f} Acc: {:.4f}'.format(phase, epoch_loss, epoch_acc))\n",
    "\n",
    "            # deep copy the model\n",
    "            if phase == 'val' and epoch_loss < best_acc:\n",
    "                best_acc = epoch_loss\n",
    "                best_model_wts = copy.deepcopy(model.state_dict())\n",
    "            if phase == 'val':\n",
    "                val_acc_history.append(float(epoch_loss))\n",
    "            else:\n",
    "                train_acc_history.append(float(epoch_loss))\n",
    "\n",
    "        print()\n",
    "        #update_line(hl,train_acc_history,val_acc_history)\n",
    "\n",
    "    time_elapsed = time.time() - since\n",
    "    print('Training complete in {:.0f}m {:.0f}s'.format(time_elapsed // 60, time_elapsed % 60))\n",
    "    print('Best val Acc: {:4f}'.format(best_acc))\n",
    "\n",
    "    # load best model weights\n",
    "    model.load_state_dict(best_model_wts)\n",
    "    return model, val_acc_history,train_acc_history"
   ]
  },
  {
   "cell_type": "markdown",
   "id": "6f56b187",
   "metadata": {
    "papermill": {
     "duration": 0.008833,
     "end_time": "2023-05-04T22:55:10.878069",
     "exception": false,
     "start_time": "2023-05-04T22:55:10.869236",
     "status": "completed"
    },
    "tags": []
   },
   "source": [
    "# 4.1 Defining the Plot Function 📈"
   ]
  },
  {
   "cell_type": "code",
   "execution_count": 21,
   "id": "b6a33584",
   "metadata": {
    "execution": {
     "iopub.execute_input": "2023-05-04T22:55:10.897881Z",
     "iopub.status.busy": "2023-05-04T22:55:10.897179Z",
     "iopub.status.idle": "2023-05-04T22:55:10.902837Z",
     "shell.execute_reply": "2023-05-04T22:55:10.902086Z"
    },
    "papermill": {
     "duration": 0.017437,
     "end_time": "2023-05-04T22:55:10.904641",
     "exception": false,
     "start_time": "2023-05-04T22:55:10.887204",
     "status": "completed"
    },
    "tags": []
   },
   "outputs": [],
   "source": [
    "def plot(train_acc,test_acc): # plotting the line 1 points\n",
    "    plt.plot([i+1 for i in range(len(train_acc))], train_acc, label = \"Train\")\n",
    "    # plotting the line 2 points\n",
    "    plt.plot([i+1 for i in range(len(test_acc))], test_acc, label = \"Val\")\n",
    "\n",
    "    # naming the x axis\n",
    "    plt.xlabel('epoch')\n",
    "    # naming the y axis\n",
    "    plt.ylabel('MSE')\n",
    "    # giving a title to my graph\n",
    "    plt.title('Train Val MSE')\n",
    "\n",
    "    # show a legend on the plot\n",
    "    plt.legend()\n",
    "\n",
    "    # function to show the plot\n",
    "    plt.show()"
   ]
  },
  {
   "cell_type": "code",
   "execution_count": 22,
   "id": "3c11db8c",
   "metadata": {
    "execution": {
     "iopub.execute_input": "2023-05-04T22:55:10.923856Z",
     "iopub.status.busy": "2023-05-04T22:55:10.923175Z",
     "iopub.status.idle": "2023-05-04T22:55:10.927421Z",
     "shell.execute_reply": "2023-05-04T22:55:10.926618Z"
    },
    "papermill": {
     "duration": 0.015648,
     "end_time": "2023-05-04T22:55:10.929189",
     "exception": false,
     "start_time": "2023-05-04T22:55:10.913541",
     "status": "completed"
    },
    "tags": []
   },
   "outputs": [],
   "source": [
    "num_epochs = 60"
   ]
  },
  {
   "cell_type": "markdown",
   "id": "3cd4609c",
   "metadata": {
    "papermill": {
     "duration": 0.008745,
     "end_time": "2023-05-04T22:55:10.946941",
     "exception": false,
     "start_time": "2023-05-04T22:55:10.938196",
     "status": "completed"
    },
    "tags": []
   },
   "source": [
    "# 4.2 Training the models and Ploting The results🥊\n",
    "* Training and Ploting for each model"
   ]
  },
  {
   "cell_type": "code",
   "execution_count": 23,
   "id": "296ce333",
   "metadata": {
    "execution": {
     "iopub.execute_input": "2023-05-04T22:55:10.966308Z",
     "iopub.status.busy": "2023-05-04T22:55:10.965604Z",
     "iopub.status.idle": "2023-05-04T23:01:55.852725Z",
     "shell.execute_reply": "2023-05-04T23:01:55.850943Z"
    },
    "papermill": {
     "duration": 404.899315,
     "end_time": "2023-05-04T23:01:55.855065",
     "exception": false,
     "start_time": "2023-05-04T22:55:10.955750",
     "status": "completed"
    },
    "tags": []
   },
   "outputs": [
    {
     "name": "stdout",
     "output_type": "stream",
     "text": [
      "Epoch 0/59\n",
      "----------\n",
      "train Loss: 269.3197 Acc: 0.0000\n",
      "val Loss: 62.9481 Acc: 0.0000\n",
      "\n",
      "Epoch 1/59\n",
      "----------\n",
      "train Loss: 69.5215 Acc: 0.0000\n",
      "val Loss: 23.7908 Acc: 0.0000\n",
      "\n",
      "Epoch 2/59\n",
      "----------\n",
      "train Loss: 52.7205 Acc: 0.0000\n",
      "val Loss: 58.4563 Acc: 0.0000\n",
      "\n",
      "Epoch 3/59\n",
      "----------\n",
      "train Loss: 65.4851 Acc: 0.0000\n",
      "val Loss: 21.8797 Acc: 0.0000\n",
      "\n",
      "Epoch 4/59\n",
      "----------\n",
      "train Loss: 51.6188 Acc: 0.0000\n",
      "val Loss: 21.7872 Acc: 0.0000\n",
      "\n",
      "Epoch 5/59\n",
      "----------\n",
      "train Loss: 50.0489 Acc: 0.0000\n",
      "val Loss: 37.5909 Acc: 0.0000\n",
      "\n",
      "Epoch 6/59\n",
      "----------\n",
      "train Loss: 60.6553 Acc: 0.0000\n",
      "val Loss: 55.3843 Acc: 0.0000\n",
      "\n",
      "Epoch 7/59\n",
      "----------\n",
      "train Loss: 56.8772 Acc: 0.0000\n",
      "val Loss: 34.1257 Acc: 0.0000\n",
      "\n",
      "Epoch 8/59\n",
      "----------\n",
      "train Loss: 50.7234 Acc: 0.0000\n",
      "val Loss: 24.1307 Acc: 0.0000\n",
      "\n",
      "Epoch 9/59\n",
      "----------\n",
      "train Loss: 77.2034 Acc: 0.0000\n",
      "val Loss: 43.6352 Acc: 0.0000\n",
      "\n",
      "Epoch 10/59\n",
      "----------\n",
      "train Loss: 50.0154 Acc: 0.0000\n",
      "val Loss: 24.7153 Acc: 0.0000\n",
      "\n",
      "Epoch 11/59\n",
      "----------\n",
      "train Loss: 47.5930 Acc: 0.0000\n",
      "val Loss: 22.8122 Acc: 0.0000\n",
      "\n",
      "Epoch 12/59\n",
      "----------\n",
      "train Loss: 50.9002 Acc: 0.0000\n",
      "val Loss: 26.1114 Acc: 0.0000\n",
      "\n",
      "Epoch 13/59\n",
      "----------\n",
      "train Loss: 50.1141 Acc: 0.0000\n",
      "val Loss: 28.7476 Acc: 0.0000\n",
      "\n",
      "Epoch 14/59\n",
      "----------\n",
      "train Loss: 45.4316 Acc: 0.0000\n",
      "val Loss: 23.3576 Acc: 0.0000\n",
      "\n",
      "Epoch 15/59\n",
      "----------\n",
      "train Loss: 48.4118 Acc: 0.0000\n",
      "val Loss: 29.3637 Acc: 0.0000\n",
      "\n",
      "Epoch 16/59\n",
      "----------\n",
      "train Loss: 58.5650 Acc: 0.0000\n",
      "val Loss: 21.1358 Acc: 0.0000\n",
      "\n",
      "Epoch 17/59\n",
      "----------\n",
      "train Loss: 45.5824 Acc: 0.0000\n",
      "val Loss: 22.1671 Acc: 0.0000\n",
      "\n",
      "Epoch 18/59\n",
      "----------\n",
      "train Loss: 45.7054 Acc: 0.0000\n",
      "val Loss: 35.7757 Acc: 0.0000\n",
      "\n",
      "Epoch 19/59\n",
      "----------\n",
      "train Loss: 46.2049 Acc: 0.0000\n",
      "val Loss: 25.2421 Acc: 0.0000\n",
      "\n",
      "Epoch 20/59\n",
      "----------\n",
      "train Loss: 49.0273 Acc: 0.0000\n",
      "val Loss: 22.1527 Acc: 0.0000\n",
      "\n",
      "Epoch 21/59\n",
      "----------\n",
      "train Loss: 44.7989 Acc: 0.0000\n",
      "val Loss: 56.3747 Acc: 0.0000\n",
      "\n",
      "Epoch 22/59\n",
      "----------\n",
      "train Loss: 56.1005 Acc: 0.0000\n",
      "val Loss: 31.2905 Acc: 0.0000\n",
      "\n",
      "Epoch 23/59\n",
      "----------\n",
      "train Loss: 45.2175 Acc: 0.0000\n",
      "val Loss: 24.3155 Acc: 0.0000\n",
      "\n",
      "Epoch 24/59\n",
      "----------\n",
      "train Loss: 48.2176 Acc: 0.0000\n",
      "val Loss: 20.9928 Acc: 0.0000\n",
      "\n",
      "Epoch 25/59\n",
      "----------\n",
      "train Loss: 48.5892 Acc: 0.0000\n",
      "val Loss: 21.5025 Acc: 0.0000\n",
      "\n",
      "Epoch 26/59\n",
      "----------\n",
      "train Loss: 59.1362 Acc: 0.0000\n",
      "val Loss: 24.9088 Acc: 0.0000\n",
      "\n",
      "Epoch 27/59\n",
      "----------\n",
      "train Loss: 44.5682 Acc: 0.0000\n",
      "val Loss: 21.5772 Acc: 0.0000\n",
      "\n",
      "Epoch 28/59\n",
      "----------\n",
      "train Loss: 47.9937 Acc: 0.0000\n",
      "val Loss: 27.7751 Acc: 0.0000\n",
      "\n",
      "Epoch 29/59\n",
      "----------\n",
      "train Loss: 56.6321 Acc: 0.0000\n",
      "val Loss: 26.0084 Acc: 0.0000\n",
      "\n",
      "Epoch 30/59\n",
      "----------\n",
      "train Loss: 49.3930 Acc: 0.0000\n",
      "val Loss: 32.8282 Acc: 0.0000\n",
      "\n",
      "Epoch 31/59\n",
      "----------\n",
      "train Loss: 49.4401 Acc: 0.0000\n",
      "val Loss: 22.0783 Acc: 0.0000\n",
      "\n",
      "Epoch 32/59\n",
      "----------\n",
      "train Loss: 51.4176 Acc: 0.0000\n",
      "val Loss: 26.5237 Acc: 0.0000\n",
      "\n",
      "Epoch 33/59\n",
      "----------\n",
      "train Loss: 54.7982 Acc: 0.0000\n",
      "val Loss: 22.3632 Acc: 0.0000\n",
      "\n",
      "Epoch 34/59\n",
      "----------\n",
      "train Loss: 47.7162 Acc: 0.0000\n",
      "val Loss: 41.3610 Acc: 0.0000\n",
      "\n",
      "Epoch 35/59\n",
      "----------\n",
      "train Loss: 58.8824 Acc: 0.0000\n",
      "val Loss: 50.9225 Acc: 0.0000\n",
      "\n",
      "Epoch 36/59\n",
      "----------\n",
      "train Loss: 48.7736 Acc: 0.0000\n",
      "val Loss: 61.8084 Acc: 0.0000\n",
      "\n",
      "Epoch 37/59\n",
      "----------\n",
      "train Loss: 43.3672 Acc: 0.0000\n",
      "val Loss: 250.9429 Acc: 0.0000\n",
      "\n",
      "Epoch 38/59\n",
      "----------\n",
      "train Loss: 48.3764 Acc: 0.0000\n",
      "val Loss: 22.1673 Acc: 0.0000\n",
      "\n",
      "Epoch 39/59\n",
      "----------\n",
      "train Loss: 49.4059 Acc: 0.0000\n",
      "val Loss: 23.4175 Acc: 0.0000\n",
      "\n",
      "Epoch 40/59\n",
      "----------\n",
      "train Loss: 42.8165 Acc: 0.0000\n",
      "val Loss: 40.1739 Acc: 0.0000\n",
      "\n",
      "Epoch 41/59\n",
      "----------\n",
      "train Loss: 47.2242 Acc: 0.0000\n",
      "val Loss: 23.0261 Acc: 0.0000\n",
      "\n",
      "Epoch 42/59\n",
      "----------\n",
      "train Loss: 45.5619 Acc: 0.0000\n",
      "val Loss: 36.5507 Acc: 0.0000\n",
      "\n",
      "Epoch 43/59\n",
      "----------\n",
      "train Loss: 42.8784 Acc: 0.0000\n",
      "val Loss: 36.2012 Acc: 0.0000\n",
      "\n",
      "Epoch 44/59\n",
      "----------\n",
      "train Loss: 44.6768 Acc: 0.0000\n",
      "val Loss: 73.9711 Acc: 0.0000\n",
      "\n",
      "Epoch 45/59\n",
      "----------\n",
      "train Loss: 48.7268 Acc: 0.0000\n",
      "val Loss: 31.4908 Acc: 0.0000\n",
      "\n",
      "Epoch 46/59\n",
      "----------\n",
      "train Loss: 46.5916 Acc: 0.0000\n",
      "val Loss: 27.2496 Acc: 0.0000\n",
      "\n",
      "Epoch 47/59\n",
      "----------\n",
      "train Loss: 42.5651 Acc: 0.0000\n",
      "val Loss: 29.0591 Acc: 0.0000\n",
      "\n",
      "Epoch 48/59\n",
      "----------\n",
      "train Loss: 45.5048 Acc: 0.0000\n",
      "val Loss: 33.3238 Acc: 0.0000\n",
      "\n",
      "Epoch 49/59\n",
      "----------\n",
      "train Loss: 43.3405 Acc: 0.0000\n",
      "val Loss: 27.4126 Acc: 0.0000\n",
      "\n",
      "Epoch 50/59\n",
      "----------\n",
      "train Loss: 43.9408 Acc: 0.0000\n",
      "val Loss: 24.9447 Acc: 0.0000\n",
      "\n",
      "Epoch 51/59\n",
      "----------\n",
      "train Loss: 44.8578 Acc: 0.0000\n",
      "val Loss: 97.5481 Acc: 0.0000\n",
      "\n",
      "Epoch 52/59\n",
      "----------\n",
      "train Loss: 49.4192 Acc: 0.0000\n",
      "val Loss: 21.8388 Acc: 0.0000\n",
      "\n",
      "Epoch 53/59\n",
      "----------\n",
      "train Loss: 43.7860 Acc: 0.0000\n",
      "val Loss: 23.9547 Acc: 0.0000\n",
      "\n",
      "Epoch 54/59\n",
      "----------\n",
      "train Loss: 44.0427 Acc: 0.0000\n",
      "val Loss: 20.1320 Acc: 0.0000\n",
      "\n",
      "Epoch 55/59\n",
      "----------\n",
      "train Loss: 46.4824 Acc: 0.0000\n",
      "val Loss: 23.9549 Acc: 0.0000\n",
      "\n",
      "Epoch 56/59\n",
      "----------\n",
      "train Loss: 47.3747 Acc: 0.0000\n",
      "val Loss: 22.9841 Acc: 0.0000\n",
      "\n",
      "Epoch 57/59\n",
      "----------\n",
      "train Loss: 44.5173 Acc: 0.0000\n",
      "val Loss: 23.4525 Acc: 0.0000\n",
      "\n",
      "Epoch 58/59\n",
      "----------\n",
      "train Loss: 45.8255 Acc: 0.0000\n",
      "val Loss: 352.9306 Acc: 0.0000\n",
      "\n",
      "Epoch 59/59\n",
      "----------\n",
      "train Loss: 45.6013 Acc: 0.0000\n",
      "val Loss: 28.0153 Acc: 0.0000\n",
      "\n",
      "Training complete in 6m 41s\n",
      "Best val Acc: 20.131971\n"
     ]
    }
   ],
   "source": [
    "model_resnet = ResNet(ResidualBlock, [3, 4, 6, 8])\n",
    "model_resnet = model_resnet.to(device)\n",
    "criterion = nn.MSELoss()\n",
    "optimizer = optim.Adam(model_resnet.parameters(), lr=0.0005)\n",
    "scheduler = optim.lr_scheduler.CosineAnnealingLR(optimizer, T_max=num_epochs)\n",
    "model_resnet, val_hist, train_hist = train_model(model_resnet, dataloaders_dict, criterion, optimizer, num_epochs=num_epochs)"
   ]
  },
  {
   "cell_type": "code",
   "execution_count": 24,
   "id": "4082a23f",
   "metadata": {
    "execution": {
     "iopub.execute_input": "2023-05-04T23:01:55.889378Z",
     "iopub.status.busy": "2023-05-04T23:01:55.888364Z",
     "iopub.status.idle": "2023-05-04T23:01:56.171706Z",
     "shell.execute_reply": "2023-05-04T23:01:56.170802Z"
    },
    "papermill": {
     "duration": 0.302161,
     "end_time": "2023-05-04T23:01:56.173812",
     "exception": false,
     "start_time": "2023-05-04T23:01:55.871651",
     "status": "completed"
    },
    "tags": []
   },
   "outputs": [
    {
     "data": {
      "image/png": "[encoded data removed]",
      "text/plain": [
       "<Figure size 640x480 with 1 Axes>"
      ]
     },
     "metadata": {},
     "output_type": "display_data"
    }
   ],
   "source": [
    "train = []\n",
    "val  = []\n",
    "for i in train_hist:\n",
    "    train.append(float(i))\n",
    "for i in val_hist:\n",
    "    val.append(float(i))\n",
    "\n",
    "plot(train,val)"
   ]
  },
  {
   "cell_type": "code",
   "execution_count": 25,
   "id": "1c4a8d3c",
   "metadata": {
    "execution": {
     "iopub.execute_input": "2023-05-04T23:01:56.208833Z",
     "iopub.status.busy": "2023-05-04T23:01:56.207440Z",
     "iopub.status.idle": "2023-05-04T23:05:28.642544Z",
     "shell.execute_reply": "2023-05-04T23:05:28.640167Z"
    },
    "papermill": {
     "duration": 212.454494,
     "end_time": "2023-05-04T23:05:28.645177",
     "exception": false,
     "start_time": "2023-05-04T23:01:56.190683",
     "status": "completed"
    },
    "tags": []
   },
   "outputs": [
    {
     "name": "stdout",
     "output_type": "stream",
     "text": [
      "Epoch 0/59\n",
      "----------\n",
      "train Loss: 84.3594 Acc: 0.0000\n",
      "val Loss: 30.0333 Acc: 0.0000\n",
      "\n",
      "Epoch 1/59\n",
      "----------\n",
      "train Loss: 45.7689 Acc: 0.0000\n",
      "val Loss: 24.2001 Acc: 0.0000\n",
      "\n",
      "Epoch 2/59\n",
      "----------\n",
      "train Loss: 45.4708 Acc: 0.0000\n",
      "val Loss: 23.4197 Acc: 0.0000\n",
      "\n",
      "Epoch 3/59\n",
      "----------\n",
      "train Loss: 48.3200 Acc: 0.0000\n",
      "val Loss: 24.7419 Acc: 0.0000\n",
      "\n",
      "Epoch 4/59\n",
      "----------\n",
      "train Loss: 45.5314 Acc: 0.0000\n",
      "val Loss: 23.4013 Acc: 0.0000\n",
      "\n",
      "Epoch 5/59\n",
      "----------\n",
      "train Loss: 44.8528 Acc: 0.0000\n",
      "val Loss: 23.8648 Acc: 0.0000\n",
      "\n",
      "Epoch 6/59\n",
      "----------\n",
      "train Loss: 56.9707 Acc: 0.0000\n",
      "val Loss: 39.9033 Acc: 0.0000\n",
      "\n",
      "Epoch 7/59\n",
      "----------\n",
      "train Loss: 46.9262 Acc: 0.0000\n",
      "val Loss: 25.0126 Acc: 0.0000\n",
      "\n",
      "Epoch 8/59\n",
      "----------\n",
      "train Loss: 44.8546 Acc: 0.0000\n",
      "val Loss: 23.0939 Acc: 0.0000\n",
      "\n",
      "Epoch 9/59\n",
      "----------\n",
      "train Loss: 48.6510 Acc: 0.0000\n",
      "val Loss: 28.1595 Acc: 0.0000\n",
      "\n",
      "Epoch 10/59\n",
      "----------\n",
      "train Loss: 44.9919 Acc: 0.0000\n",
      "val Loss: 21.7134 Acc: 0.0000\n",
      "\n",
      "Epoch 11/59\n",
      "----------\n",
      "train Loss: 43.3485 Acc: 0.0000\n",
      "val Loss: 25.4176 Acc: 0.0000\n",
      "\n",
      "Epoch 12/59\n",
      "----------\n",
      "train Loss: 50.9144 Acc: 0.0000\n",
      "val Loss: 24.5924 Acc: 0.0000\n",
      "\n",
      "Epoch 13/59\n",
      "----------\n",
      "train Loss: 46.4799 Acc: 0.0000\n",
      "val Loss: 21.4573 Acc: 0.0000\n",
      "\n",
      "Epoch 14/59\n",
      "----------\n",
      "train Loss: 43.1147 Acc: 0.0000\n",
      "val Loss: 22.8112 Acc: 0.0000\n",
      "\n",
      "Epoch 15/59\n",
      "----------\n",
      "train Loss: 44.1001 Acc: 0.0000\n",
      "val Loss: 25.3238 Acc: 0.0000\n",
      "\n",
      "Epoch 16/59\n",
      "----------\n",
      "train Loss: 45.4168 Acc: 0.0000\n",
      "val Loss: 22.3635 Acc: 0.0000\n",
      "\n",
      "Epoch 17/59\n",
      "----------\n",
      "train Loss: 41.9413 Acc: 0.0000\n",
      "val Loss: 23.3563 Acc: 0.0000\n",
      "\n",
      "Epoch 18/59\n",
      "----------\n",
      "train Loss: 43.8000 Acc: 0.0000\n",
      "val Loss: 23.0770 Acc: 0.0000\n",
      "\n",
      "Epoch 19/59\n",
      "----------\n",
      "train Loss: 44.3152 Acc: 0.0000\n",
      "val Loss: 23.0693 Acc: 0.0000\n",
      "\n",
      "Epoch 20/59\n",
      "----------\n",
      "train Loss: 41.5605 Acc: 0.0000\n",
      "val Loss: 25.9728 Acc: 0.0000\n",
      "\n",
      "Epoch 21/59\n",
      "----------\n",
      "train Loss: 42.3141 Acc: 0.0000\n",
      "val Loss: 20.5267 Acc: 0.0000\n",
      "\n",
      "Epoch 22/59\n",
      "----------\n",
      "train Loss: 49.3884 Acc: 0.0000\n",
      "val Loss: 37.7191 Acc: 0.0000\n",
      "\n",
      "Epoch 23/59\n",
      "----------\n",
      "train Loss: 46.6379 Acc: 0.0000\n",
      "val Loss: 25.6561 Acc: 0.0000\n",
      "\n",
      "Epoch 24/59\n",
      "----------\n",
      "train Loss: 42.1745 Acc: 0.0000\n",
      "val Loss: 24.2958 Acc: 0.0000\n",
      "\n",
      "Epoch 25/59\n",
      "----------\n",
      "train Loss: 45.7720 Acc: 0.0000\n",
      "val Loss: 30.6117 Acc: 0.0000\n",
      "\n",
      "Epoch 26/59\n",
      "----------\n",
      "train Loss: 45.7638 Acc: 0.0000\n",
      "val Loss: 20.7484 Acc: 0.0000\n",
      "\n",
      "Epoch 27/59\n",
      "----------\n",
      "train Loss: 41.0089 Acc: 0.0000\n",
      "val Loss: 19.7171 Acc: 0.0000\n",
      "\n",
      "Epoch 28/59\n",
      "----------\n",
      "train Loss: 44.5756 Acc: 0.0000\n",
      "val Loss: 21.6848 Acc: 0.0000\n",
      "\n",
      "Epoch 29/59\n",
      "----------\n",
      "train Loss: 44.9236 Acc: 0.0000\n",
      "val Loss: 30.1961 Acc: 0.0000\n",
      "\n",
      "Epoch 30/59\n",
      "----------\n",
      "train Loss: 46.5534 Acc: 0.0000\n",
      "val Loss: 23.1588 Acc: 0.0000\n",
      "\n",
      "Epoch 31/59\n",
      "----------\n",
      "train Loss: 42.9919 Acc: 0.0000\n",
      "val Loss: 19.7894 Acc: 0.0000\n",
      "\n",
      "Epoch 32/59\n",
      "----------\n",
      "train Loss: 45.8559 Acc: 0.0000\n",
      "val Loss: 21.4750 Acc: 0.0000\n",
      "\n",
      "Epoch 33/59\n",
      "----------\n",
      "train Loss: 43.3167 Acc: 0.0000\n",
      "val Loss: 22.3818 Acc: 0.0000\n",
      "\n",
      "Epoch 34/59\n",
      "----------\n",
      "train Loss: 42.3341 Acc: 0.0000\n",
      "val Loss: 27.9315 Acc: 0.0000\n",
      "\n",
      "Epoch 35/59\n",
      "----------\n",
      "train Loss: 46.1839 Acc: 0.0000\n",
      "val Loss: 50.3035 Acc: 0.0000\n",
      "\n",
      "Epoch 36/59\n",
      "----------\n",
      "train Loss: 47.8356 Acc: 0.0000\n",
      "val Loss: 20.9365 Acc: 0.0000\n",
      "\n",
      "Epoch 37/59\n",
      "----------\n",
      "train Loss: 41.9088 Acc: 0.0000\n",
      "val Loss: 24.6686 Acc: 0.0000\n",
      "\n",
      "Epoch 38/59\n",
      "----------\n",
      "train Loss: 39.8901 Acc: 0.0000\n",
      "val Loss: 39.2488 Acc: 0.0000\n",
      "\n",
      "Epoch 39/59\n",
      "----------\n",
      "train Loss: 53.3535 Acc: 0.0000\n",
      "val Loss: 31.7096 Acc: 0.0000\n",
      "\n",
      "Epoch 40/59\n",
      "----------\n",
      "train Loss: 43.8782 Acc: 0.0000\n",
      "val Loss: 20.8539 Acc: 0.0000\n",
      "\n",
      "Epoch 41/59\n",
      "----------\n",
      "train Loss: 43.3377 Acc: 0.0000\n",
      "val Loss: 21.6670 Acc: 0.0000\n",
      "\n",
      "Epoch 42/59\n",
      "----------\n",
      "train Loss: 42.2677 Acc: 0.0000\n",
      "val Loss: 32.0147 Acc: 0.0000\n",
      "\n",
      "Epoch 43/59\n",
      "----------\n",
      "train Loss: 44.8305 Acc: 0.0000\n",
      "val Loss: 21.5854 Acc: 0.0000\n",
      "\n",
      "Epoch 44/59\n",
      "----------\n",
      "train Loss: 43.0734 Acc: 0.0000\n",
      "val Loss: 19.0662 Acc: 0.0000\n",
      "\n",
      "Epoch 45/59\n",
      "----------\n",
      "train Loss: 45.0112 Acc: 0.0000\n",
      "val Loss: 30.3131 Acc: 0.0000\n",
      "\n",
      "Epoch 46/59\n",
      "----------\n",
      "train Loss: 44.1147 Acc: 0.0000\n",
      "val Loss: 23.2228 Acc: 0.0000\n",
      "\n",
      "Epoch 47/59\n",
      "----------\n",
      "train Loss: 40.9926 Acc: 0.0000\n",
      "val Loss: 23.3207 Acc: 0.0000\n",
      "\n",
      "Epoch 48/59\n",
      "----------\n",
      "train Loss: 43.3692 Acc: 0.0000\n",
      "val Loss: 29.3872 Acc: 0.0000\n",
      "\n",
      "Epoch 49/59\n",
      "----------\n",
      "train Loss: 43.9361 Acc: 0.0000\n",
      "val Loss: 23.9271 Acc: 0.0000\n",
      "\n",
      "Epoch 50/59\n",
      "----------\n",
      "train Loss: 42.3792 Acc: 0.0000\n",
      "val Loss: 24.8201 Acc: 0.0000\n",
      "\n",
      "Epoch 51/59\n",
      "----------\n",
      "train Loss: 42.4488 Acc: 0.0000\n",
      "val Loss: 20.9333 Acc: 0.0000\n",
      "\n",
      "Epoch 52/59\n",
      "----------\n",
      "train Loss: 43.0801 Acc: 0.0000\n",
      "val Loss: 23.9167 Acc: 0.0000\n",
      "\n",
      "Epoch 53/59\n",
      "----------\n",
      "train Loss: 41.7145 Acc: 0.0000\n",
      "val Loss: 21.0243 Acc: 0.0000\n",
      "\n",
      "Epoch 54/59\n",
      "----------\n",
      "train Loss: 43.0518 Acc: 0.0000\n",
      "val Loss: 23.6369 Acc: 0.0000\n",
      "\n",
      "Epoch 55/59\n",
      "----------\n",
      "train Loss: 46.2733 Acc: 0.0000\n",
      "val Loss: 21.2969 Acc: 0.0000\n",
      "\n",
      "Epoch 56/59\n",
      "----------\n",
      "train Loss: 41.6717 Acc: 0.0000\n",
      "val Loss: 21.8305 Acc: 0.0000\n",
      "\n",
      "Epoch 57/59\n",
      "----------\n",
      "train Loss: 43.6827 Acc: 0.0000\n",
      "val Loss: 21.0019 Acc: 0.0000\n",
      "\n",
      "Epoch 58/59\n",
      "----------\n",
      "train Loss: 44.1710 Acc: 0.0000\n",
      "val Loss: 20.3139 Acc: 0.0000\n",
      "\n",
      "Epoch 59/59\n",
      "----------\n",
      "train Loss: 40.9842 Acc: 0.0000\n",
      "val Loss: 24.0054 Acc: 0.0000\n",
      "\n",
      "Training complete in 3m 32s\n",
      "Best val Acc: 19.066235\n"
     ]
    }
   ],
   "source": [
    "model_fun = FunNET()\n",
    "model_fun = model_fun.to(device)\n",
    "criterion = nn.MSELoss()\n",
    "optimizer_fun = optim.Adam(model_fun.parameters(), lr=0.001)\n",
    "scheduler = optim.lr_scheduler.CosineAnnealingLR(optimizer_fun, T_max=num_epochs)\n",
    "model_fun, val_hist, train_hist = train_model(model_fun, dataloaders_dict, criterion, optimizer_fun, num_epochs=num_epochs)"
   ]
  },
  {
   "cell_type": "code",
   "execution_count": 26,
   "id": "6e939450",
   "metadata": {
    "execution": {
     "iopub.execute_input": "2023-05-04T23:05:28.692727Z",
     "iopub.status.busy": "2023-05-04T23:05:28.691817Z",
     "iopub.status.idle": "2023-05-04T23:05:28.950736Z",
     "shell.execute_reply": "2023-05-04T23:05:28.949847Z"
    },
    "papermill": {
     "duration": 0.284521,
     "end_time": "2023-05-04T23:05:28.952749",
     "exception": false,
     "start_time": "2023-05-04T23:05:28.668228",
     "status": "completed"
    },
    "tags": []
   },
   "outputs": [
    {
     "data": {
      "image/png": "[encoded data removed]",
      "text/plain": [
       "<Figure size 640x480 with 1 Axes>"
      ]
     },
     "metadata": {},
     "output_type": "display_data"
    }
   ],
   "source": [
    "train = []\n",
    "val  = []\n",
    "for i in train_hist:\n",
    "    train.append(float(i))\n",
    "for i in val_hist:\n",
    "    val.append(float(i))\n",
    "\n",
    "plot(train,val)"
   ]
  },
  {
   "cell_type": "code",
   "execution_count": 27,
   "id": "c46231d8",
   "metadata": {
    "execution": {
     "iopub.execute_input": "2023-05-04T23:05:29.002530Z",
     "iopub.status.busy": "2023-05-04T23:05:29.002186Z",
     "iopub.status.idle": "2023-05-04T23:09:01.835961Z",
     "shell.execute_reply": "2023-05-04T23:09:01.834420Z"
    },
    "papermill": {
     "duration": 212.861308,
     "end_time": "2023-05-04T23:09:01.838369",
     "exception": false,
     "start_time": "2023-05-04T23:05:28.977061",
     "status": "completed"
    },
    "tags": []
   },
   "outputs": [
    {
     "name": "stdout",
     "output_type": "stream",
     "text": [
      "Epoch 0/59\n",
      "----------\n",
      "train Loss: 43.6550 Acc: 0.0000\n",
      "val Loss: 21.5664 Acc: 0.0000\n",
      "\n",
      "Epoch 1/59\n",
      "----------\n",
      "train Loss: 42.6678 Acc: 0.0000\n",
      "val Loss: 20.4653 Acc: 0.0000\n",
      "\n",
      "Epoch 2/59\n",
      "----------\n",
      "train Loss: 43.7097 Acc: 0.0000\n",
      "val Loss: 25.0743 Acc: 0.0000\n",
      "\n",
      "Epoch 3/59\n",
      "----------\n",
      "train Loss: 45.3663 Acc: 0.0000\n",
      "val Loss: 33.2476 Acc: 0.0000\n",
      "\n",
      "Epoch 4/59\n",
      "----------\n",
      "train Loss: 42.5219 Acc: 0.0000\n",
      "val Loss: 21.6670 Acc: 0.0000\n",
      "\n",
      "Epoch 5/59\n",
      "----------\n",
      "train Loss: 40.9648 Acc: 0.0000\n",
      "val Loss: 22.8390 Acc: 0.0000\n",
      "\n",
      "Epoch 6/59\n",
      "----------\n",
      "train Loss: 44.2372 Acc: 0.0000\n",
      "val Loss: 22.6567 Acc: 0.0000\n",
      "\n",
      "Epoch 7/59\n",
      "----------\n",
      "train Loss: 43.8438 Acc: 0.0000\n",
      "val Loss: 21.2947 Acc: 0.0000\n",
      "\n",
      "Epoch 8/59\n",
      "----------\n",
      "train Loss: 41.6179 Acc: 0.0000\n",
      "val Loss: 20.0984 Acc: 0.0000\n",
      "\n",
      "Epoch 9/59\n",
      "----------\n",
      "train Loss: 44.9047 Acc: 0.0000\n",
      "val Loss: 23.0368 Acc: 0.0000\n",
      "\n",
      "Epoch 10/59\n",
      "----------\n",
      "train Loss: 41.6579 Acc: 0.0000\n",
      "val Loss: 22.4198 Acc: 0.0000\n",
      "\n",
      "Epoch 11/59\n",
      "----------\n",
      "train Loss: 40.0990 Acc: 0.0000\n",
      "val Loss: 21.0853 Acc: 0.0000\n",
      "\n",
      "Epoch 12/59\n",
      "----------\n",
      "train Loss: 42.5719 Acc: 0.0000\n",
      "val Loss: 30.2160 Acc: 0.0000\n",
      "\n",
      "Epoch 13/59\n",
      "----------\n",
      "train Loss: 42.4324 Acc: 0.0000\n",
      "val Loss: 23.1239 Acc: 0.0000\n",
      "\n",
      "Epoch 14/59\n",
      "----------\n",
      "train Loss: 43.1153 Acc: 0.0000\n",
      "val Loss: 21.7122 Acc: 0.0000\n",
      "\n",
      "Epoch 15/59\n",
      "----------\n",
      "train Loss: 40.7399 Acc: 0.0000\n",
      "val Loss: 20.4877 Acc: 0.0000\n",
      "\n",
      "Epoch 16/59\n",
      "----------\n",
      "train Loss: 43.1981 Acc: 0.0000\n",
      "val Loss: 23.6059 Acc: 0.0000\n",
      "\n",
      "Epoch 17/59\n",
      "----------\n",
      "train Loss: 42.6340 Acc: 0.0000\n",
      "val Loss: 23.4752 Acc: 0.0000\n",
      "\n",
      "Epoch 18/59\n",
      "----------\n",
      "train Loss: 43.1400 Acc: 0.0000\n",
      "val Loss: 23.9264 Acc: 0.0000\n",
      "\n",
      "Epoch 19/59\n",
      "----------\n",
      "train Loss: 41.4514 Acc: 0.0000\n",
      "val Loss: 20.2422 Acc: 0.0000\n",
      "\n",
      "Epoch 20/59\n",
      "----------\n",
      "train Loss: 42.7405 Acc: 0.0000\n",
      "val Loss: 23.4552 Acc: 0.0000\n",
      "\n",
      "Epoch 21/59\n",
      "----------\n",
      "train Loss: 42.5182 Acc: 0.0000\n",
      "val Loss: 21.3598 Acc: 0.0000\n",
      "\n",
      "Epoch 22/59\n",
      "----------\n",
      "train Loss: 43.7090 Acc: 0.0000\n",
      "val Loss: 31.1560 Acc: 0.0000\n",
      "\n",
      "Epoch 23/59\n",
      "----------\n",
      "train Loss: 41.1395 Acc: 0.0000\n",
      "val Loss: 22.7791 Acc: 0.0000\n",
      "\n",
      "Epoch 24/59\n",
      "----------\n",
      "train Loss: 40.7856 Acc: 0.0000\n",
      "val Loss: 21.0606 Acc: 0.0000\n",
      "\n",
      "Epoch 25/59\n",
      "----------\n",
      "train Loss: 43.4811 Acc: 0.0000\n",
      "val Loss: 22.2543 Acc: 0.0000\n",
      "\n",
      "Epoch 26/59\n",
      "----------\n",
      "train Loss: 44.1557 Acc: 0.0000\n",
      "val Loss: 22.6899 Acc: 0.0000\n",
      "\n",
      "Epoch 27/59\n",
      "----------\n",
      "train Loss: 41.3335 Acc: 0.0000\n",
      "val Loss: 23.0532 Acc: 0.0000\n",
      "\n",
      "Epoch 28/59\n",
      "----------\n",
      "train Loss: 43.2124 Acc: 0.0000\n",
      "val Loss: 22.7429 Acc: 0.0000\n",
      "\n",
      "Epoch 29/59\n",
      "----------\n",
      "train Loss: 43.0377 Acc: 0.0000\n",
      "val Loss: 27.0537 Acc: 0.0000\n",
      "\n",
      "Epoch 30/59\n",
      "----------\n",
      "train Loss: 42.7126 Acc: 0.0000\n",
      "val Loss: 24.5639 Acc: 0.0000\n",
      "\n",
      "Epoch 31/59\n",
      "----------\n",
      "train Loss: 43.3401 Acc: 0.0000\n",
      "val Loss: 22.2734 Acc: 0.0000\n",
      "\n",
      "Epoch 32/59\n",
      "----------\n",
      "train Loss: 43.8053 Acc: 0.0000\n",
      "val Loss: 30.6537 Acc: 0.0000\n",
      "\n",
      "Epoch 33/59\n",
      "----------\n",
      "train Loss: 46.0848 Acc: 0.0000\n",
      "val Loss: 22.1629 Acc: 0.0000\n",
      "\n",
      "Epoch 34/59\n",
      "----------\n",
      "train Loss: 39.5691 Acc: 0.0000\n",
      "val Loss: 22.0570 Acc: 0.0000\n",
      "\n",
      "Epoch 35/59\n",
      "----------\n",
      "train Loss: 44.8602 Acc: 0.0000\n",
      "val Loss: 22.7787 Acc: 0.0000\n",
      "\n",
      "Epoch 36/59\n",
      "----------\n",
      "train Loss: 41.7258 Acc: 0.0000\n",
      "val Loss: 23.1645 Acc: 0.0000\n",
      "\n",
      "Epoch 37/59\n",
      "----------\n",
      "train Loss: 39.7954 Acc: 0.0000\n",
      "val Loss: 22.8818 Acc: 0.0000\n",
      "\n",
      "Epoch 38/59\n",
      "----------\n",
      "train Loss: 43.4156 Acc: 0.0000\n",
      "val Loss: 22.4250 Acc: 0.0000\n",
      "\n",
      "Epoch 39/59\n",
      "----------\n",
      "train Loss: 42.8110 Acc: 0.0000\n",
      "val Loss: 22.3885 Acc: 0.0000\n",
      "\n",
      "Epoch 40/59\n",
      "----------\n",
      "train Loss: 41.3372 Acc: 0.0000\n",
      "val Loss: 21.1044 Acc: 0.0000\n",
      "\n",
      "Epoch 41/59\n",
      "----------\n",
      "train Loss: 41.9755 Acc: 0.0000\n",
      "val Loss: 23.9380 Acc: 0.0000\n",
      "\n",
      "Epoch 42/59\n",
      "----------\n",
      "train Loss: 48.7136 Acc: 0.0000\n",
      "val Loss: 21.7963 Acc: 0.0000\n",
      "\n",
      "Epoch 43/59\n",
      "----------\n",
      "train Loss: 42.0022 Acc: 0.0000\n",
      "val Loss: 20.2619 Acc: 0.0000\n",
      "\n",
      "Epoch 44/59\n",
      "----------\n",
      "train Loss: 40.9703 Acc: 0.0000\n",
      "val Loss: 27.1212 Acc: 0.0000\n",
      "\n",
      "Epoch 45/59\n",
      "----------\n",
      "train Loss: 42.6244 Acc: 0.0000\n",
      "val Loss: 23.7647 Acc: 0.0000\n",
      "\n",
      "Epoch 46/59\n",
      "----------\n",
      "train Loss: 41.8513 Acc: 0.0000\n",
      "val Loss: 24.1758 Acc: 0.0000\n",
      "\n",
      "Epoch 47/59\n",
      "----------\n",
      "train Loss: 40.3195 Acc: 0.0000\n",
      "val Loss: 22.2293 Acc: 0.0000\n",
      "\n",
      "Epoch 48/59\n",
      "----------\n",
      "train Loss: 40.3303 Acc: 0.0000\n",
      "val Loss: 22.9567 Acc: 0.0000\n",
      "\n",
      "Epoch 49/59\n",
      "----------\n",
      "train Loss: 43.0180 Acc: 0.0000\n",
      "val Loss: 27.7168 Acc: 0.0000\n",
      "\n",
      "Epoch 50/59\n",
      "----------\n",
      "train Loss: 39.1702 Acc: 0.0000\n",
      "val Loss: 21.4860 Acc: 0.0000\n",
      "\n",
      "Epoch 51/59\n",
      "----------\n",
      "train Loss: 41.9594 Acc: 0.0000\n",
      "val Loss: 24.5122 Acc: 0.0000\n",
      "\n",
      "Epoch 52/59\n",
      "----------\n",
      "train Loss: 43.0172 Acc: 0.0000\n",
      "val Loss: 25.0031 Acc: 0.0000\n",
      "\n",
      "Epoch 53/59\n",
      "----------\n",
      "train Loss: 42.7355 Acc: 0.0000\n",
      "val Loss: 22.8452 Acc: 0.0000\n",
      "\n",
      "Epoch 54/59\n",
      "----------\n",
      "train Loss: 40.5343 Acc: 0.0000\n",
      "val Loss: 23.9014 Acc: 0.0000\n",
      "\n",
      "Epoch 55/59\n",
      "----------\n",
      "train Loss: 40.7948 Acc: 0.0000\n",
      "val Loss: 21.8765 Acc: 0.0000\n",
      "\n",
      "Epoch 56/59\n",
      "----------\n",
      "train Loss: 40.3357 Acc: 0.0000\n",
      "val Loss: 22.7644 Acc: 0.0000\n",
      "\n",
      "Epoch 57/59\n",
      "----------\n",
      "train Loss: 41.2570 Acc: 0.0000\n",
      "val Loss: 34.4047 Acc: 0.0000\n",
      "\n",
      "Epoch 58/59\n",
      "----------\n",
      "train Loss: 45.4164 Acc: 0.0000\n",
      "val Loss: 19.6266 Acc: 0.0000\n",
      "\n",
      "Epoch 59/59\n",
      "----------\n",
      "train Loss: 41.9412 Acc: 0.0000\n",
      "val Loss: 23.1604 Acc: 0.0000\n",
      "\n",
      "Training complete in 3m 33s\n",
      "Best val Acc: 19.626559\n"
     ]
    }
   ],
   "source": [
    "model_net = Net(1)\n",
    "model_net = model_fun.to(device)\n",
    "criterion = nn.MSELoss()\n",
    "optimizer = optim.Adam(model_net.parameters(), lr=0.0005)\n",
    "scheduler = optim.lr_scheduler.CosineAnnealingLR(optimizer, T_max=num_epochs)\n",
    "model_net, val_hist, train_hist = train_model(model_net, dataloaders_dict, criterion, optimizer, num_epochs=num_epochs)"
   ]
  },
  {
   "cell_type": "code",
   "execution_count": 28,
   "id": "fcd8fbd7",
   "metadata": {
    "execution": {
     "iopub.execute_input": "2023-05-04T23:09:01.899871Z",
     "iopub.status.busy": "2023-05-04T23:09:01.898878Z",
     "iopub.status.idle": "2023-05-04T23:09:02.155988Z",
     "shell.execute_reply": "2023-05-04T23:09:02.155086Z"
    },
    "papermill": {
     "duration": 0.289813,
     "end_time": "2023-05-04T23:09:02.158053",
     "exception": false,
     "start_time": "2023-05-04T23:09:01.868240",
     "status": "completed"
    },
    "tags": []
   },
   "outputs": [
    {
     "data": {
      "image/png": "[encoded data removed]",
      "text/plain": [
       "<Figure size 640x480 with 1 Axes>"
      ]
     },
     "metadata": {},
     "output_type": "display_data"
    }
   ],
   "source": [
    "train = []\n",
    "val  = []\n",
    "for i in train_hist:\n",
    "    train.append(float(i))\n",
    "for i in val_hist:\n",
    "    val.append(float(i))\n",
    "\n",
    "plot(train,val)"
   ]
  },
  {
   "cell_type": "markdown",
   "id": "488f5939",
   "metadata": {
    "papermill": {
     "duration": 0.028708,
     "end_time": "2023-05-04T23:09:02.216551",
     "exception": false,
     "start_time": "2023-05-04T23:09:02.187843",
     "status": "completed"
    },
    "tags": []
   },
   "source": [
    "# 5. Models Ensembling👷‍♂️"
   ]
  },
  {
   "cell_type": "code",
   "execution_count": 29,
   "id": "9d3ab892",
   "metadata": {
    "execution": {
     "iopub.execute_input": "2023-05-04T23:09:02.279080Z",
     "iopub.status.busy": "2023-05-04T23:09:02.277290Z",
     "iopub.status.idle": "2023-05-04T23:09:03.327262Z",
     "shell.execute_reply": "2023-05-04T23:09:03.326012Z"
    },
    "papermill": {
     "duration": 1.083858,
     "end_time": "2023-05-04T23:09:03.330149",
     "exception": false,
     "start_time": "2023-05-04T23:09:02.246291",
     "status": "completed"
    },
    "tags": []
   },
   "outputs": [],
   "source": [
    "preds_resnet = []\n",
    "with torch.no_grad():\n",
    "    for data in testloader:\n",
    "        images, labels = data\n",
    "        images=images.float()\n",
    "        images = images.to(device)\n",
    "        labels = labels.to(device)\n",
    "\n",
    "        outputs = model_resnet(images)\n",
    "        preds_resnet.extend(outputs)"
   ]
  },
  {
   "cell_type": "code",
   "execution_count": 30,
   "id": "dda67004",
   "metadata": {
    "execution": {
     "iopub.execute_input": "2023-05-04T23:09:03.389611Z",
     "iopub.status.busy": "2023-05-04T23:09:03.389275Z",
     "iopub.status.idle": "2023-05-04T23:09:04.078675Z",
     "shell.execute_reply": "2023-05-04T23:09:04.077395Z"
    },
    "papermill": {
     "duration": 0.72163,
     "end_time": "2023-05-04T23:09:04.081327",
     "exception": false,
     "start_time": "2023-05-04T23:09:03.359697",
     "status": "completed"
    },
    "tags": []
   },
   "outputs": [],
   "source": [
    "preds_fun = []\n",
    "with torch.no_grad():\n",
    "    for data in testloader:\n",
    "        images, labels = data\n",
    "        images=images.float()\n",
    "        images = images.to(device)\n",
    "        labels = labels.to(device)\n",
    "\n",
    "        outputs = model_fun(images)\n",
    "        preds_fun.extend(outputs)"
   ]
  },
  {
   "cell_type": "code",
   "execution_count": 31,
   "id": "d7d97fdb",
   "metadata": {
    "execution": {
     "iopub.execute_input": "2023-05-04T23:09:04.141924Z",
     "iopub.status.busy": "2023-05-04T23:09:04.141576Z",
     "iopub.status.idle": "2023-05-04T23:09:04.826205Z",
     "shell.execute_reply": "2023-05-04T23:09:04.824972Z"
    },
    "papermill": {
     "duration": 0.717255,
     "end_time": "2023-05-04T23:09:04.828615",
     "exception": false,
     "start_time": "2023-05-04T23:09:04.111360",
     "status": "completed"
    },
    "tags": []
   },
   "outputs": [],
   "source": [
    "preds_net = []\n",
    "with torch.no_grad():\n",
    "    for data in testloader:\n",
    "        images, labels = data\n",
    "        images=images.float()\n",
    "        images = images.to(device)\n",
    "        labels = labels.to(device)\n",
    "\n",
    "        outputs = model_net(images)\n",
    "        preds_net.extend(outputs)"
   ]
  },
  {
   "cell_type": "code",
   "execution_count": 32,
   "id": "7c5273cb",
   "metadata": {
    "execution": {
     "iopub.execute_input": "2023-05-04T23:09:04.890451Z",
     "iopub.status.busy": "2023-05-04T23:09:04.889494Z",
     "iopub.status.idle": "2023-05-04T23:09:04.901803Z",
     "shell.execute_reply": "2023-05-04T23:09:04.900942Z"
    },
    "papermill": {
     "duration": 0.044563,
     "end_time": "2023-05-04T23:09:04.903754",
     "exception": false,
     "start_time": "2023-05-04T23:09:04.859191",
     "status": "completed"
    },
    "tags": []
   },
   "outputs": [],
   "source": [
    "preds = []\n",
    "for i in range(len(preds_resnet)):\n",
    "    preds_resnet[i] = float(preds_resnet[i])\n",
    "    preds_fun[i] = float(preds_fun[i])\n",
    "    preds_net[i] = float(preds_net[i])\n",
    "    preds.append((preds_resnet[i]+preds_fun[i]+preds_net[i])/3)\n",
    "    "
   ]
  },
  {
   "cell_type": "markdown",
   "id": "392ef53f",
   "metadata": {
    "papermill": {
     "duration": 0.028725,
     "end_time": "2023-05-04T23:09:04.962164",
     "exception": false,
     "start_time": "2023-05-04T23:09:04.933439",
     "status": "completed"
    },
    "tags": []
   },
   "source": [
    "# 5.1 Calculating the inference time⏲"
   ]
  },
  {
   "cell_type": "code",
   "execution_count": 33,
   "id": "d1e451e1",
   "metadata": {
    "execution": {
     "iopub.execute_input": "2023-05-04T23:09:05.021594Z",
     "iopub.status.busy": "2023-05-04T23:09:05.021269Z",
     "iopub.status.idle": "2023-05-04T23:09:05.214918Z",
     "shell.execute_reply": "2023-05-04T23:09:05.213878Z"
    },
    "papermill": {
     "duration": 0.225704,
     "end_time": "2023-05-04T23:09:05.216988",
     "exception": false,
     "start_time": "2023-05-04T23:09:04.991284",
     "status": "completed"
    },
    "tags": []
   },
   "outputs": [
    {
     "data": {
      "text/plain": [
       "0.047861337661743164"
      ]
     },
     "execution_count": 33,
     "metadata": {},
     "output_type": "execute_result"
    }
   ],
   "source": [
    "infloader = torch.utils.data.DataLoader(testset,batch_size=1,shuffle=False,num_workers = 2)\n",
    "image,label = next(iter(infloader))\n",
    "start = time.time()\n",
    "outputs_resnet = model_resnet(image.float().to(device))\n",
    "outputs_fun = model_fun(image.float().to(device))\n",
    "outputs_net = model_net(image.float().to(device))\n",
    "outputs = (outputs_resnet+outputs_fun+outputs_net)/3\n",
    "end = time.time()\n",
    "inf_time = end-start\n",
    "inf_time"
   ]
  },
  {
   "cell_type": "markdown",
   "id": "447173d8",
   "metadata": {
    "papermill": {
     "duration": 0.031313,
     "end_time": "2023-05-04T23:09:05.277854",
     "exception": false,
     "start_time": "2023-05-04T23:09:05.246541",
     "status": "completed"
    },
    "tags": []
   },
   "source": [
    "# 5.2 Creating the Submission File 💾"
   ]
  },
  {
   "cell_type": "code",
   "execution_count": 34,
   "id": "4c139a6a",
   "metadata": {
    "execution": {
     "iopub.execute_input": "2023-05-04T23:09:05.338259Z",
     "iopub.status.busy": "2023-05-04T23:09:05.337860Z",
     "iopub.status.idle": "2023-05-04T23:09:05.343459Z",
     "shell.execute_reply": "2023-05-04T23:09:05.342464Z"
    },
    "papermill": {
     "duration": 0.037936,
     "end_time": "2023-05-04T23:09:05.345345",
     "exception": false,
     "start_time": "2023-05-04T23:09:05.307409",
     "status": "completed"
    },
    "tags": []
   },
   "outputs": [],
   "source": [
    "testdf['Age'] = preds"
   ]
  },
  {
   "cell_type": "code",
   "execution_count": 35,
   "id": "efd17a59",
   "metadata": {
    "execution": {
     "iopub.execute_input": "2023-05-04T23:09:05.405604Z",
     "iopub.status.busy": "2023-05-04T23:09:05.405272Z",
     "iopub.status.idle": "2023-05-04T23:09:05.416656Z",
     "shell.execute_reply": "2023-05-04T23:09:05.415731Z"
    },
    "papermill": {
     "duration": 0.043615,
     "end_time": "2023-05-04T23:09:05.418593",
     "exception": false,
     "start_time": "2023-05-04T23:09:05.374978",
     "status": "completed"
    },
    "tags": []
   },
   "outputs": [
    {
     "data": {
      "text/html": [
       "<div>\n",
       "<style scoped>\n",
       "    .dataframe tbody tr th:only-of-type {\n",
       "        vertical-align: middle;\n",
       "    }\n",
       "\n",
       "    .dataframe tbody tr th {\n",
       "        vertical-align: top;\n",
       "    }\n",
       "\n",
       "    .dataframe thead th {\n",
       "        text-align: right;\n",
       "    }\n",
       "</style>\n",
       "<table border=\"1\" class=\"dataframe\">\n",
       "  <thead>\n",
       "    <tr style=\"text-align: right;\">\n",
       "      <th></th>\n",
       "      <th>Subject</th>\n",
       "      <th>Age</th>\n",
       "    </tr>\n",
       "  </thead>\n",
       "  <tbody>\n",
       "    <tr>\n",
       "      <th>0</th>\n",
       "      <td>4697</td>\n",
       "      <td>21.399366</td>\n",
       "    </tr>\n",
       "    <tr>\n",
       "      <th>1</th>\n",
       "      <td>4699</td>\n",
       "      <td>22.340612</td>\n",
       "    </tr>\n",
       "    <tr>\n",
       "      <th>2</th>\n",
       "      <td>4702</td>\n",
       "      <td>19.809750</td>\n",
       "    </tr>\n",
       "    <tr>\n",
       "      <th>3</th>\n",
       "      <td>4706</td>\n",
       "      <td>20.185237</td>\n",
       "    </tr>\n",
       "    <tr>\n",
       "      <th>4</th>\n",
       "      <td>4708</td>\n",
       "      <td>20.351405</td>\n",
       "    </tr>\n",
       "  </tbody>\n",
       "</table>\n",
       "</div>"
      ],
      "text/plain": [
       "   Subject        Age\n",
       "0     4697  21.399366\n",
       "1     4699  22.340612\n",
       "2     4702  19.809750\n",
       "3     4706  20.185237\n",
       "4     4708  20.351405"
      ]
     },
     "execution_count": 35,
     "metadata": {},
     "output_type": "execute_result"
    }
   ],
   "source": [
    "testdf.head()"
   ]
  },
  {
   "cell_type": "code",
   "execution_count": 36,
   "id": "5143820b",
   "metadata": {
    "execution": {
     "iopub.execute_input": "2023-05-04T23:09:05.478287Z",
     "iopub.status.busy": "2023-05-04T23:09:05.477511Z",
     "iopub.status.idle": "2023-05-04T23:09:05.485881Z",
     "shell.execute_reply": "2023-05-04T23:09:05.485094Z"
    },
    "papermill": {
     "duration": 0.039872,
     "end_time": "2023-05-04T23:09:05.487732",
     "exception": false,
     "start_time": "2023-05-04T23:09:05.447860",
     "status": "completed"
    },
    "tags": []
   },
   "outputs": [],
   "source": [
    "testdf.to_csv('submn.csv', index=False)"
   ]
  },
  {
   "cell_type": "code",
   "execution_count": null,
   "id": "e28597fa",
   "metadata": {
    "papermill": {
     "duration": 0.028954,
     "end_time": "2023-05-04T23:09:05.545475",
     "exception": false,
     "start_time": "2023-05-04T23:09:05.516521",
     "status": "completed"
    },
    "tags": []
   },
   "outputs": [],
   "source": []
  },
  {
   "cell_type": "markdown",
   "id": "49043074",
   "metadata": {
    "papermill": {
     "duration": 0.029364,
     "end_time": "2023-05-04T23:09:05.603706",
     "exception": false,
     "start_time": "2023-05-04T23:09:05.574342",
     "status": "completed"
    },
    "tags": []
   },
   "source": []
  },
  {
   "cell_type": "markdown",
   "id": "7b6eeca9",
   "metadata": {
    "papermill": {
     "duration": 0.028486,
     "end_time": "2023-05-04T23:09:05.662037",
     "exception": false,
     "start_time": "2023-05-04T23:09:05.633551",
     "status": "completed"
    },
    "tags": []
   },
   "source": []
  }
 ],
 "metadata": {
  "kernelspec": {
   "display_name": "Python 3",
   "language": "python",
   "name": "python3"
  },
  "language_info": {
   "codemirror_mode": {
    "name": "ipython",
    "version": 3
   },
   "file_extension": ".py",
   "mimetype": "text/x-python",
   "name": "python",
   "nbconvert_exporter": "python",
   "pygments_lexer": "ipython3",
   "version": "3.10.10"
  },
  "papermill": {
   "default_parameters": {},
   "duration": 980.077061,
   "end_time": "2023-05-04T23:09:09.141748",
   "environment_variables": {},
   "exception": null,
   "input_path": "__notebook__.ipynb",
   "output_path": "__notebook__.ipynb",
   "parameters": {},
   "start_time": "2023-05-04T22:52:49.064687",
   "version": "2.4.0"
  }
 },
 "nbformat": 4,
 "nbformat_minor": 5
}
