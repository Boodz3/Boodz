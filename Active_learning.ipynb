{
 "cells": [
  {
   "cell_type": "code",
   "execution_count": 1,
   "id": "e16ab64f",
   "metadata": {
    "_cell_guid": "b1076dfc-b9ad-4769-8c92-a6c4dae69d19",
    "_uuid": "8f2839f25d086af736a60e9eeb907d3b93b6e0e5",
    "execution": {
     "iopub.execute_input": "2024-05-02T06:58:05.668133Z",
     "iopub.status.busy": "2024-05-02T06:58:05.667786Z",
     "iopub.status.idle": "2024-05-02T06:58:19.316830Z",
     "shell.execute_reply": "2024-05-02T06:58:19.315743Z"
    },
    "papermill": {
     "duration": 13.663894,
     "end_time": "2024-05-02T06:58:19.319271",
     "exception": false,
     "start_time": "2024-05-02T06:58:05.655377",
     "status": "completed"
    },
    "tags": []
   },
   "outputs": [],
   "source": [
    "!pip install skorch -q"
   ]
  },
  {
   "cell_type": "code",
   "execution_count": 2,
   "id": "88e9bc05",
   "metadata": {
    "execution": {
     "iopub.execute_input": "2024-05-02T06:58:19.343483Z",
     "iopub.status.busy": "2024-05-02T06:58:19.342813Z",
     "iopub.status.idle": "2024-05-02T06:58:31.484198Z",
     "shell.execute_reply": "2024-05-02T06:58:31.483031Z"
    },
    "papermill": {
     "duration": 12.156006,
     "end_time": "2024-05-02T06:58:31.486650",
     "exception": false,
     "start_time": "2024-05-02T06:58:19.330644",
     "status": "completed"
    },
    "tags": []
   },
   "outputs": [],
   "source": [
    "!pip install torch transformers -q"
   ]
  },
  {
   "cell_type": "code",
   "execution_count": 3,
   "id": "cec0fe03",
   "metadata": {
    "execution": {
     "iopub.execute_input": "2024-05-02T06:58:31.510439Z",
     "iopub.status.busy": "2024-05-02T06:58:31.510087Z",
     "iopub.status.idle": "2024-05-02T06:58:48.060829Z",
     "shell.execute_reply": "2024-05-02T06:58:48.059902Z"
    },
    "papermill": {
     "duration": 16.565257,
     "end_time": "2024-05-02T06:58:48.063197",
     "exception": false,
     "start_time": "2024-05-02T06:58:31.497940",
     "status": "completed"
    },
    "tags": []
   },
   "outputs": [
    {
     "name": "stdout",
     "output_type": "stream",
     "text": [
      "Collecting git+https://github.com/modAL-python/modAL.git\r\n",
      "  Cloning https://github.com/modAL-python/modAL.git to /tmp/pip-req-build-6lvy2mgj\r\n",
      "  Running command git clone --filter=blob:none --quiet https://github.com/modAL-python/modAL.git /tmp/pip-req-build-6lvy2mgj\r\n",
      "  Resolved https://github.com/modAL-python/modAL.git to commit bba6f6fd00dbb862b1e09259b78caf6cffa2e755\r\n",
      "  Preparing metadata (setup.py) ... \u001b[?25l-\b \bdone\r\n",
      "\u001b[?25hRequirement already satisfied: numpy in /opt/conda/lib/python3.10/site-packages (from modAL-python==0.4.2) (1.26.4)\r\n",
      "Requirement already satisfied: scikit-learn>=0.18 in /opt/conda/lib/python3.10/site-packages (from modAL-python==0.4.2) (1.2.2)\r\n",
      "Requirement already satisfied: scipy>=0.18 in /opt/conda/lib/python3.10/site-packages (from modAL-python==0.4.2) (1.11.4)\r\n",
      "Requirement already satisfied: pandas>=1.1.0 in /opt/conda/lib/python3.10/site-packages (from modAL-python==0.4.2) (2.1.4)\r\n",
      "Collecting skorch==0.9.0 (from modAL-python==0.4.2)\r\n",
      "  Downloading skorch-0.9.0-py3-none-any.whl.metadata (8.3 kB)\r\n",
      "Requirement already satisfied: tabulate>=0.7.7 in /opt/conda/lib/python3.10/site-packages (from skorch==0.9.0->modAL-python==0.4.2) (0.9.0)\r\n",
      "Requirement already satisfied: tqdm>=4.14.0 in /opt/conda/lib/python3.10/site-packages (from skorch==0.9.0->modAL-python==0.4.2) (4.66.1)\r\n",
      "Requirement already satisfied: python-dateutil>=2.8.2 in /opt/conda/lib/python3.10/site-packages (from pandas>=1.1.0->modAL-python==0.4.2) (2.9.0.post0)\r\n",
      "Requirement already satisfied: pytz>=2020.1 in /opt/conda/lib/python3.10/site-packages (from pandas>=1.1.0->modAL-python==0.4.2) (2023.3.post1)\r\n",
      "Requirement already satisfied: tzdata>=2022.1 in /opt/conda/lib/python3.10/site-packages (from pandas>=1.1.0->modAL-python==0.4.2) (2023.4)\r\n",
      "Requirement already satisfied: joblib>=1.1.1 in /opt/conda/lib/python3.10/site-packages (from scikit-learn>=0.18->modAL-python==0.4.2) (1.4.0)\r\n",
      "Requirement already satisfied: threadpoolctl>=2.0.0 in /opt/conda/lib/python3.10/site-packages (from scikit-learn>=0.18->modAL-python==0.4.2) (3.2.0)\r\n",
      "Requirement already satisfied: six>=1.5 in /opt/conda/lib/python3.10/site-packages (from python-dateutil>=2.8.2->pandas>=1.1.0->modAL-python==0.4.2) (1.16.0)\r\n",
      "Downloading skorch-0.9.0-py3-none-any.whl (125 kB)\r\n",
      "\u001b[2K   \u001b[90m━━━━━━━━━━━━━━━━━━━━━━━━━━━━━━━━━━━━━━━━\u001b[0m \u001b[32m125.8/125.8 kB\u001b[0m \u001b[31m5.3 MB/s\u001b[0m eta \u001b[36m0:00:00\u001b[0m\r\n",
      "\u001b[?25hBuilding wheels for collected packages: modAL-python\r\n",
      "  Building wheel for modAL-python (setup.py) ... \u001b[?25l-\b \b\\\b \bdone\r\n",
      "\u001b[?25h  Created wheel for modAL-python: filename=modAL_python-0.4.2-py3-none-any.whl size=32650 sha256=f3409b8c94cc2dfccabd0969c8b6a843f630e35a66382ba25680f093a162545d\r\n",
      "  Stored in directory: /tmp/pip-ephem-wheel-cache-dlkf3w_8/wheels/d9/fb/59/7deb61b460c1c36394cd093758986ff7d36f71352dcb2e02c5\r\n",
      "Successfully built modAL-python\r\n",
      "Installing collected packages: skorch, modAL-python\r\n",
      "  Attempting uninstall: skorch\r\n",
      "    Found existing installation: skorch 0.15.0\r\n",
      "    Uninstalling skorch-0.15.0:\r\n",
      "      Successfully uninstalled skorch-0.15.0\r\n",
      "Successfully installed modAL-python-0.4.2 skorch-0.9.0\r\n"
     ]
    }
   ],
   "source": [
    "!pip install git+https://github.com/modAL-python/modAL.git"
   ]
  },
  {
   "cell_type": "code",
   "execution_count": 4,
   "id": "b5c0d640",
   "metadata": {
    "execution": {
     "iopub.execute_input": "2024-05-02T06:58:48.091051Z",
     "iopub.status.busy": "2024-05-02T06:58:48.090412Z",
     "iopub.status.idle": "2024-05-02T06:58:48.095072Z",
     "shell.execute_reply": "2024-05-02T06:58:48.094191Z"
    },
    "papermill": {
     "duration": 0.021142,
     "end_time": "2024-05-02T06:58:48.097063",
     "exception": false,
     "start_time": "2024-05-02T06:58:48.075921",
     "status": "completed"
    },
    "tags": []
   },
   "outputs": [],
   "source": [
    "import warnings\n",
    "\n",
    "# Ignore all warnings\n",
    "warnings.filterwarnings('ignore')"
   ]
  },
  {
   "cell_type": "code",
   "execution_count": 5,
   "id": "057e6f2e",
   "metadata": {
    "execution": {
     "iopub.execute_input": "2024-05-02T06:58:48.122408Z",
     "iopub.status.busy": "2024-05-02T06:58:48.122166Z",
     "iopub.status.idle": "2024-05-02T06:58:55.576151Z",
     "shell.execute_reply": "2024-05-02T06:58:55.575220Z"
    },
    "papermill": {
     "duration": 7.469656,
     "end_time": "2024-05-02T06:58:55.578790",
     "exception": false,
     "start_time": "2024-05-02T06:58:48.109134",
     "status": "completed"
    },
    "tags": []
   },
   "outputs": [],
   "source": [
    "import numpy as np\n",
    "import torch\n",
    "import torch.nn as nn\n",
    "import torchvision\n",
    "from skorch import NeuralNetClassifier"
   ]
  },
  {
   "cell_type": "code",
   "execution_count": 6,
   "id": "64824090",
   "metadata": {
    "execution": {
     "iopub.execute_input": "2024-05-02T06:58:55.606613Z",
     "iopub.status.busy": "2024-05-02T06:58:55.605562Z",
     "iopub.status.idle": "2024-05-02T06:58:55.664602Z",
     "shell.execute_reply": "2024-05-02T06:58:55.663652Z"
    },
    "papermill": {
     "duration": 0.074949,
     "end_time": "2024-05-02T06:58:55.666638",
     "exception": false,
     "start_time": "2024-05-02T06:58:55.591689",
     "status": "completed"
    },
    "tags": []
   },
   "outputs": [],
   "source": [
    "device = \"cuda\" if torch.cuda.is_available() else \"cpu\""
   ]
  },
  {
   "cell_type": "code",
   "execution_count": 7,
   "id": "8362de1c",
   "metadata": {
    "execution": {
     "iopub.execute_input": "2024-05-02T06:58:55.692599Z",
     "iopub.status.busy": "2024-05-02T06:58:55.692294Z",
     "iopub.status.idle": "2024-05-02T06:58:56.875154Z",
     "shell.execute_reply": "2024-05-02T06:58:56.874302Z"
    },
    "papermill": {
     "duration": 1.1983,
     "end_time": "2024-05-02T06:58:56.877481",
     "exception": false,
     "start_time": "2024-05-02T06:58:55.679181",
     "status": "completed"
    },
    "tags": []
   },
   "outputs": [],
   "source": [
    "from modAL.uncertainty import uncertainty_sampling, margin_sampling, entropy_sampling\n",
    "from modAL.disagreement import vote_entropy, KL_max_disagreement\n",
    "import numpy as np # linear algebra\n",
    "import pandas as pd # data processing, CSV file I/O (e.g. pd.read_csv)\n",
    "import matplotlib.pyplot as plt\n",
    "from sklearn.metrics import confusion_matrix,f1_score,classification_report\n",
    "import seaborn as sns\n",
    "import matplotlib.pyplot as plt\n",
    "import matplotlib as mpl"
   ]
  },
  {
   "cell_type": "code",
   "execution_count": 8,
   "id": "844c7868",
   "metadata": {
    "execution": {
     "iopub.execute_input": "2024-05-02T06:58:56.903765Z",
     "iopub.status.busy": "2024-05-02T06:58:56.903121Z",
     "iopub.status.idle": "2024-05-02T06:58:56.944568Z",
     "shell.execute_reply": "2024-05-02T06:58:56.943851Z"
    },
    "papermill": {
     "duration": 0.056525,
     "end_time": "2024-05-02T06:58:56.946607",
     "exception": false,
     "start_time": "2024-05-02T06:58:56.890082",
     "status": "completed"
    },
    "tags": []
   },
   "outputs": [],
   "source": [
    "df = pd.read_csv(\"/kaggle/input/spam-email/spam.csv\")"
   ]
  },
  {
   "cell_type": "code",
   "execution_count": 9,
   "id": "c8bc05c8",
   "metadata": {
    "execution": {
     "iopub.execute_input": "2024-05-02T06:58:56.972324Z",
     "iopub.status.busy": "2024-05-02T06:58:56.972047Z",
     "iopub.status.idle": "2024-05-02T06:58:56.980139Z",
     "shell.execute_reply": "2024-05-02T06:58:56.979245Z"
    },
    "papermill": {
     "duration": 0.022854,
     "end_time": "2024-05-02T06:58:56.981972",
     "exception": false,
     "start_time": "2024-05-02T06:58:56.959118",
     "status": "completed"
    },
    "tags": []
   },
   "outputs": [],
   "source": [
    "df=df.dropna()                                     \n",
    "df=df.reset_index(drop=True) "
   ]
  },
  {
   "cell_type": "code",
   "execution_count": 10,
   "id": "2b373fc7",
   "metadata": {
    "execution": {
     "iopub.execute_input": "2024-05-02T06:58:57.007241Z",
     "iopub.status.busy": "2024-05-02T06:58:57.006973Z",
     "iopub.status.idle": "2024-05-02T06:58:57.019354Z",
     "shell.execute_reply": "2024-05-02T06:58:57.018450Z"
    },
    "papermill": {
     "duration": 0.027396,
     "end_time": "2024-05-02T06:58:57.021424",
     "exception": false,
     "start_time": "2024-05-02T06:58:56.994028",
     "status": "completed"
    },
    "tags": []
   },
   "outputs": [],
   "source": [
    "df['label'] = df['Category'].map({'ham': 0,\n",
    "                                  'spam': 1})"
   ]
  },
  {
   "cell_type": "code",
   "execution_count": 11,
   "id": "e9411b82",
   "metadata": {
    "execution": {
     "iopub.execute_input": "2024-05-02T06:58:57.046938Z",
     "iopub.status.busy": "2024-05-02T06:58:57.046639Z",
     "iopub.status.idle": "2024-05-02T06:58:57.060009Z",
     "shell.execute_reply": "2024-05-02T06:58:57.059166Z"
    },
    "papermill": {
     "duration": 0.028107,
     "end_time": "2024-05-02T06:58:57.061829",
     "exception": false,
     "start_time": "2024-05-02T06:58:57.033722",
     "status": "completed"
    },
    "tags": []
   },
   "outputs": [
    {
     "data": {
      "text/html": [
       "<div>\n",
       "<style scoped>\n",
       "    .dataframe tbody tr th:only-of-type {\n",
       "        vertical-align: middle;\n",
       "    }\n",
       "\n",
       "    .dataframe tbody tr th {\n",
       "        vertical-align: top;\n",
       "    }\n",
       "\n",
       "    .dataframe thead th {\n",
       "        text-align: right;\n",
       "    }\n",
       "</style>\n",
       "<table border=\"1\" class=\"dataframe\">\n",
       "  <thead>\n",
       "    <tr style=\"text-align: right;\">\n",
       "      <th></th>\n",
       "      <th>Category</th>\n",
       "      <th>Message</th>\n",
       "      <th>label</th>\n",
       "    </tr>\n",
       "  </thead>\n",
       "  <tbody>\n",
       "    <tr>\n",
       "      <th>0</th>\n",
       "      <td>ham</td>\n",
       "      <td>Go until jurong point, crazy.. Available only ...</td>\n",
       "      <td>0</td>\n",
       "    </tr>\n",
       "    <tr>\n",
       "      <th>1</th>\n",
       "      <td>ham</td>\n",
       "      <td>Ok lar... Joking wif u oni...</td>\n",
       "      <td>0</td>\n",
       "    </tr>\n",
       "    <tr>\n",
       "      <th>2</th>\n",
       "      <td>spam</td>\n",
       "      <td>Free entry in 2 a wkly comp to win FA Cup fina...</td>\n",
       "      <td>1</td>\n",
       "    </tr>\n",
       "    <tr>\n",
       "      <th>3</th>\n",
       "      <td>ham</td>\n",
       "      <td>U dun say so early hor... U c already then say...</td>\n",
       "      <td>0</td>\n",
       "    </tr>\n",
       "    <tr>\n",
       "      <th>4</th>\n",
       "      <td>ham</td>\n",
       "      <td>Nah I don't think he goes to usf, he lives aro...</td>\n",
       "      <td>0</td>\n",
       "    </tr>\n",
       "  </tbody>\n",
       "</table>\n",
       "</div>"
      ],
      "text/plain": [
       "  Category                                            Message  label\n",
       "0      ham  Go until jurong point, crazy.. Available only ...      0\n",
       "1      ham                      Ok lar... Joking wif u oni...      0\n",
       "2     spam  Free entry in 2 a wkly comp to win FA Cup fina...      1\n",
       "3      ham  U dun say so early hor... U c already then say...      0\n",
       "4      ham  Nah I don't think he goes to usf, he lives aro...      0"
      ]
     },
     "execution_count": 11,
     "metadata": {},
     "output_type": "execute_result"
    }
   ],
   "source": [
    "df.head()"
   ]
  },
  {
   "cell_type": "code",
   "execution_count": 12,
   "id": "e0a31573",
   "metadata": {
    "execution": {
     "iopub.execute_input": "2024-05-02T06:58:57.087555Z",
     "iopub.status.busy": "2024-05-02T06:58:57.087273Z",
     "iopub.status.idle": "2024-05-02T06:58:57.380481Z",
     "shell.execute_reply": "2024-05-02T06:58:57.379585Z"
    },
    "papermill": {
     "duration": 0.308376,
     "end_time": "2024-05-02T06:58:57.382496",
     "exception": false,
     "start_time": "2024-05-02T06:58:57.074120",
     "status": "completed"
    },
    "tags": []
   },
   "outputs": [
    {
     "data": {
      "image/png": "[encoded data removed]",
      "text/plain": [
       "<Figure size 1000x700 with 1 Axes>"
      ]
     },
     "metadata": {},
     "output_type": "display_data"
    }
   ],
   "source": [
    "# Counting the occurrences of each category\n",
    "spam_counts = df['Category'].value_counts()\n",
    "\n",
    "# Plotting the counts\n",
    "plt.figure(figsize=(10, 7))  # Set the figure size as needed\n",
    "spam_counts.plot(kind='bar', color=['green', 'orange'])  # Choose colors as desired\n",
    "plt.title('Unbalanced Class Distribution')\n",
    "plt.xlabel('Has Spam')\n",
    "plt.ylabel('Count')\n",
    "plt.xticks(rotation=0)  # Keeps the labels on the x-axis aligned horizontally\n",
    "plt.show()"
   ]
  },
  {
   "cell_type": "code",
   "execution_count": 13,
   "id": "b9fad36c",
   "metadata": {
    "execution": {
     "iopub.execute_input": "2024-05-02T06:58:57.410759Z",
     "iopub.status.busy": "2024-05-02T06:58:57.410468Z",
     "iopub.status.idle": "2024-05-02T06:58:57.423667Z",
     "shell.execute_reply": "2024-05-02T06:58:57.422732Z"
    },
    "papermill": {
     "duration": 0.029274,
     "end_time": "2024-05-02T06:58:57.425693",
     "exception": false,
     "start_time": "2024-05-02T06:58:57.396419",
     "status": "completed"
    },
    "tags": []
   },
   "outputs": [
    {
     "name": "stdout",
     "output_type": "stream",
     "text": [
      "label\n",
      "0    4825\n",
      "1    4825\n",
      "Name: count, dtype: int64\n"
     ]
    }
   ],
   "source": [
    "import pandas as pd\n",
    "from sklearn.utils import resample\n",
    "\n",
    "# Assuming df is your DataFrame and 'label' is the column with binary classes where 'spam' is 1 and 'ham' is 0\n",
    "\n",
    "# Separate the classes\n",
    "df_majority = df[df.label == 0]  # Class 'ham'\n",
    "df_minority = df[df.label == 1]  # Class 'spam'\n",
    "\n",
    "# Upsample minority class\n",
    "df_minority_upsampled = resample(df_minority, \n",
    "                                 replace=True,     # sample with replacement\n",
    "                                 n_samples=len(df_majority),    # to match majority class\n",
    "                                 random_state=123) # reproducible results\n",
    "\n",
    "# Combine majority class with upsampled minority class\n",
    "df_upsampled = pd.concat([df_majority, df_minority_upsampled])\n",
    "\n",
    "# Display new class counts\n",
    "print(df_upsampled.label.value_counts())"
   ]
  },
  {
   "cell_type": "code",
   "execution_count": 14,
   "id": "28629ad4",
   "metadata": {
    "execution": {
     "iopub.execute_input": "2024-05-02T06:58:57.452275Z",
     "iopub.status.busy": "2024-05-02T06:58:57.452006Z",
     "iopub.status.idle": "2024-05-02T06:58:57.460754Z",
     "shell.execute_reply": "2024-05-02T06:58:57.459789Z"
    },
    "papermill": {
     "duration": 0.024282,
     "end_time": "2024-05-02T06:58:57.462703",
     "exception": false,
     "start_time": "2024-05-02T06:58:57.438421",
     "status": "completed"
    },
    "tags": []
   },
   "outputs": [
    {
     "name": "stdout",
     "output_type": "stream",
     "text": [
      "(7720,)\n",
      "(7720,)\n"
     ]
    }
   ],
   "source": [
    "from sklearn.model_selection import train_test_split\n",
    "X_train,X_test,y_train,y_test = train_test_split(df_upsampled[\"Message\"],df_upsampled[\"label\"], test_size=1-0.8, random_state=42)\n",
    "print(X_train.shape)\n",
    "print(y_train.shape)"
   ]
  },
  {
   "cell_type": "code",
   "execution_count": 15,
   "id": "82f701a3",
   "metadata": {
    "execution": {
     "iopub.execute_input": "2024-05-02T06:58:57.489496Z",
     "iopub.status.busy": "2024-05-02T06:58:57.489230Z",
     "iopub.status.idle": "2024-05-02T06:59:07.332734Z",
     "shell.execute_reply": "2024-05-02T06:59:07.331876Z"
    },
    "papermill": {
     "duration": 9.859284,
     "end_time": "2024-05-02T06:59:07.335056",
     "exception": false,
     "start_time": "2024-05-02T06:58:57.475772",
     "status": "completed"
    },
    "tags": []
   },
   "outputs": [
    {
     "name": "stderr",
     "output_type": "stream",
     "text": [
      "2024-05-02 06:58:59.094053: E external/local_xla/xla/stream_executor/cuda/cuda_dnn.cc:9261] Unable to register cuDNN factory: Attempting to register factory for plugin cuDNN when one has already been registered\n",
      "2024-05-02 06:58:59.094155: E external/local_xla/xla/stream_executor/cuda/cuda_fft.cc:607] Unable to register cuFFT factory: Attempting to register factory for plugin cuFFT when one has already been registered\n",
      "2024-05-02 06:58:59.217462: E external/local_xla/xla/stream_executor/cuda/cuda_blas.cc:1515] Unable to register cuBLAS factory: Attempting to register factory for plugin cuBLAS when one has already been registered\n"
     ]
    }
   ],
   "source": [
    "from tensorflow.keras.preprocessing.text import Tokenizer\n",
    "max_words=10000\n",
    "tokenizer=Tokenizer()\n",
    "tokenizer.fit_on_texts(X_train)\n",
    "sequence_train=tokenizer.texts_to_sequences(X_train)\n",
    "sequence_test=tokenizer.texts_to_sequences(X_test)"
   ]
  },
  {
   "cell_type": "code",
   "execution_count": 16,
   "id": "399175c4",
   "metadata": {
    "execution": {
     "iopub.execute_input": "2024-05-02T06:59:07.363327Z",
     "iopub.status.busy": "2024-05-02T06:59:07.362603Z",
     "iopub.status.idle": "2024-05-02T06:59:07.373790Z",
     "shell.execute_reply": "2024-05-02T06:59:07.373028Z"
    },
    "papermill": {
     "duration": 0.027259,
     "end_time": "2024-05-02T06:59:07.375724",
     "exception": false,
     "start_time": "2024-05-02T06:59:07.348465",
     "status": "completed"
    },
    "tags": []
   },
   "outputs": [
    {
     "data": {
      "text/plain": [
       "[[636, 2849, 17, 3, 3211, 11],\n",
       " [353,\n",
       "  4,\n",
       "  17,\n",
       "  163,\n",
       "  706,\n",
       "  20,\n",
       "  583,\n",
       "  38,\n",
       "  1060,\n",
       "  250,\n",
       "  4,\n",
       "  222,\n",
       "  3,\n",
       "  27,\n",
       "  1,\n",
       "  407,\n",
       "  1269,\n",
       "  2222,\n",
       "  197,\n",
       "  67,\n",
       "  109,\n",
       "  2223,\n",
       "  46,\n",
       "  2,\n",
       "  189,\n",
       "  15,\n",
       "  2850],\n",
       " [4,\n",
       "  138,\n",
       "  17,\n",
       "  109,\n",
       "  20,\n",
       "  7,\n",
       "  3587,\n",
       "  16,\n",
       "  32,\n",
       "  2461,\n",
       "  4,\n",
       "  114,\n",
       "  16,\n",
       "  257,\n",
       "  82,\n",
       "  2,\n",
       "  721,\n",
       "  25,\n",
       "  4,\n",
       "  4081,\n",
       "  132,\n",
       "  2,\n",
       "  51,\n",
       "  4,\n",
       "  126,\n",
       "  412,\n",
       "  16,\n",
       "  32,\n",
       "  777],\n",
       " [73,\n",
       "  5,\n",
       "  2032,\n",
       "  23,\n",
       "  7,\n",
       "  156,\n",
       "  7,\n",
       "  438,\n",
       "  22,\n",
       "  1061,\n",
       "  143,\n",
       "  15,\n",
       "  272,\n",
       "  157,\n",
       "  56,\n",
       "  292,\n",
       "  193,\n",
       "  258,\n",
       "  68,\n",
       "  112,\n",
       "  148,\n",
       "  146,\n",
       "  1015,\n",
       "  1348,\n",
       "  1349,\n",
       "  568,\n",
       "  1062,\n",
       "  103],\n",
       " [100,\n",
       "  606,\n",
       "  116,\n",
       "  683,\n",
       "  380,\n",
       "  2462,\n",
       "  1616,\n",
       "  535,\n",
       "  100,\n",
       "  606,\n",
       "  9,\n",
       "  1517,\n",
       "  52,\n",
       "  31,\n",
       "  1,\n",
       "  1016,\n",
       "  93,\n",
       "  293,\n",
       "  1518],\n",
       " [569, 45, 87, 46, 2, 3212, 6, 4970, 4082, 4083, 493, 4084, 6, 4085, 1209],\n",
       " [47,\n",
       "  1017,\n",
       "  23,\n",
       "  1519,\n",
       "  3,\n",
       "  707,\n",
       "  5,\n",
       "  22,\n",
       "  1270,\n",
       "  96,\n",
       "  259,\n",
       "  133,\n",
       "  1880,\n",
       "  1,\n",
       "  648,\n",
       "  475,\n",
       "  1881,\n",
       "  408,\n",
       "  20,\n",
       "  25,\n",
       "  1153,\n",
       "  1882,\n",
       "  99,\n",
       "  27,\n",
       "  1063,\n",
       "  1,\n",
       "  1105,\n",
       "  1883,\n",
       "  52,\n",
       "  31,\n",
       "  1105,\n",
       "  1350,\n",
       "  356],\n",
       " [708,\n",
       "  3,\n",
       "  607,\n",
       "  3213,\n",
       "  381,\n",
       "  260,\n",
       "  10,\n",
       "  6,\n",
       "  46,\n",
       "  1737,\n",
       "  1,\n",
       "  39,\n",
       "  2463,\n",
       "  55,\n",
       "  100,\n",
       "  2851,\n",
       "  450,\n",
       "  158,\n",
       "  42,\n",
       "  39,\n",
       "  16,\n",
       "  1018],\n",
       " [8,\n",
       "  17,\n",
       "  57,\n",
       "  3,\n",
       "  72,\n",
       "  2464,\n",
       "  493,\n",
       "  3,\n",
       "  14,\n",
       "  545,\n",
       "  149,\n",
       "  29,\n",
       "  10,\n",
       "  78,\n",
       "  8,\n",
       "  28,\n",
       "  82,\n",
       "  8,\n",
       "  63,\n",
       "  44,\n",
       "  14,\n",
       "  311,\n",
       "  1,\n",
       "  147,\n",
       "  364,\n",
       "  52,\n",
       "  72,\n",
       "  1,\n",
       "  2465,\n",
       "  11,\n",
       "  2466,\n",
       "  2467,\n",
       "  1154,\n",
       "  86],\n",
       " [259,\n",
       "  7,\n",
       "  357,\n",
       "  201,\n",
       "  285,\n",
       "  9,\n",
       "  3588,\n",
       "  129,\n",
       "  342,\n",
       "  358,\n",
       "  365,\n",
       "  182,\n",
       "  4,\n",
       "  245,\n",
       "  262,\n",
       "  5,\n",
       "  2033,\n",
       "  267,\n",
       "  139,\n",
       "  3589,\n",
       "  251,\n",
       "  103,\n",
       "  359,\n",
       "  387]]"
      ]
     },
     "execution_count": 16,
     "metadata": {},
     "output_type": "execute_result"
    }
   ],
   "source": [
    "sequence_train[:10]"
   ]
  },
  {
   "cell_type": "code",
   "execution_count": 17,
   "id": "7f99c6f3",
   "metadata": {
    "execution": {
     "iopub.execute_input": "2024-05-02T06:59:07.403822Z",
     "iopub.status.busy": "2024-05-02T06:59:07.403065Z",
     "iopub.status.idle": "2024-05-02T06:59:07.448520Z",
     "shell.execute_reply": "2024-05-02T06:59:07.447712Z"
    },
    "papermill": {
     "duration": 0.061179,
     "end_time": "2024-05-02T06:59:07.450321",
     "exception": false,
     "start_time": "2024-05-02T06:59:07.389142",
     "status": "completed"
    },
    "tags": []
   },
   "outputs": [
    {
     "data": {
      "text/plain": [
       "(7720, 121)"
      ]
     },
     "execution_count": 17,
     "metadata": {},
     "output_type": "execute_result"
    }
   ],
   "source": [
    "from tensorflow.keras.preprocessing.sequence import pad_sequences\n",
    "data_train=pad_sequences(sequence_train)\n",
    "data_train.shape"
   ]
  },
  {
   "cell_type": "code",
   "execution_count": 18,
   "id": "2af117cf",
   "metadata": {
    "execution": {
     "iopub.execute_input": "2024-05-02T06:59:07.478257Z",
     "iopub.status.busy": "2024-05-02T06:59:07.477511Z",
     "iopub.status.idle": "2024-05-02T06:59:07.498352Z",
     "shell.execute_reply": "2024-05-02T06:59:07.497524Z"
    },
    "papermill": {
     "duration": 0.036707,
     "end_time": "2024-05-02T06:59:07.500265",
     "exception": false,
     "start_time": "2024-05-02T06:59:07.463558",
     "status": "completed"
    },
    "tags": []
   },
   "outputs": [
    {
     "data": {
      "text/plain": [
       "(1930, 121)"
      ]
     },
     "execution_count": 18,
     "metadata": {},
     "output_type": "execute_result"
    }
   ],
   "source": [
    "T=data_train.shape[1]\n",
    "data_test=pad_sequences(sequence_test,maxlen=T)\n",
    "data_test.shape"
   ]
  },
  {
   "cell_type": "code",
   "execution_count": 19,
   "id": "a2c87ac0",
   "metadata": {
    "execution": {
     "iopub.execute_input": "2024-05-02T06:59:07.528753Z",
     "iopub.status.busy": "2024-05-02T06:59:07.528113Z",
     "iopub.status.idle": "2024-05-02T06:59:07.558913Z",
     "shell.execute_reply": "2024-05-02T06:59:07.558015Z"
    },
    "papermill": {
     "duration": 0.04735,
     "end_time": "2024-05-02T06:59:07.560932",
     "exception": false,
     "start_time": "2024-05-02T06:59:07.513582",
     "status": "completed"
    },
    "tags": []
   },
   "outputs": [],
   "source": [
    "X_test = torch.tensor(data_test)\n",
    "X_train = torch.tensor(data_train)"
   ]
  },
  {
   "cell_type": "code",
   "execution_count": 20,
   "id": "884a20c1",
   "metadata": {
    "execution": {
     "iopub.execute_input": "2024-05-02T06:59:07.588725Z",
     "iopub.status.busy": "2024-05-02T06:59:07.588437Z",
     "iopub.status.idle": "2024-05-02T06:59:07.594338Z",
     "shell.execute_reply": "2024-05-02T06:59:07.593526Z"
    },
    "papermill": {
     "duration": 0.02174,
     "end_time": "2024-05-02T06:59:07.596140",
     "exception": false,
     "start_time": "2024-05-02T06:59:07.574400",
     "status": "completed"
    },
    "tags": []
   },
   "outputs": [
    {
     "data": {
      "text/plain": [
       "array([[   0,    0,    0, ...,   46,    2,  956],\n",
       "       [   0,    0,    0, ...,   32,  667, 2188],\n",
       "       [   0,    0,    0, ...,   82,   58, 2535],\n",
       "       ...,\n",
       "       [   0,    0,    0, ...,    4,  473,  956],\n",
       "       [   0,    0,    0, ...,  185,  361, 2241],\n",
       "       [   0,    0,    0, ..., 1258,  107,  120]], dtype=int32)"
      ]
     },
     "execution_count": 20,
     "metadata": {},
     "output_type": "execute_result"
    }
   ],
   "source": [
    "data_test[:10]"
   ]
  },
  {
   "cell_type": "code",
   "execution_count": 21,
   "id": "e15405f7",
   "metadata": {
    "execution": {
     "iopub.execute_input": "2024-05-02T06:59:07.624158Z",
     "iopub.status.busy": "2024-05-02T06:59:07.623888Z",
     "iopub.status.idle": "2024-05-02T06:59:07.929091Z",
     "shell.execute_reply": "2024-05-02T06:59:07.928037Z"
    },
    "papermill": {
     "duration": 0.321706,
     "end_time": "2024-05-02T06:59:07.931296",
     "exception": false,
     "start_time": "2024-05-02T06:59:07.609590",
     "status": "completed"
    },
    "tags": []
   },
   "outputs": [
    {
     "name": "stdout",
     "output_type": "stream",
     "text": [
      "MyModel(\n",
      "  (embedding): Embedding(8188, 100)\n",
      "  (spatial_dropout): Dropout2d(p=0.2, inplace=False)\n",
      "  (lstm): LSTM(100, 16, batch_first=True)\n",
      "  (dropout): Dropout(p=0.2, inplace=False)\n",
      "  (fc): Linear(in_features=16, out_features=2, bias=True)\n",
      "  (sigmoid): Sigmoid()\n",
      ")\n"
     ]
    }
   ],
   "source": [
    "import torch\n",
    "import torch.nn as nn\n",
    "\n",
    "class MyModel(nn.Module):\n",
    "    def __init__(self, input_dim, vocab_size, embedding_dim, lstm_units):\n",
    "        super(MyModel, self).__init__()\n",
    "        self.embedding = nn.Embedding(vocab_size, embedding_dim)\n",
    "        self.spatial_dropout = nn.Dropout2d(p=0.2)\n",
    "        self.lstm = nn.LSTM(embedding_dim, lstm_units, batch_first=True)\n",
    "        self.dropout = nn.Dropout(p=0.2)\n",
    "        self.fc = nn.Linear(lstm_units, 2)\n",
    "        self.sigmoid = nn.Sigmoid()\n",
    "\n",
    "    def forward(self, x):\n",
    "        x = self.embedding(x)\n",
    "        x = self.spatial_dropout(x)\n",
    "        x, _ = self.lstm(x)\n",
    "        x = x[:, -1, :]  # Only take the output of the last time step\n",
    "        x = self.dropout(x)\n",
    "        x = self.fc(x)\n",
    "        x = self.sigmoid(x)\n",
    "        return x\n",
    "\n",
    "# Assuming data_train.shape[1] is your input dimension\n",
    "input_dim = data_train.shape[1]\n",
    "# Assuming tokenizer.word_index is your vocabulary size\n",
    "vocab_size = len(tokenizer.word_index) + 1\n",
    "embedding_dim = 100  # You can adjust this according to your needs\n",
    "lstm_units = 16\n",
    "\n",
    "# Initialize your model\n",
    "model = MyModel(input_dim, vocab_size, embedding_dim, lstm_units)\n",
    "\n",
    "# Define loss function and optimizer\n",
    "criterion = nn.BCELoss()\n",
    "optimizer = torch.optim.Adam(model.parameters())\n",
    "\n",
    "# Print your model\n",
    "print(model.to(device))\n"
   ]
  },
  {
   "cell_type": "code",
   "execution_count": 22,
   "id": "6c6ccbb7",
   "metadata": {
    "execution": {
     "iopub.execute_input": "2024-05-02T06:59:07.960290Z",
     "iopub.status.busy": "2024-05-02T06:59:07.959997Z",
     "iopub.status.idle": "2024-05-02T06:59:07.965432Z",
     "shell.execute_reply": "2024-05-02T06:59:07.964556Z"
    },
    "papermill": {
     "duration": 0.021891,
     "end_time": "2024-05-02T06:59:07.967247",
     "exception": false,
     "start_time": "2024-05-02T06:59:07.945356",
     "status": "completed"
    },
    "tags": []
   },
   "outputs": [
    {
     "data": {
      "text/plain": [
       "torch.Size([7720, 121])"
      ]
     },
     "execution_count": 22,
     "metadata": {},
     "output_type": "execute_result"
    }
   ],
   "source": [
    "X_train.shape"
   ]
  },
  {
   "cell_type": "code",
   "execution_count": 23,
   "id": "b8c85961",
   "metadata": {
    "execution": {
     "iopub.execute_input": "2024-05-02T06:59:07.995889Z",
     "iopub.status.busy": "2024-05-02T06:59:07.995613Z",
     "iopub.status.idle": "2024-05-02T06:59:08.001879Z",
     "shell.execute_reply": "2024-05-02T06:59:08.001065Z"
    },
    "papermill": {
     "duration": 0.022663,
     "end_time": "2024-05-02T06:59:08.003776",
     "exception": false,
     "start_time": "2024-05-02T06:59:07.981113",
     "status": "completed"
    },
    "tags": []
   },
   "outputs": [
    {
     "data": {
      "text/plain": [
       "(7720,)"
      ]
     },
     "execution_count": 23,
     "metadata": {},
     "output_type": "execute_result"
    }
   ],
   "source": [
    "y_train.shape"
   ]
  },
  {
   "cell_type": "code",
   "execution_count": 24,
   "id": "83c2cf01",
   "metadata": {
    "execution": {
     "iopub.execute_input": "2024-05-02T06:59:08.032580Z",
     "iopub.status.busy": "2024-05-02T06:59:08.032319Z",
     "iopub.status.idle": "2024-05-02T06:59:08.036224Z",
     "shell.execute_reply": "2024-05-02T06:59:08.035420Z"
    },
    "papermill": {
     "duration": 0.020517,
     "end_time": "2024-05-02T06:59:08.038127",
     "exception": false,
     "start_time": "2024-05-02T06:59:08.017610",
     "status": "completed"
    },
    "tags": []
   },
   "outputs": [],
   "source": [
    "y_test = torch.tensor(np.array(y_test))"
   ]
  },
  {
   "cell_type": "code",
   "execution_count": 25,
   "id": "0734b7f7",
   "metadata": {
    "execution": {
     "iopub.execute_input": "2024-05-02T06:59:08.106690Z",
     "iopub.status.busy": "2024-05-02T06:59:08.106341Z",
     "iopub.status.idle": "2024-05-02T06:59:08.111081Z",
     "shell.execute_reply": "2024-05-02T06:59:08.110319Z"
    },
    "papermill": {
     "duration": 0.060825,
     "end_time": "2024-05-02T06:59:08.112979",
     "exception": false,
     "start_time": "2024-05-02T06:59:08.052154",
     "status": "completed"
    },
    "tags": []
   },
   "outputs": [],
   "source": [
    "y_train= torch.tensor(np.array(y_train))\n"
   ]
  },
  {
   "cell_type": "code",
   "execution_count": 26,
   "id": "70ffbfce",
   "metadata": {
    "execution": {
     "iopub.execute_input": "2024-05-02T06:59:08.142511Z",
     "iopub.status.busy": "2024-05-02T06:59:08.142255Z",
     "iopub.status.idle": "2024-05-02T06:59:08.156700Z",
     "shell.execute_reply": "2024-05-02T06:59:08.155889Z"
    },
    "papermill": {
     "duration": 0.031811,
     "end_time": "2024-05-02T06:59:08.158865",
     "exception": false,
     "start_time": "2024-05-02T06:59:08.127054",
     "status": "completed"
    },
    "tags": []
   },
   "outputs": [],
   "source": [
    "n_initial = 512\n",
    "initial_idx = np.random.choice(range(len(X_train)), size=n_initial, replace=False)\n",
    "X_initial = X_train[initial_idx]\n",
    "y_initial = y_train[initial_idx]\n",
    "\n",
    "# generate the pool\n",
    "# remove the initial data from the training dataset\n",
    "X_pool = np.delete(X_train, initial_idx, axis=0)\n",
    "y_pool = np.delete(y_train, initial_idx, axis=0)"
   ]
  },
  {
   "cell_type": "code",
   "execution_count": 27,
   "id": "ec56ab66",
   "metadata": {
    "execution": {
     "iopub.execute_input": "2024-05-02T06:59:08.188665Z",
     "iopub.status.busy": "2024-05-02T06:59:08.188396Z",
     "iopub.status.idle": "2024-05-02T06:59:08.193688Z",
     "shell.execute_reply": "2024-05-02T06:59:08.192888Z"
    },
    "papermill": {
     "duration": 0.021863,
     "end_time": "2024-05-02T06:59:08.195612",
     "exception": false,
     "start_time": "2024-05-02T06:59:08.173749",
     "status": "completed"
    },
    "tags": []
   },
   "outputs": [
    {
     "data": {
      "text/plain": [
       "torch.Size([512, 121])"
      ]
     },
     "execution_count": 27,
     "metadata": {},
     "output_type": "execute_result"
    }
   ],
   "source": [
    "X_initial.shape"
   ]
  },
  {
   "cell_type": "code",
   "execution_count": 28,
   "id": "97f2fcd7",
   "metadata": {
    "execution": {
     "iopub.execute_input": "2024-05-02T06:59:08.224687Z",
     "iopub.status.busy": "2024-05-02T06:59:08.224426Z",
     "iopub.status.idle": "2024-05-02T06:59:08.228149Z",
     "shell.execute_reply": "2024-05-02T06:59:08.227304Z"
    },
    "papermill": {
     "duration": 0.020368,
     "end_time": "2024-05-02T06:59:08.230053",
     "exception": false,
     "start_time": "2024-05-02T06:59:08.209685",
     "status": "completed"
    },
    "tags": []
   },
   "outputs": [],
   "source": [
    "from modAL.models import ActiveLearner\n",
    "import modAL\n"
   ]
  },
  {
   "cell_type": "code",
   "execution_count": 29,
   "id": "82b1160c",
   "metadata": {
    "execution": {
     "iopub.execute_input": "2024-05-02T06:59:08.259273Z",
     "iopub.status.busy": "2024-05-02T06:59:08.259021Z",
     "iopub.status.idle": "2024-05-02T06:59:08.263785Z",
     "shell.execute_reply": "2024-05-02T06:59:08.262968Z"
    },
    "papermill": {
     "duration": 0.021506,
     "end_time": "2024-05-02T06:59:08.265733",
     "exception": false,
     "start_time": "2024-05-02T06:59:08.244227",
     "status": "completed"
    },
    "tags": []
   },
   "outputs": [],
   "source": [
    "from skorch.callbacks import Callback\n",
    "\n",
    "class LossRecorder(Callback):\n",
    "    def __init__(self):\n",
    "        self.train_loss_history = []\n",
    "\n",
    "    def on_epoch_end(self, net, **kwargs):\n",
    "        self.train_loss_history.append(net.history[-1, 'train_loss'])"
   ]
  },
  {
   "cell_type": "code",
   "execution_count": 30,
   "id": "038a9955",
   "metadata": {
    "execution": {
     "iopub.execute_input": "2024-05-02T06:59:08.294969Z",
     "iopub.status.busy": "2024-05-02T06:59:08.294680Z",
     "iopub.status.idle": "2024-05-02T06:59:08.299897Z",
     "shell.execute_reply": "2024-05-02T06:59:08.299005Z"
    },
    "papermill": {
     "duration": 0.021965,
     "end_time": "2024-05-02T06:59:08.301780",
     "exception": false,
     "start_time": "2024-05-02T06:59:08.279815",
     "status": "completed"
    },
    "tags": []
   },
   "outputs": [],
   "source": [
    "from torch.optim.lr_scheduler import StepLR\n",
    "\n",
    "# Define the learning rate\n",
    "learning_rate = 1e-3\n",
    "loss_recorder = LossRecorder()\n",
    "# # Initialize the optimizer with the learning rate\n",
    "# optimizer = torch.optim.Adam(model.parameters(), lr=learning_rate)\n",
    "\n",
    "# Define the learning rate scheduler\n",
    "# scheduler = StepLR(optimizer, step_size=30, gamma=0.5)\n",
    "classifier = NeuralNetClassifier(model,\n",
    "                                 criterion=nn.CrossEntropyLoss,\n",
    "                                 optimizer=torch.optim.Adam,\n",
    "                                 lr=learning_rate,\n",
    "                                 train_split=None,\n",
    "                                 verbose=1,\n",
    "                                 device=device,\n",
    "                                 callbacks=[loss_recorder],\n",
    "                                )"
   ]
  },
  {
   "cell_type": "code",
   "execution_count": 31,
   "id": "714e1f49",
   "metadata": {
    "execution": {
     "iopub.execute_input": "2024-05-02T06:59:08.330815Z",
     "iopub.status.busy": "2024-05-02T06:59:08.330554Z",
     "iopub.status.idle": "2024-05-02T06:59:09.239151Z",
     "shell.execute_reply": "2024-05-02T06:59:09.238068Z"
    },
    "papermill": {
     "duration": 0.925569,
     "end_time": "2024-05-02T06:59:09.241270",
     "exception": false,
     "start_time": "2024-05-02T06:59:08.315701",
     "status": "completed"
    },
    "tags": []
   },
   "outputs": [
    {
     "name": "stdout",
     "output_type": "stream",
     "text": [
      "  epoch    train_loss     dur\n",
      "-------  ------------  ------\n",
      "      1        \u001b[36m0.6917\u001b[0m  0.8591\n",
      "      2        \u001b[36m0.6884\u001b[0m  0.0188\n",
      "      3        \u001b[36m0.6872\u001b[0m  0.0186\n"
     ]
    }
   ],
   "source": [
    "# create the classifier\n",
    "learner = ActiveLearner(\n",
    "    estimator=classifier,\n",
    "    query_strategy= modAL.uncertainty.uncertainty_sampling,\n",
    "    X_training=X_initial,\n",
    "    y_training=y_initial,\n",
    "    epochs=3\n",
    ")"
   ]
  },
  {
   "cell_type": "code",
   "execution_count": 32,
   "id": "9f7b2a4d",
   "metadata": {
    "execution": {
     "iopub.execute_input": "2024-05-02T06:59:09.271984Z",
     "iopub.status.busy": "2024-05-02T06:59:09.271663Z",
     "iopub.status.idle": "2024-05-02T06:59:09.293754Z",
     "shell.execute_reply": "2024-05-02T06:59:09.292886Z"
    },
    "papermill": {
     "duration": 0.039589,
     "end_time": "2024-05-02T06:59:09.295682",
     "exception": false,
     "start_time": "2024-05-02T06:59:09.256093",
     "status": "completed"
    },
    "tags": []
   },
   "outputs": [
    {
     "data": {
      "text/plain": [
       "0.673828125"
      ]
     },
     "execution_count": 32,
     "metadata": {},
     "output_type": "execute_result"
    }
   ],
   "source": [
    "classifier.score(X_initial, y_initial)"
   ]
  },
  {
   "cell_type": "code",
   "execution_count": 33,
   "id": "71e6aa0c",
   "metadata": {
    "execution": {
     "iopub.execute_input": "2024-05-02T06:59:09.327107Z",
     "iopub.status.busy": "2024-05-02T06:59:09.326801Z",
     "iopub.status.idle": "2024-05-02T06:59:09.386358Z",
     "shell.execute_reply": "2024-05-02T06:59:09.385329Z"
    },
    "papermill": {
     "duration": 0.076969,
     "end_time": "2024-05-02T06:59:09.388316",
     "exception": false,
     "start_time": "2024-05-02T06:59:09.311347",
     "status": "completed"
    },
    "tags": []
   },
   "outputs": [
    {
     "data": {
      "text/plain": [
       "0.6113989637305699"
      ]
     },
     "execution_count": 33,
     "metadata": {},
     "output_type": "execute_result"
    }
   ],
   "source": [
    "classifier.score(X_test, y_test)"
   ]
  },
  {
   "cell_type": "code",
   "execution_count": 34,
   "id": "b8576248",
   "metadata": {
    "execution": {
     "iopub.execute_input": "2024-05-02T06:59:09.419269Z",
     "iopub.status.busy": "2024-05-02T06:59:09.418983Z",
     "iopub.status.idle": "2024-05-02T06:59:09.423104Z",
     "shell.execute_reply": "2024-05-02T06:59:09.422117Z"
    },
    "papermill": {
     "duration": 0.021934,
     "end_time": "2024-05-02T06:59:09.425183",
     "exception": false,
     "start_time": "2024-05-02T06:59:09.403249",
     "status": "completed"
    },
    "tags": []
   },
   "outputs": [],
   "source": [
    "from sklearn.metrics import f1_score"
   ]
  },
  {
   "cell_type": "code",
   "execution_count": 35,
   "id": "2253b4e9",
   "metadata": {
    "execution": {
     "iopub.execute_input": "2024-05-02T06:59:09.457454Z",
     "iopub.status.busy": "2024-05-02T06:59:09.457174Z",
     "iopub.status.idle": "2024-05-02T06:59:09.466472Z",
     "shell.execute_reply": "2024-05-02T06:59:09.465774Z"
    },
    "papermill": {
     "duration": 0.027041,
     "end_time": "2024-05-02T06:59:09.468305",
     "exception": false,
     "start_time": "2024-05-02T06:59:09.441264",
     "status": "completed"
    },
    "tags": []
   },
   "outputs": [],
   "source": [
    "def DeepAL(learner, strategy):\n",
    "    # create the classifier\n",
    "    learner.query_strategy = strategy\n",
    "    loss_rec = LossRecorder()\n",
    "    learner.callbacks=[loss_rec]\n",
    "    \n",
    "    # Active learning loop\n",
    "    n_queries = 25\n",
    "    sampling_history = []\n",
    "    training_loss_history = []\n",
    "    \n",
    "    global X_pool, y_pool, X_test, y_test\n",
    "    for idx in range(n_queries):\n",
    "        print('Query no. %d' % (idx + 1))\n",
    "        query_idx, _ = learner.query(X_pool, n_instances=10)\n",
    "        learner.teach(X_pool[query_idx], y_pool[query_idx],\n",
    "                      only_new=False, epochs=3)\n",
    "\n",
    "        # Record accuracy and loss\n",
    "        preds = learner.predict(X_test)\n",
    "        preds2 = np.round(preds)\n",
    "        model_accuracy = f1_score(preds2,y_test)\n",
    "        sampling_history.append(model_accuracy)\n",
    "        training_loss_history.extend(loss_rec.train_loss_history)  # Collect all epoch losses\n",
    "\n",
    "        print('Accuracy after query {n}: {acc:0.4f}'.format(n=idx + 1, acc=model_accuracy))\n",
    "        print('Training losses after query {n}: {losses}'.format(n=idx + 1, losses=loss_rec.train_loss_history))\n",
    "\n",
    "        # Reset the loss history for the next query\n",
    "        loss_rec.train_loss_history = []\n",
    "\n",
    "        # Remove queried instance from pool\n",
    "        X_pool = np.delete(X_pool, query_idx, axis=0)\n",
    "        y_pool = np.delete(y_pool, query_idx, axis=0)\n",
    "        \n",
    "    return sampling_history, training_loss_history, learner"
   ]
  },
  {
   "cell_type": "code",
   "execution_count": 36,
   "id": "ff39e39d",
   "metadata": {
    "execution": {
     "iopub.execute_input": "2024-05-02T06:59:09.503603Z",
     "iopub.status.busy": "2024-05-02T06:59:09.503297Z",
     "iopub.status.idle": "2024-05-02T06:59:09.508383Z",
     "shell.execute_reply": "2024-05-02T06:59:09.507628Z"
    },
    "papermill": {
     "duration": 0.023538,
     "end_time": "2024-05-02T06:59:09.510294",
     "exception": false,
     "start_time": "2024-05-02T06:59:09.486756",
     "status": "completed"
    },
    "tags": []
   },
   "outputs": [],
   "source": [
    "import numpy as np\n",
    "\n",
    "def random_sampling(classifier, X_pool, n_instances=1, **kwargs):\n",
    "    n_samples = len(X_pool)\n",
    "    if n_samples == 0:\n",
    "        return np.array([])\n",
    "    query_idx = np.random.choice(range(n_samples), size=n_instances, replace=False)\n",
    "    return query_idx"
   ]
  },
  {
   "cell_type": "code",
   "execution_count": 37,
   "id": "b0e2eaf1",
   "metadata": {
    "execution": {
     "iopub.execute_input": "2024-05-02T06:59:09.540626Z",
     "iopub.status.busy": "2024-05-02T06:59:09.540385Z",
     "iopub.status.idle": "2024-05-02T06:59:09.544560Z",
     "shell.execute_reply": "2024-05-02T06:59:09.543723Z"
    },
    "papermill": {
     "duration": 0.021721,
     "end_time": "2024-05-02T06:59:09.546451",
     "exception": false,
     "start_time": "2024-05-02T06:59:09.524730",
     "status": "completed"
    },
    "tags": []
   },
   "outputs": [],
   "source": [
    "from modAL.uncertainty import uncertainty_sampling, margin_sampling, entropy_sampling\n",
    "# from modAL.disagreement import vote_entropy, KL_max_disagreement\n",
    "# from modAL.multilabel import avg_confidence, avg_score\n",
    "\n",
    "strategies = [random_sampling, uncertainty_sampling, margin_sampling, entropy_sampling]"
   ]
  },
  {
   "cell_type": "code",
   "execution_count": 38,
   "id": "da89157a",
   "metadata": {
    "execution": {
     "iopub.execute_input": "2024-05-02T06:59:09.577365Z",
     "iopub.status.busy": "2024-05-02T06:59:09.576733Z",
     "iopub.status.idle": "2024-05-02T06:59:09.580451Z",
     "shell.execute_reply": "2024-05-02T06:59:09.579638Z"
    },
    "papermill": {
     "duration": 0.020959,
     "end_time": "2024-05-02T06:59:09.582396",
     "exception": false,
     "start_time": "2024-05-02T06:59:09.561437",
     "status": "completed"
    },
    "tags": []
   },
   "outputs": [],
   "source": [
    "import copy\n",
    "import pickle"
   ]
  },
  {
   "cell_type": "code",
   "execution_count": 39,
   "id": "b7f227e9",
   "metadata": {
    "execution": {
     "iopub.execute_input": "2024-05-02T06:59:09.612366Z",
     "iopub.status.busy": "2024-05-02T06:59:09.612108Z",
     "iopub.status.idle": "2024-05-02T06:59:32.394518Z",
     "shell.execute_reply": "2024-05-02T06:59:32.393446Z"
    },
    "papermill": {
     "duration": 22.799954,
     "end_time": "2024-05-02T06:59:32.396815",
     "exception": false,
     "start_time": "2024-05-02T06:59:09.596861",
     "status": "completed"
    },
    "tags": []
   },
   "outputs": [
    {
     "name": "stdout",
     "output_type": "stream",
     "text": [
      "Query no. 1\n",
      "Re-initializing optimizer.\n",
      "  epoch    train_loss     dur\n",
      "-------  ------------  ------\n",
      "      1        \u001b[36m0.6831\u001b[0m  0.0285\n",
      "      2        \u001b[36m0.6794\u001b[0m  0.0217\n",
      "      3        \u001b[36m0.6758\u001b[0m  0.0211\n",
      "Accuracy after query 1: 0.6930\n",
      "Training losses after query 1: []\n",
      "Query no. 2\n",
      "Re-initializing optimizer.\n",
      "  epoch    train_loss     dur\n",
      "-------  ------------  ------\n",
      "      1        \u001b[36m0.6717\u001b[0m  0.0242\n",
      "      2        \u001b[36m0.6673\u001b[0m  0.0213\n",
      "      3        \u001b[36m0.6631\u001b[0m  0.0208\n",
      "Accuracy after query 2: 0.7414\n",
      "Training losses after query 2: []\n",
      "Query no. 3\n",
      "Re-initializing optimizer.\n",
      "  epoch    train_loss     dur\n",
      "-------  ------------  ------\n",
      "      1        \u001b[36m0.6591\u001b[0m  0.0219\n",
      "      2        \u001b[36m0.6522\u001b[0m  0.0211\n",
      "      3        \u001b[36m0.6484\u001b[0m  0.0213\n",
      "Accuracy after query 3: 0.7780\n",
      "Training losses after query 3: []\n",
      "Query no. 4\n",
      "Re-initializing optimizer.\n",
      "  epoch    train_loss     dur\n",
      "-------  ------------  ------\n",
      "      1        \u001b[36m0.6444\u001b[0m  0.0218\n",
      "      2        \u001b[36m0.6332\u001b[0m  0.0215\n",
      "      3        \u001b[36m0.6281\u001b[0m  0.0213\n",
      "Accuracy after query 4: 0.8086\n",
      "Training losses after query 4: []\n",
      "Query no. 5\n",
      "Re-initializing optimizer.\n",
      "  epoch    train_loss     dur\n",
      "-------  ------------  ------\n",
      "      1        \u001b[36m0.6242\u001b[0m  0.0231\n",
      "      2        \u001b[36m0.6191\u001b[0m  0.0216\n",
      "      3        \u001b[36m0.6094\u001b[0m  0.0212\n",
      "Accuracy after query 5: 0.8378\n",
      "Training losses after query 5: []\n",
      "Query no. 6\n",
      "Re-initializing optimizer.\n",
      "  epoch    train_loss     dur\n",
      "-------  ------------  ------\n",
      "      1        \u001b[36m0.6046\u001b[0m  0.0220\n",
      "      2        \u001b[36m0.5940\u001b[0m  0.0217\n",
      "      3        \u001b[36m0.5830\u001b[0m  0.0214\n",
      "Accuracy after query 6: 0.8549\n",
      "Training losses after query 6: []\n",
      "Query no. 7\n",
      "Re-initializing optimizer.\n",
      "  epoch    train_loss     dur\n",
      "-------  ------------  ------\n",
      "      1        \u001b[36m0.5766\u001b[0m  0.0227\n",
      "      2        \u001b[36m0.5702\u001b[0m  0.0229\n",
      "      3        \u001b[36m0.5594\u001b[0m  0.0224\n",
      "Accuracy after query 7: 0.8691\n",
      "Training losses after query 7: []\n",
      "Query no. 8\n",
      "Re-initializing optimizer.\n",
      "  epoch    train_loss     dur\n",
      "-------  ------------  ------\n",
      "      1        \u001b[36m0.5532\u001b[0m  0.0227\n",
      "      2        \u001b[36m0.5386\u001b[0m  0.0225\n",
      "      3        \u001b[36m0.5281\u001b[0m  0.0220\n",
      "Accuracy after query 8: 0.8835\n",
      "Training losses after query 8: []\n",
      "Query no. 9\n",
      "Re-initializing optimizer.\n",
      "  epoch    train_loss     dur\n",
      "-------  ------------  ------\n",
      "      1        \u001b[36m0.5217\u001b[0m  0.0230\n",
      "      2        \u001b[36m0.5134\u001b[0m  0.0226\n",
      "      3        \u001b[36m0.5017\u001b[0m  0.0229\n",
      "Accuracy after query 9: 0.8965\n",
      "Training losses after query 9: []\n",
      "Query no. 10\n",
      "Re-initializing optimizer.\n",
      "  epoch    train_loss     dur\n",
      "-------  ------------  ------\n",
      "      1        \u001b[36m0.4926\u001b[0m  0.0232\n",
      "      2        \u001b[36m0.4819\u001b[0m  0.0230\n",
      "      3        \u001b[36m0.4732\u001b[0m  0.0228\n",
      "Accuracy after query 10: 0.9025\n",
      "Training losses after query 10: []\n",
      "Query no. 11\n",
      "Re-initializing optimizer.\n",
      "  epoch    train_loss     dur\n",
      "-------  ------------  ------\n",
      "      1        \u001b[36m0.4658\u001b[0m  0.0238\n",
      "      2        \u001b[36m0.4545\u001b[0m  0.0227\n",
      "      3        \u001b[36m0.4483\u001b[0m  0.0228\n",
      "Accuracy after query 11: 0.9104\n",
      "Training losses after query 11: []\n",
      "Query no. 12\n",
      "Re-initializing optimizer.\n",
      "  epoch    train_loss     dur\n",
      "-------  ------------  ------\n",
      "      1        \u001b[36m0.4441\u001b[0m  0.0233\n",
      "      2        \u001b[36m0.4326\u001b[0m  0.0233\n",
      "      3        \u001b[36m0.4284\u001b[0m  0.0228\n",
      "Accuracy after query 12: 0.9152\n",
      "Training losses after query 12: []\n",
      "Query no. 13\n",
      "Re-initializing optimizer.\n",
      "  epoch    train_loss     dur\n",
      "-------  ------------  ------\n",
      "      1        \u001b[36m0.4169\u001b[0m  0.0266\n",
      "      2        \u001b[36m0.4116\u001b[0m  0.0259\n",
      "      3        \u001b[36m0.4004\u001b[0m  0.0299\n",
      "Accuracy after query 13: 0.9138\n",
      "Training losses after query 13: []\n",
      "Query no. 14\n",
      "Re-initializing optimizer.\n",
      "  epoch    train_loss     dur\n",
      "-------  ------------  ------\n",
      "      1        \u001b[36m0.3977\u001b[0m  0.0272\n",
      "      2        \u001b[36m0.3910\u001b[0m  0.0309\n",
      "      3        \u001b[36m0.3849\u001b[0m  0.0376\n",
      "Accuracy after query 14: 0.9262\n",
      "Training losses after query 14: []\n",
      "Query no. 15\n",
      "Re-initializing optimizer.\n",
      "  epoch    train_loss     dur\n",
      "-------  ------------  ------\n",
      "      1        \u001b[36m0.3844\u001b[0m  0.0276\n",
      "      2        \u001b[36m0.3780\u001b[0m  0.0279\n",
      "      3        \u001b[36m0.3707\u001b[0m  0.0268\n",
      "Accuracy after query 15: 0.9295\n",
      "Training losses after query 15: []\n",
      "Query no. 16\n",
      "Re-initializing optimizer.\n",
      "  epoch    train_loss     dur\n",
      "-------  ------------  ------\n",
      "      1        \u001b[36m0.3666\u001b[0m  0.0286\n",
      "      2        \u001b[36m0.3640\u001b[0m  0.0265\n",
      "      3        \u001b[36m0.3626\u001b[0m  0.0261\n",
      "Accuracy after query 16: 0.9365\n",
      "Training losses after query 16: []\n",
      "Query no. 17\n",
      "Re-initializing optimizer.\n",
      "  epoch    train_loss     dur\n",
      "-------  ------------  ------\n",
      "      1        \u001b[36m0.3604\u001b[0m  0.0272\n",
      "      2        \u001b[36m0.3599\u001b[0m  0.0267\n",
      "      3        \u001b[36m0.3573\u001b[0m  0.0261\n",
      "Accuracy after query 17: 0.9412\n",
      "Training losses after query 17: []\n",
      "Query no. 18\n",
      "Re-initializing optimizer.\n",
      "  epoch    train_loss     dur\n",
      "-------  ------------  ------\n",
      "      1        \u001b[36m0.3490\u001b[0m  0.0268\n",
      "      2        \u001b[36m0.3440\u001b[0m  0.0263\n",
      "      3        0.3470  0.0261\n",
      "Accuracy after query 18: 0.9348\n",
      "Training losses after query 18: []\n",
      "Query no. 19\n",
      "Re-initializing optimizer.\n",
      "  epoch    train_loss     dur\n",
      "-------  ------------  ------\n",
      "      1        \u001b[36m0.3468\u001b[0m  0.0271\n",
      "      2        \u001b[36m0.3409\u001b[0m  0.0264\n",
      "      3        0.3436  0.0265\n",
      "Accuracy after query 19: 0.9416\n",
      "Training losses after query 19: []\n",
      "Query no. 20\n",
      "Re-initializing optimizer.\n",
      "  epoch    train_loss     dur\n",
      "-------  ------------  ------\n",
      "      1        \u001b[36m0.3398\u001b[0m  0.0272\n",
      "      2        \u001b[36m0.3386\u001b[0m  0.0271\n",
      "      3        0.3392  0.0271\n",
      "Accuracy after query 20: 0.9413\n",
      "Training losses after query 20: []\n",
      "Query no. 21\n",
      "Re-initializing optimizer.\n",
      "  epoch    train_loss     dur\n",
      "-------  ------------  ------\n",
      "      1        \u001b[36m0.3377\u001b[0m  0.0270\n",
      "      2        0.3395  0.0264\n",
      "      3        \u001b[36m0.3335\u001b[0m  0.0270\n",
      "Accuracy after query 21: 0.9467\n",
      "Training losses after query 21: []\n",
      "Query no. 22\n",
      "Re-initializing optimizer.\n",
      "  epoch    train_loss     dur\n",
      "-------  ------------  ------\n",
      "      1        \u001b[36m0.3336\u001b[0m  0.0279\n",
      "      2        0.3364  0.0271\n",
      "      3        \u001b[36m0.3306\u001b[0m  0.0275\n",
      "Accuracy after query 22: 0.9466\n",
      "Training losses after query 22: []\n",
      "Query no. 23\n",
      "Re-initializing optimizer.\n",
      "  epoch    train_loss     dur\n",
      "-------  ------------  ------\n",
      "      1        \u001b[36m0.3292\u001b[0m  0.0280\n",
      "      2        0.3321  0.0269\n",
      "      3        0.3303  0.0274\n",
      "Accuracy after query 23: 0.9466\n",
      "Training losses after query 23: []\n",
      "Query no. 24\n",
      "Re-initializing optimizer.\n",
      "  epoch    train_loss     dur\n",
      "-------  ------------  ------\n",
      "      1        \u001b[36m0.3380\u001b[0m  0.0282\n",
      "      2        \u001b[36m0.3318\u001b[0m  0.0271\n",
      "      3        \u001b[36m0.3283\u001b[0m  0.0269\n",
      "Accuracy after query 24: 0.9484\n",
      "Training losses after query 24: []\n",
      "Query no. 25\n",
      "Re-initializing optimizer.\n",
      "  epoch    train_loss     dur\n",
      "-------  ------------  ------\n",
      "      1        \u001b[36m0.3263\u001b[0m  0.0275\n",
      "      2        0.3282  0.0273\n",
      "      3        0.3276  0.0273\n",
      "Accuracy after query 25: 0.9508\n",
      "Training losses after query 25: []\n",
      "Query no. 1\n",
      "Re-initializing optimizer.\n",
      "  epoch    train_loss     dur\n",
      "-------  ------------  ------\n",
      "      1        \u001b[36m0.6845\u001b[0m  0.0245\n",
      "      2        \u001b[36m0.6785\u001b[0m  0.0217\n",
      "      3        \u001b[36m0.6735\u001b[0m  0.0212\n",
      "Accuracy after query 1: 0.6746\n",
      "Training losses after query 1: []\n",
      "Query no. 2\n",
      "Re-initializing optimizer.\n",
      "  epoch    train_loss     dur\n",
      "-------  ------------  ------\n",
      "      1        \u001b[36m0.6718\u001b[0m  0.0228\n",
      "      2        \u001b[36m0.6676\u001b[0m  0.0225\n",
      "      3        \u001b[36m0.6621\u001b[0m  0.0225\n",
      "Accuracy after query 2: 0.7283\n",
      "Training losses after query 2: []\n",
      "Query no. 3\n",
      "Re-initializing optimizer.\n",
      "  epoch    train_loss     dur\n",
      "-------  ------------  ------\n",
      "      1        \u001b[36m0.6587\u001b[0m  0.0229\n",
      "      2        \u001b[36m0.6538\u001b[0m  0.0222\n",
      "      3        \u001b[36m0.6477\u001b[0m  0.0223\n",
      "Accuracy after query 3: 0.7565\n",
      "Training losses after query 3: []\n",
      "Query no. 4\n",
      "Re-initializing optimizer.\n",
      "  epoch    train_loss     dur\n",
      "-------  ------------  ------\n",
      "      1        \u001b[36m0.6420\u001b[0m  0.0218\n",
      "      2        \u001b[36m0.6411\u001b[0m  0.0221\n",
      "      3        \u001b[36m0.6315\u001b[0m  0.0215\n",
      "Accuracy after query 4: 0.7987\n",
      "Training losses after query 4: []\n",
      "Query no. 5\n",
      "Re-initializing optimizer.\n",
      "  epoch    train_loss     dur\n",
      "-------  ------------  ------\n",
      "      1        \u001b[36m0.6232\u001b[0m  0.0228\n",
      "      2        \u001b[36m0.6166\u001b[0m  0.0214\n",
      "      3        \u001b[36m0.6114\u001b[0m  0.0222\n",
      "Accuracy after query 5: 0.8260\n",
      "Training losses after query 5: []\n",
      "Query no. 6\n",
      "Re-initializing optimizer.\n",
      "  epoch    train_loss     dur\n",
      "-------  ------------  ------\n",
      "      1        \u001b[36m0.6104\u001b[0m  0.0227\n",
      "      2        \u001b[36m0.5970\u001b[0m  0.0223\n",
      "      3        \u001b[36m0.5916\u001b[0m  0.0218\n",
      "Accuracy after query 6: 0.8565\n",
      "Training losses after query 6: []\n",
      "Query no. 7\n",
      "Re-initializing optimizer.\n",
      "  epoch    train_loss     dur\n",
      "-------  ------------  ------\n",
      "      1        \u001b[36m0.5844\u001b[0m  0.0233\n",
      "      2        \u001b[36m0.5732\u001b[0m  0.0227\n",
      "      3        \u001b[36m0.5669\u001b[0m  0.0217\n",
      "Accuracy after query 7: 0.8693\n",
      "Training losses after query 7: []\n",
      "Query no. 8\n",
      "Re-initializing optimizer.\n",
      "  epoch    train_loss     dur\n",
      "-------  ------------  ------\n",
      "      1        \u001b[36m0.5583\u001b[0m  0.0221\n",
      "      2        \u001b[36m0.5500\u001b[0m  0.0242\n",
      "      3        \u001b[36m0.5410\u001b[0m  0.0243\n",
      "Accuracy after query 8: 0.8787\n",
      "Training losses after query 8: []\n",
      "Query no. 9\n",
      "Re-initializing optimizer.\n",
      "  epoch    train_loss     dur\n",
      "-------  ------------  ------\n",
      "      1        \u001b[36m0.5315\u001b[0m  0.0244\n",
      "      2        \u001b[36m0.5205\u001b[0m  0.0220\n",
      "      3        \u001b[36m0.5145\u001b[0m  0.0224\n",
      "Accuracy after query 9: 0.8915\n",
      "Training losses after query 9: []\n",
      "Query no. 10\n",
      "Re-initializing optimizer.\n",
      "  epoch    train_loss     dur\n",
      "-------  ------------  ------\n",
      "      1        \u001b[36m0.5082\u001b[0m  0.0250\n",
      "      2        \u001b[36m0.4949\u001b[0m  0.0224\n",
      "      3        \u001b[36m0.4827\u001b[0m  0.0224\n",
      "Accuracy after query 10: 0.8983\n",
      "Training losses after query 10: []\n",
      "Query no. 11\n",
      "Re-initializing optimizer.\n",
      "  epoch    train_loss     dur\n",
      "-------  ------------  ------\n",
      "      1        \u001b[36m0.4786\u001b[0m  0.0243\n",
      "      2        \u001b[36m0.4699\u001b[0m  0.0230\n",
      "      3        \u001b[36m0.4580\u001b[0m  0.0228\n",
      "Accuracy after query 11: 0.9033\n",
      "Training losses after query 11: []\n",
      "Query no. 12\n",
      "Re-initializing optimizer.\n",
      "  epoch    train_loss     dur\n",
      "-------  ------------  ------\n",
      "      1        \u001b[36m0.4563\u001b[0m  0.0232\n",
      "      2        \u001b[36m0.4485\u001b[0m  0.0228\n",
      "      3        \u001b[36m0.4395\u001b[0m  0.0229\n",
      "Accuracy after query 12: 0.9107\n",
      "Training losses after query 12: []\n",
      "Query no. 13\n",
      "Re-initializing optimizer.\n",
      "  epoch    train_loss     dur\n",
      "-------  ------------  ------\n",
      "      1        \u001b[36m0.4345\u001b[0m  0.0265\n",
      "      2        \u001b[36m0.4253\u001b[0m  0.0255\n",
      "      3        \u001b[36m0.4234\u001b[0m  0.0256\n",
      "Accuracy after query 13: 0.9161\n",
      "Training losses after query 13: []\n",
      "Query no. 14\n",
      "Re-initializing optimizer.\n",
      "  epoch    train_loss     dur\n",
      "-------  ------------  ------\n",
      "      1        \u001b[36m0.4158\u001b[0m  0.0263\n",
      "      2        \u001b[36m0.4109\u001b[0m  0.0267\n",
      "      3        \u001b[36m0.4054\u001b[0m  0.0263\n",
      "Accuracy after query 14: 0.9186\n",
      "Training losses after query 14: []\n",
      "Query no. 15\n",
      "Re-initializing optimizer.\n",
      "  epoch    train_loss     dur\n",
      "-------  ------------  ------\n",
      "      1        \u001b[36m0.4034\u001b[0m  0.0277\n",
      "      2        \u001b[36m0.3960\u001b[0m  0.0263\n",
      "      3        \u001b[36m0.3919\u001b[0m  0.0259\n",
      "Accuracy after query 15: 0.9253\n",
      "Training losses after query 15: []\n",
      "Query no. 16\n",
      "Re-initializing optimizer.\n",
      "  epoch    train_loss     dur\n",
      "-------  ------------  ------\n",
      "      1        \u001b[36m0.3869\u001b[0m  0.0276\n",
      "      2        \u001b[36m0.3824\u001b[0m  0.0266\n",
      "      3        \u001b[36m0.3719\u001b[0m  0.0260\n",
      "Accuracy after query 16: 0.9338\n",
      "Training losses after query 16: []\n",
      "Query no. 17\n",
      "Re-initializing optimizer.\n",
      "  epoch    train_loss     dur\n",
      "-------  ------------  ------\n",
      "      1        \u001b[36m0.3768\u001b[0m  0.0277\n",
      "      2        \u001b[36m0.3682\u001b[0m  0.0268\n",
      "      3        \u001b[36m0.3652\u001b[0m  0.0266\n",
      "Accuracy after query 17: 0.9327\n",
      "Training losses after query 17: []\n",
      "Query no. 18\n",
      "Re-initializing optimizer.\n",
      "  epoch    train_loss     dur\n",
      "-------  ------------  ------\n",
      "      1        \u001b[36m0.3740\u001b[0m  0.0281\n",
      "      2        \u001b[36m0.3636\u001b[0m  0.0274\n",
      "      3        \u001b[36m0.3590\u001b[0m  0.0260\n",
      "Accuracy after query 18: 0.9430\n",
      "Training losses after query 18: []\n",
      "Query no. 19\n",
      "Re-initializing optimizer.\n",
      "  epoch    train_loss     dur\n",
      "-------  ------------  ------\n",
      "      1        \u001b[36m0.3624\u001b[0m  0.0273\n",
      "      2        \u001b[36m0.3589\u001b[0m  0.0269\n",
      "      3        \u001b[36m0.3518\u001b[0m  0.0269\n",
      "Accuracy after query 19: 0.9425\n",
      "Training losses after query 19: []\n",
      "Query no. 20\n",
      "Re-initializing optimizer.\n",
      "  epoch    train_loss     dur\n",
      "-------  ------------  ------\n",
      "      1        \u001b[36m0.3523\u001b[0m  0.0277\n",
      "      2        \u001b[36m0.3507\u001b[0m  0.0265\n",
      "      3        \u001b[36m0.3456\u001b[0m  0.0262\n",
      "Accuracy after query 20: 0.9439\n",
      "Training losses after query 20: []\n",
      "Query no. 21\n",
      "Re-initializing optimizer.\n",
      "  epoch    train_loss     dur\n",
      "-------  ------------  ------\n",
      "      1        \u001b[36m0.3460\u001b[0m  0.0291\n",
      "      2        \u001b[36m0.3452\u001b[0m  0.0269\n",
      "      3        \u001b[36m0.3433\u001b[0m  0.0274\n",
      "Accuracy after query 21: 0.9516\n",
      "Training losses after query 21: []\n",
      "Query no. 22\n",
      "Re-initializing optimizer.\n",
      "  epoch    train_loss     dur\n",
      "-------  ------------  ------\n",
      "      1        \u001b[36m0.3549\u001b[0m  0.0285\n",
      "      2        \u001b[36m0.3464\u001b[0m  0.0268\n",
      "      3        \u001b[36m0.3461\u001b[0m  0.0269\n",
      "Accuracy after query 22: 0.9500\n",
      "Training losses after query 22: []\n",
      "Query no. 23\n",
      "Re-initializing optimizer.\n",
      "  epoch    train_loss     dur\n",
      "-------  ------------  ------\n",
      "      1        \u001b[36m0.3485\u001b[0m  0.0277\n",
      "      2        \u001b[36m0.3429\u001b[0m  0.0274\n",
      "      3        \u001b[36m0.3352\u001b[0m  0.0277\n",
      "Accuracy after query 23: 0.9487\n",
      "Training losses after query 23: []\n",
      "Query no. 24\n",
      "Re-initializing optimizer.\n",
      "  epoch    train_loss     dur\n",
      "-------  ------------  ------\n",
      "      1        \u001b[36m0.3482\u001b[0m  0.0279\n",
      "      2        \u001b[36m0.3410\u001b[0m  0.0273\n",
      "      3        0.3410  0.0271\n",
      "Accuracy after query 24: 0.9542\n",
      "Training losses after query 24: []\n",
      "Query no. 25\n",
      "Re-initializing optimizer.\n",
      "  epoch    train_loss     dur\n",
      "-------  ------------  ------\n",
      "      1        \u001b[36m0.3450\u001b[0m  0.0278\n",
      "      2        \u001b[36m0.3367\u001b[0m  0.0275\n",
      "      3        0.3381  0.0278\n",
      "Accuracy after query 25: 0.9504\n",
      "Training losses after query 25: []\n",
      "Query no. 1\n",
      "Re-initializing optimizer.\n",
      "  epoch    train_loss     dur\n",
      "-------  ------------  ------\n",
      "      1        \u001b[36m0.6821\u001b[0m  0.0240\n",
      "      2        \u001b[36m0.6806\u001b[0m  0.0215\n",
      "      3        \u001b[36m0.6758\u001b[0m  0.0217\n",
      "Accuracy after query 1: 0.6895\n",
      "Training losses after query 1: []\n",
      "Query no. 2\n",
      "Re-initializing optimizer.\n",
      "  epoch    train_loss     dur\n",
      "-------  ------------  ------\n",
      "      1        \u001b[36m0.6734\u001b[0m  0.0237\n",
      "      2        \u001b[36m0.6675\u001b[0m  0.0217\n",
      "      3        \u001b[36m0.6636\u001b[0m  0.0212\n",
      "Accuracy after query 2: 0.7243\n",
      "Training losses after query 2: []\n",
      "Query no. 3\n",
      "Re-initializing optimizer.\n",
      "  epoch    train_loss     dur\n",
      "-------  ------------  ------\n",
      "      1        \u001b[36m0.6592\u001b[0m  0.0232\n",
      "      2        \u001b[36m0.6525\u001b[0m  0.0218\n",
      "      3        \u001b[36m0.6486\u001b[0m  0.0222\n",
      "Accuracy after query 3: 0.7635\n",
      "Training losses after query 3: []\n",
      "Query no. 4\n",
      "Re-initializing optimizer.\n",
      "  epoch    train_loss     dur\n",
      "-------  ------------  ------\n",
      "      1        \u001b[36m0.6429\u001b[0m  0.0231\n",
      "      2        \u001b[36m0.6376\u001b[0m  0.0218\n",
      "      3        \u001b[36m0.6279\u001b[0m  0.0224\n",
      "Accuracy after query 4: 0.7994\n",
      "Training losses after query 4: []\n",
      "Query no. 5\n",
      "Re-initializing optimizer.\n",
      "  epoch    train_loss     dur\n",
      "-------  ------------  ------\n",
      "      1        \u001b[36m0.6262\u001b[0m  0.0238\n",
      "      2        \u001b[36m0.6188\u001b[0m  0.0214\n",
      "      3        \u001b[36m0.6117\u001b[0m  0.0215\n",
      "Accuracy after query 5: 0.8359\n",
      "Training losses after query 5: []\n",
      "Query no. 6\n",
      "Re-initializing optimizer.\n",
      "  epoch    train_loss     dur\n",
      "-------  ------------  ------\n",
      "      1        \u001b[36m0.6062\u001b[0m  0.0223\n",
      "      2        \u001b[36m0.5990\u001b[0m  0.0226\n",
      "      3        \u001b[36m0.5889\u001b[0m  0.0222\n",
      "Accuracy after query 6: 0.8567\n",
      "Training losses after query 6: []\n",
      "Query no. 7\n",
      "Re-initializing optimizer.\n",
      "  epoch    train_loss     dur\n",
      "-------  ------------  ------\n",
      "      1        \u001b[36m0.5840\u001b[0m  0.0231\n",
      "      2        \u001b[36m0.5730\u001b[0m  0.0223\n",
      "      3        \u001b[36m0.5656\u001b[0m  0.0225\n",
      "Accuracy after query 7: 0.8710\n",
      "Training losses after query 7: []\n",
      "Query no. 8\n",
      "Re-initializing optimizer.\n",
      "  epoch    train_loss     dur\n",
      "-------  ------------  ------\n",
      "      1        \u001b[36m0.5540\u001b[0m  0.0261\n",
      "      2        \u001b[36m0.5495\u001b[0m  0.0222\n",
      "      3        \u001b[36m0.5384\u001b[0m  0.0225\n",
      "Accuracy after query 8: 0.8855\n",
      "Training losses after query 8: []\n",
      "Query no. 9\n",
      "Re-initializing optimizer.\n",
      "  epoch    train_loss     dur\n",
      "-------  ------------  ------\n",
      "      1        \u001b[36m0.5342\u001b[0m  0.0235\n",
      "      2        \u001b[36m0.5232\u001b[0m  0.0230\n",
      "      3        \u001b[36m0.5086\u001b[0m  0.0228\n",
      "Accuracy after query 9: 0.8971\n",
      "Training losses after query 9: []\n",
      "Query no. 10\n",
      "Re-initializing optimizer.\n",
      "  epoch    train_loss     dur\n",
      "-------  ------------  ------\n",
      "      1        \u001b[36m0.5045\u001b[0m  0.0236\n",
      "      2        \u001b[36m0.4964\u001b[0m  0.0232\n",
      "      3        \u001b[36m0.4853\u001b[0m  0.0227\n",
      "Accuracy after query 10: 0.9012\n",
      "Training losses after query 10: []\n",
      "Query no. 11\n",
      "Re-initializing optimizer.\n",
      "  epoch    train_loss     dur\n",
      "-------  ------------  ------\n",
      "      1        \u001b[36m0.4789\u001b[0m  0.0235\n",
      "      2        \u001b[36m0.4710\u001b[0m  0.0235\n",
      "      3        \u001b[36m0.4619\u001b[0m  0.0228\n",
      "Accuracy after query 11: 0.9007\n",
      "Training losses after query 11: []\n",
      "Query no. 12\n",
      "Re-initializing optimizer.\n",
      "  epoch    train_loss     dur\n",
      "-------  ------------  ------\n",
      "      1        \u001b[36m0.4613\u001b[0m  0.0235\n",
      "      2        \u001b[36m0.4482\u001b[0m  0.0231\n",
      "      3        \u001b[36m0.4390\u001b[0m  0.0230\n",
      "Accuracy after query 12: 0.9033\n",
      "Training losses after query 12: []\n",
      "Query no. 13\n",
      "Re-initializing optimizer.\n",
      "  epoch    train_loss     dur\n",
      "-------  ------------  ------\n",
      "      1        \u001b[36m0.4398\u001b[0m  0.0258\n",
      "      2        \u001b[36m0.4258\u001b[0m  0.0254\n",
      "      3        \u001b[36m0.4211\u001b[0m  0.0253\n",
      "Accuracy after query 13: 0.9107\n",
      "Training losses after query 13: []\n",
      "Query no. 14\n",
      "Re-initializing optimizer.\n",
      "  epoch    train_loss     dur\n",
      "-------  ------------  ------\n",
      "      1        \u001b[36m0.4198\u001b[0m  0.0268\n",
      "      2        \u001b[36m0.4103\u001b[0m  0.0259\n",
      "      3        \u001b[36m0.4017\u001b[0m  0.0263\n",
      "Accuracy after query 14: 0.9168\n",
      "Training losses after query 14: []\n",
      "Query no. 15\n",
      "Re-initializing optimizer.\n",
      "  epoch    train_loss     dur\n",
      "-------  ------------  ------\n",
      "      1        \u001b[36m0.4081\u001b[0m  0.0276\n",
      "      2        \u001b[36m0.4004\u001b[0m  0.0257\n",
      "      3        \u001b[36m0.3924\u001b[0m  0.0256\n",
      "Accuracy after query 15: 0.9112\n",
      "Training losses after query 15: []\n",
      "Query no. 16\n",
      "Re-initializing optimizer.\n",
      "  epoch    train_loss     dur\n",
      "-------  ------------  ------\n",
      "      1        \u001b[36m0.3963\u001b[0m  0.0278\n",
      "      2        \u001b[36m0.3942\u001b[0m  0.0262\n",
      "      3        \u001b[36m0.3798\u001b[0m  0.0257\n",
      "Accuracy after query 16: 0.9300\n",
      "Training losses after query 16: []\n",
      "Query no. 17\n",
      "Re-initializing optimizer.\n",
      "  epoch    train_loss     dur\n",
      "-------  ------------  ------\n",
      "      1        \u001b[36m0.3818\u001b[0m  0.0301\n",
      "      2        \u001b[36m0.3753\u001b[0m  0.0277\n",
      "      3        \u001b[36m0.3711\u001b[0m  0.0274\n",
      "Accuracy after query 17: 0.9380\n",
      "Training losses after query 17: []\n",
      "Query no. 18\n",
      "Re-initializing optimizer.\n",
      "  epoch    train_loss     dur\n",
      "-------  ------------  ------\n",
      "      1        \u001b[36m0.3731\u001b[0m  0.0284\n",
      "      2        \u001b[36m0.3723\u001b[0m  0.0277\n",
      "      3        \u001b[36m0.3658\u001b[0m  0.0273\n",
      "Accuracy after query 18: 0.9386\n",
      "Training losses after query 18: []\n",
      "Query no. 19\n",
      "Re-initializing optimizer.\n",
      "  epoch    train_loss     dur\n",
      "-------  ------------  ------\n",
      "      1        \u001b[36m0.3718\u001b[0m  0.0274\n",
      "      2        \u001b[36m0.3629\u001b[0m  0.0265\n",
      "      3        \u001b[36m0.3582\u001b[0m  0.0269\n",
      "Accuracy after query 19: 0.9421\n",
      "Training losses after query 19: []\n",
      "Query no. 20\n",
      "Re-initializing optimizer.\n",
      "  epoch    train_loss     dur\n",
      "-------  ------------  ------\n",
      "      1        \u001b[36m0.3624\u001b[0m  0.0283\n",
      "      2        \u001b[36m0.3551\u001b[0m  0.0267\n",
      "      3        \u001b[36m0.3550\u001b[0m  0.0267\n",
      "Accuracy after query 20: 0.9496\n",
      "Training losses after query 20: []\n",
      "Query no. 21\n",
      "Re-initializing optimizer.\n",
      "  epoch    train_loss     dur\n",
      "-------  ------------  ------\n",
      "      1        \u001b[36m0.3541\u001b[0m  0.0277\n",
      "      2        \u001b[36m0.3451\u001b[0m  0.0272\n",
      "      3        \u001b[36m0.3448\u001b[0m  0.0272\n",
      "Accuracy after query 21: 0.9511\n",
      "Training losses after query 21: []\n",
      "Query no. 22\n",
      "Re-initializing optimizer.\n",
      "  epoch    train_loss     dur\n",
      "-------  ------------  ------\n",
      "      1        \u001b[36m0.3525\u001b[0m  0.0274\n",
      "      2        \u001b[36m0.3442\u001b[0m  0.0272\n",
      "      3        \u001b[36m0.3423\u001b[0m  0.0271\n",
      "Accuracy after query 22: 0.9556\n",
      "Training losses after query 22: []\n",
      "Query no. 23\n",
      "Re-initializing optimizer.\n",
      "  epoch    train_loss     dur\n",
      "-------  ------------  ------\n",
      "      1        \u001b[36m0.3486\u001b[0m  0.0265\n",
      "      2        \u001b[36m0.3416\u001b[0m  0.0273\n",
      "      3        0.3448  0.0276\n",
      "Accuracy after query 23: 0.9563\n",
      "Training losses after query 23: []\n",
      "Query no. 24\n",
      "Re-initializing optimizer.\n",
      "  epoch    train_loss     dur\n",
      "-------  ------------  ------\n",
      "      1        \u001b[36m0.3444\u001b[0m  0.0275\n",
      "      2        0.3489  0.0269\n",
      "      3        \u001b[36m0.3374\u001b[0m  0.0273\n",
      "Accuracy after query 24: 0.9543\n",
      "Training losses after query 24: []\n",
      "Query no. 25\n",
      "Re-initializing optimizer.\n",
      "  epoch    train_loss     dur\n",
      "-------  ------------  ------\n",
      "      1        \u001b[36m0.3426\u001b[0m  0.0278\n",
      "      2        \u001b[36m0.3392\u001b[0m  0.0278\n",
      "      3        \u001b[36m0.3345\u001b[0m  0.0273\n",
      "Accuracy after query 25: 0.9559\n",
      "Training losses after query 25: []\n",
      "Query no. 1\n",
      "Re-initializing optimizer.\n",
      "  epoch    train_loss     dur\n",
      "-------  ------------  ------\n",
      "      1        \u001b[36m0.6836\u001b[0m  0.0248\n",
      "      2        \u001b[36m0.6784\u001b[0m  0.0213\n",
      "      3        \u001b[36m0.6762\u001b[0m  0.0216\n",
      "Accuracy after query 1: 0.6735\n",
      "Training losses after query 1: []\n",
      "Query no. 2\n",
      "Re-initializing optimizer.\n",
      "  epoch    train_loss     dur\n",
      "-------  ------------  ------\n",
      "      1        \u001b[36m0.6711\u001b[0m  0.0249\n",
      "      2        \u001b[36m0.6673\u001b[0m  0.0229\n",
      "      3        \u001b[36m0.6623\u001b[0m  0.0222\n",
      "Accuracy after query 2: 0.7276\n",
      "Training losses after query 2: []\n",
      "Query no. 3\n",
      "Re-initializing optimizer.\n",
      "  epoch    train_loss     dur\n",
      "-------  ------------  ------\n",
      "      1        \u001b[36m0.6593\u001b[0m  0.0279\n",
      "      2        \u001b[36m0.6530\u001b[0m  0.0253\n",
      "      3        \u001b[36m0.6483\u001b[0m  0.0230\n",
      "Accuracy after query 3: 0.7569\n",
      "Training losses after query 3: []\n",
      "Query no. 4\n",
      "Re-initializing optimizer.\n",
      "  epoch    train_loss     dur\n",
      "-------  ------------  ------\n",
      "      1        \u001b[36m0.6448\u001b[0m  0.0297\n",
      "      2        \u001b[36m0.6393\u001b[0m  0.0238\n",
      "      3        \u001b[36m0.6311\u001b[0m  0.0225\n",
      "Accuracy after query 4: 0.7844\n",
      "Training losses after query 4: []\n",
      "Query no. 5\n",
      "Re-initializing optimizer.\n",
      "  epoch    train_loss     dur\n",
      "-------  ------------  ------\n",
      "      1        \u001b[36m0.6278\u001b[0m  0.0244\n",
      "      2        \u001b[36m0.6180\u001b[0m  0.0219\n",
      "      3        \u001b[36m0.6118\u001b[0m  0.0219\n",
      "Accuracy after query 5: 0.8198\n",
      "Training losses after query 5: []\n",
      "Query no. 6\n",
      "Re-initializing optimizer.\n",
      "  epoch    train_loss     dur\n",
      "-------  ------------  ------\n",
      "      1        \u001b[36m0.6084\u001b[0m  0.0230\n",
      "      2        \u001b[36m0.5966\u001b[0m  0.0220\n",
      "      3        \u001b[36m0.5913\u001b[0m  0.0220\n",
      "Accuracy after query 6: 0.8642\n",
      "Training losses after query 6: []\n",
      "Query no. 7\n",
      "Re-initializing optimizer.\n",
      "  epoch    train_loss     dur\n",
      "-------  ------------  ------\n",
      "      1        \u001b[36m0.5868\u001b[0m  0.0231\n",
      "      2        \u001b[36m0.5717\u001b[0m  0.0221\n",
      "      3        \u001b[36m0.5667\u001b[0m  0.0224\n",
      "Accuracy after query 7: 0.8776\n",
      "Training losses after query 7: []\n",
      "Query no. 8\n",
      "Re-initializing optimizer.\n",
      "  epoch    train_loss     dur\n",
      "-------  ------------  ------\n",
      "      1        \u001b[36m0.5598\u001b[0m  0.0245\n",
      "      2        \u001b[36m0.5459\u001b[0m  0.0222\n",
      "      3        \u001b[36m0.5365\u001b[0m  0.0226\n",
      "Accuracy after query 8: 0.8882\n",
      "Training losses after query 8: []\n",
      "Query no. 9\n",
      "Re-initializing optimizer.\n",
      "  epoch    train_loss     dur\n",
      "-------  ------------  ------\n",
      "      1        \u001b[36m0.5309\u001b[0m  0.0274\n",
      "      2        \u001b[36m0.5176\u001b[0m  0.0222\n",
      "      3        \u001b[36m0.5085\u001b[0m  0.0226\n",
      "Accuracy after query 9: 0.8978\n",
      "Training losses after query 9: []\n",
      "Query no. 10\n",
      "Re-initializing optimizer.\n",
      "  epoch    train_loss     dur\n",
      "-------  ------------  ------\n",
      "      1        \u001b[36m0.5007\u001b[0m  0.0234\n",
      "      2        \u001b[36m0.4910\u001b[0m  0.0224\n",
      "      3        \u001b[36m0.4798\u001b[0m  0.0228\n",
      "Accuracy after query 10: 0.8968\n",
      "Training losses after query 10: []\n",
      "Query no. 11\n",
      "Re-initializing optimizer.\n",
      "  epoch    train_loss     dur\n",
      "-------  ------------  ------\n",
      "      1        \u001b[36m0.4783\u001b[0m  0.0233\n",
      "      2        \u001b[36m0.4653\u001b[0m  0.0235\n",
      "      3        \u001b[36m0.4530\u001b[0m  0.0229\n",
      "Accuracy after query 11: 0.9040\n",
      "Training losses after query 11: []\n",
      "Query no. 12\n",
      "Re-initializing optimizer.\n",
      "  epoch    train_loss     dur\n",
      "-------  ------------  ------\n",
      "      1        \u001b[36m0.4519\u001b[0m  0.0241\n",
      "      2        \u001b[36m0.4426\u001b[0m  0.0232\n",
      "      3        \u001b[36m0.4321\u001b[0m  0.0241\n",
      "Accuracy after query 12: 0.9120\n",
      "Training losses after query 12: []\n",
      "Query no. 13\n",
      "Re-initializing optimizer.\n",
      "  epoch    train_loss     dur\n",
      "-------  ------------  ------\n",
      "      1        \u001b[36m0.4319\u001b[0m  0.0264\n",
      "      2        \u001b[36m0.4198\u001b[0m  0.0258\n",
      "      3        0.4203  0.0260\n",
      "Accuracy after query 13: 0.9194\n",
      "Training losses after query 13: []\n",
      "Query no. 14\n",
      "Re-initializing optimizer.\n",
      "  epoch    train_loss     dur\n",
      "-------  ------------  ------\n",
      "      1        \u001b[36m0.4164\u001b[0m  0.0272\n",
      "      2        \u001b[36m0.4073\u001b[0m  0.0261\n",
      "      3        \u001b[36m0.4014\u001b[0m  0.0268\n",
      "Accuracy after query 14: 0.9200\n",
      "Training losses after query 14: []\n",
      "Query no. 15\n",
      "Re-initializing optimizer.\n",
      "  epoch    train_loss     dur\n",
      "-------  ------------  ------\n",
      "      1        \u001b[36m0.4018\u001b[0m  0.0266\n",
      "      2        \u001b[36m0.3974\u001b[0m  0.0262\n",
      "      3        \u001b[36m0.3885\u001b[0m  0.0265\n",
      "Accuracy after query 15: 0.9217\n",
      "Training losses after query 15: []\n",
      "Query no. 16\n",
      "Re-initializing optimizer.\n",
      "  epoch    train_loss     dur\n",
      "-------  ------------  ------\n",
      "      1        \u001b[36m0.3858\u001b[0m  0.0277\n",
      "      2        \u001b[36m0.3829\u001b[0m  0.0271\n",
      "      3        \u001b[36m0.3776\u001b[0m  0.0258\n",
      "Accuracy after query 16: 0.9266\n",
      "Training losses after query 16: []\n",
      "Query no. 17\n",
      "Re-initializing optimizer.\n",
      "  epoch    train_loss     dur\n",
      "-------  ------------  ------\n",
      "      1        \u001b[36m0.3762\u001b[0m  0.0278\n",
      "      2        \u001b[36m0.3758\u001b[0m  0.0258\n",
      "      3        \u001b[36m0.3708\u001b[0m  0.0261\n",
      "Accuracy after query 17: 0.9319\n",
      "Training losses after query 17: []\n",
      "Query no. 18\n",
      "Re-initializing optimizer.\n",
      "  epoch    train_loss     dur\n",
      "-------  ------------  ------\n",
      "      1        \u001b[36m0.3698\u001b[0m  0.0277\n",
      "      2        \u001b[36m0.3643\u001b[0m  0.0261\n",
      "      3        \u001b[36m0.3604\u001b[0m  0.0270\n",
      "Accuracy after query 18: 0.9397\n",
      "Training losses after query 18: []\n",
      "Query no. 19\n",
      "Re-initializing optimizer.\n",
      "  epoch    train_loss     dur\n",
      "-------  ------------  ------\n",
      "      1        \u001b[36m0.3625\u001b[0m  0.0279\n",
      "      2        \u001b[36m0.3604\u001b[0m  0.0263\n",
      "      3        \u001b[36m0.3504\u001b[0m  0.0265\n",
      "Accuracy after query 19: 0.9407\n",
      "Training losses after query 19: []\n",
      "Query no. 20\n",
      "Re-initializing optimizer.\n",
      "  epoch    train_loss     dur\n",
      "-------  ------------  ------\n",
      "      1        \u001b[36m0.3572\u001b[0m  0.0271\n",
      "      2        \u001b[36m0.3548\u001b[0m  0.0272\n",
      "      3        \u001b[36m0.3464\u001b[0m  0.0269\n",
      "Accuracy after query 20: 0.9427\n",
      "Training losses after query 20: []\n",
      "Query no. 21\n",
      "Re-initializing optimizer.\n",
      "  epoch    train_loss     dur\n",
      "-------  ------------  ------\n",
      "      1        \u001b[36m0.3541\u001b[0m  0.0281\n",
      "      2        \u001b[36m0.3463\u001b[0m  0.0275\n",
      "      3        0.3474  0.0298\n",
      "Accuracy after query 21: 0.9508\n",
      "Training losses after query 21: []\n",
      "Query no. 22\n",
      "Re-initializing optimizer.\n",
      "  epoch    train_loss     dur\n",
      "-------  ------------  ------\n",
      "      1        \u001b[36m0.3507\u001b[0m  0.0281\n",
      "      2        \u001b[36m0.3473\u001b[0m  0.0273\n",
      "      3        \u001b[36m0.3393\u001b[0m  0.0280\n",
      "Accuracy after query 22: 0.9444\n",
      "Training losses after query 22: []\n",
      "Query no. 23\n",
      "Re-initializing optimizer.\n",
      "  epoch    train_loss     dur\n",
      "-------  ------------  ------\n",
      "      1        \u001b[36m0.3436\u001b[0m  0.0284\n",
      "      2        0.3456  0.0281\n",
      "      3        \u001b[36m0.3345\u001b[0m  0.0279\n",
      "Accuracy after query 23: 0.9502\n",
      "Training losses after query 23: []\n",
      "Query no. 24\n",
      "Re-initializing optimizer.\n",
      "  epoch    train_loss     dur\n",
      "-------  ------------  ------\n",
      "      1        \u001b[36m0.3454\u001b[0m  0.0274\n",
      "      2        \u001b[36m0.3439\u001b[0m  0.0273\n",
      "      3        \u001b[36m0.3388\u001b[0m  0.0277\n",
      "Accuracy after query 24: 0.9547\n",
      "Training losses after query 24: []\n",
      "Query no. 25\n",
      "Re-initializing optimizer.\n",
      "  epoch    train_loss     dur\n",
      "-------  ------------  ------\n",
      "      1        \u001b[36m0.3437\u001b[0m  0.0285\n",
      "      2        \u001b[36m0.3416\u001b[0m  0.0275\n",
      "      3        \u001b[36m0.3316\u001b[0m  0.0275\n",
      "Accuracy after query 25: 0.9560\n",
      "Training losses after query 25: []\n"
     ]
    }
   ],
   "source": [
    "exps = {}\n",
    "for strat in strategies:\n",
    "    learner_copy = copy.deepcopy(learner)\n",
    "    exps[strat.__name__] = DeepAL(learner_copy, strat)\n",
    "\n",
    "    with open(f'{strat.__name__}_model.pkl', 'wb') as f:\n",
    "        pickle.dump(exps[strat.__name__][-1].estimator.module, f)"
   ]
  },
  {
   "cell_type": "code",
   "execution_count": 40,
   "id": "abc660a9",
   "metadata": {
    "execution": {
     "iopub.execute_input": "2024-05-02T06:59:32.503405Z",
     "iopub.status.busy": "2024-05-02T06:59:32.502681Z",
     "iopub.status.idle": "2024-05-02T06:59:32.506905Z",
     "shell.execute_reply": "2024-05-02T06:59:32.506050Z"
    },
    "papermill": {
     "duration": 0.058572,
     "end_time": "2024-05-02T06:59:32.508930",
     "exception": false,
     "start_time": "2024-05-02T06:59:32.450358",
     "status": "completed"
    },
    "tags": []
   },
   "outputs": [],
   "source": [
    "import matplotlib.pyplot as plt\n",
    "import matplotlib as mpl"
   ]
  },
  {
   "cell_type": "code",
   "execution_count": 41,
   "id": "3683b609",
   "metadata": {
    "execution": {
     "iopub.execute_input": "2024-05-02T06:59:32.615419Z",
     "iopub.status.busy": "2024-05-02T06:59:32.615081Z",
     "iopub.status.idle": "2024-05-02T06:59:33.846663Z",
     "shell.execute_reply": "2024-05-02T06:59:33.845727Z"
    },
    "papermill": {
     "duration": 1.287343,
     "end_time": "2024-05-02T06:59:33.848906",
     "exception": false,
     "start_time": "2024-05-02T06:59:32.561563",
     "status": "completed"
    },
    "tags": []
   },
   "outputs": [
    {
     "data": {
      "image/png": "[encoded data removed]",
      "text/plain": [
       "<Figure size 1105x780 with 1 Axes>"
      ]
     },
     "metadata": {},
     "output_type": "display_data"
    },
    {
     "data": {
      "image/png": "[encoded data removed]",
      "text/plain": [
       "<Figure size 1105x780 with 1 Axes>"
      ]
     },
     "metadata": {},
     "output_type": "display_data"
    },
    {
     "data": {
      "image/png": "[encoded data removed]",
      "text/plain": [
       "<Figure size 1105x780 with 1 Axes>"
      ]
     },
     "metadata": {},
     "output_type": "display_data"
    },
    {
     "data": {
      "image/png": "[encoded data removed]",
      "text/plain": [
       "<Figure size 1105x780 with 1 Axes>"
      ]
     },
     "metadata": {},
     "output_type": "display_data"
    }
   ],
   "source": [
    "for exp in exps.values():\n",
    "    # Plot our performance over time.\n",
    "    fig, ax = plt.subplots(figsize=(8.5, 6), dpi=130)\n",
    "\n",
    "    ax.plot(exp[0])\n",
    "    ax.scatter(range(len(exp[0])), exp[0], s=13)\n",
    "\n",
    "    ax.xaxis.set_major_locator(mpl.ticker.MaxNLocator(nbins=5, integer=True))\n",
    "    ax.yaxis.set_major_locator(mpl.ticker.MaxNLocator(nbins=10))\n",
    "    ax.yaxis.set_major_formatter(mpl.ticker.PercentFormatter(xmax=1))\n",
    "\n",
    "    ax.set_ylim(bottom=0, top=1)\n",
    "    ax.grid(True)\n",
    "\n",
    "    ax.set_title(f'{exp[-1].query_strategy.__name__}')\n",
    "    ax.set_xlabel('Query iteration')\n",
    "    ax.set_ylabel('Classification F1 Score')\n",
    "plt.show()"
   ]
  },
  {
   "cell_type": "code",
   "execution_count": 42,
   "id": "36151855",
   "metadata": {
    "execution": {
     "iopub.execute_input": "2024-05-02T06:59:33.959243Z",
     "iopub.status.busy": "2024-05-02T06:59:33.958940Z",
     "iopub.status.idle": "2024-05-02T06:59:34.356730Z",
     "shell.execute_reply": "2024-05-02T06:59:34.355820Z"
    },
    "papermill": {
     "duration": 0.455614,
     "end_time": "2024-05-02T06:59:34.359314",
     "exception": false,
     "start_time": "2024-05-02T06:59:33.903700",
     "status": "completed"
    },
    "tags": []
   },
   "outputs": [
    {
     "data": {
      "image/png": "[encoded data removed]",
      "text/plain": [
       "<Figure size 1105x780 with 1 Axes>"
      ]
     },
     "metadata": {},
     "output_type": "display_data"
    }
   ],
   "source": [
    "# Create a single figure and axes object\n",
    "fig, ax = plt.subplots(figsize=(8.5, 6), dpi=130)\n",
    "\n",
    "# Iterate through each experiment and plot on the same axes\n",
    "for exp in exps.values():\n",
    "    ax.plot(exp[0], label=exp[-1].query_strategy.__name__)  # Add label for legend\n",
    "    ax.scatter(range(len(exp[0])), exp[0], s=13)\n",
    "\n",
    "# Set up axes formatting (same as before)\n",
    "ax.xaxis.set_major_locator(mpl.ticker.MaxNLocator(nbins=5, integer=True))\n",
    "ax.yaxis.set_major_locator(mpl.ticker.MaxNLocator(nbins=10))\n",
    "ax.yaxis.set_major_formatter(mpl.ticker.PercentFormatter(xmax=1))\n",
    "ax.set_ylim(bottom=0, top=1)\n",
    "ax.grid(True)\n",
    "\n",
    "# Set up labels and title\n",
    "ax.set_xlabel('Query iteration')\n",
    "ax.set_ylabel('Classification F1 Score')\n",
    "ax.set_title('Performance of Different Query Strategies')  # More general title\n",
    "\n",
    "# Add a legend to distinguish between different lines\n",
    "ax.legend()\n",
    "\n",
    "# Show the plot\n",
    "plt.show()"
   ]
  },
  {
   "cell_type": "code",
   "execution_count": null,
   "id": "6d381881",
   "metadata": {
    "papermill": {
     "duration": 0.055022,
     "end_time": "2024-05-02T06:59:34.470482",
     "exception": false,
     "start_time": "2024-05-02T06:59:34.415460",
     "status": "completed"
    },
    "tags": []
   },
   "outputs": [],
   "source": []
  }
 ],
 "metadata": {
  "kaggle": {
   "accelerator": "gpu",
   "dataSources": [
    {
     "datasetId": 1422521,
     "sourceId": 2355807,
     "sourceType": "datasetVersion"
    }
   ],
   "dockerImageVersionId": 30698,
   "isGpuEnabled": true,
   "isInternetEnabled": true,
   "language": "python",
   "sourceType": "notebook"
  },
  "kernelspec": {
   "display_name": "Python 3",
   "language": "python",
   "name": "python3"
  },
  "language_info": {
   "codemirror_mode": {
    "name": "ipython",
    "version": 3
   },
   "file_extension": ".py",
   "mimetype": "text/x-python",
   "name": "python",
   "nbconvert_exporter": "python",
   "pygments_lexer": "ipython3",
   "version": "3.10.13"
  },
  "papermill": {
   "default_parameters": {},
   "duration": 94.21502,
   "end_time": "2024-05-02T06:59:37.152158",
   "environment_variables": {},
   "exception": null,
   "input_path": "__notebook__.ipynb",
   "output_path": "__notebook__.ipynb",
   "parameters": {},
   "start_time": "2024-05-02T06:58:02.937138",
   "version": "2.5.0"
  }
 },
 "nbformat": 4,
 "nbformat_minor": 5
}
